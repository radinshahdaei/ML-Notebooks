{
  "cells": [
    {
      "cell_type": "markdown",
      "metadata": {
        "id": "_DUFZKTunDhD"
      },
      "source": [
        "\n",
        "<br>\n",
        "<font>\n",
        "<div dir=ltr align=center>\n",
        "<img src=\"https://cdn.freebiesupply.com/logos/large/2x/sharif-logo-png-transparent.png\" width=150 height=150> <br>\n",
        "<font color=0F5298 size=7>\n",
        "Artificial Intelligence <br>\n",
        "<font color=2565AE size=5>\n",
        "Computer Engineering Department <br>\n",
        "Spring 2024<br>\n",
        "<font color=3C99D size=5>\n",
        "Practical Assignment 4 - Multilayer Perceptron <br>\n",
        "<font color=696880 size=4>\n",
        "Sina Namazi\n",
        "\n",
        "\n",
        "____"
      ]
    },
    {
      "cell_type": "markdown",
      "metadata": {
        "id": "wVyae02fnDhF"
      },
      "source": [
        "## Personal Data\n",
        "\n",
        "Please fill in your details below to help us keep track of your submission."
      ]
    },
    {
      "cell_type": "code",
      "execution_count": 1,
      "metadata": {
        "id": "p1dSTzKhnDhG"
      },
      "outputs": [],
      "source": [
        "student_number = '401106096'\n",
        "Name = 'Radin'\n",
        "Last_Name = 'Shahdaei'"
      ]
    },
    {
      "cell_type": "markdown",
      "metadata": {
        "id": "oe3aez2EnDhG"
      },
      "source": [
        "## Libraries"
      ]
    },
    {
      "cell_type": "code",
      "execution_count": 2,
      "metadata": {
        "id": "RHWgu_y0nDhH"
      },
      "outputs": [],
      "source": [
        "from tqdm import tqdm\n",
        "import numpy as np\n",
        "import matplotlib.pyplot as plt\n",
        "\n",
        "import torch\n",
        "import torchvision\n",
        "import torchvision.transforms as transforms"
      ]
    },
    {
      "cell_type": "markdown",
      "metadata": {
        "id": "DNUYUn9cnDhH"
      },
      "source": [
        "## Introduction:\n",
        "\n",
        "In this Notebook, we introduce the fundamental concepts of neural networks, focusing specifically on the architecture and functionality of Multilayer Perceptrons (MLPs). MLPs are a class of feedforward artificial neural networks that consist of multiple layers of nodes, each layer fully connected to the next. These networks are widely used for a variety of machine learning tasks, including classification and regression. The core idea behind MLPs is to learn complex functions by adjusting the weights and biases of the network through a process known as training, typically involving backpropagation and an optimization algorithm like gradient descent.\n",
        "\n",
        "\n",
        "To provide a practical context to these concepts, we will be working with the MNIST dataset, a large collection of handwritten digits commonly used for training and testing in the field of machine learning. The dataset consists of 60,000 training images and 10,000 test images, each being a 28x28 pixel grayscale image of digits ranging from 0 to 9. The simplicity and size of the MNIST dataset make it an excellent choice for exploring and understanding the mechanics of neural networks, particularly in recognizing patterns and classifying images. Throughout this notebook, we will apply MLPs to this dataset, exploring every step of the process from data preparation and exploration to model training and evaluation."
      ]
    },
    {
      "cell_type": "markdown",
      "metadata": {
        "id": "i-POuOVJnDhH"
      },
      "source": [
        "## Getting the Data\n",
        "\n",
        "\n",
        "The following Python cell performs two primary actions: it loads the MNIST dataset and then splits it into two distinct sets - one for training and one for testing.\n",
        "\n",
        "- `X_train, Y_train`: These variables represent the training set. `X_train` contains the images of handwritten digits, and `Y_train` contains the corresponding labels that indicate the actual digit each image represents (0 through 9).\n",
        "- `X_test, Y_test`: Similarly, these variables represent the test set. `X_test` includes the images reserved for testing the model's performance, while `Y_test` contains the labels for these images.\n",
        "\n",
        "By executing the next cell, you will download the dataset and prepare these variables.\n",
        "\n",
        "**There is no need to change the following cell.**\n"
      ]
    },
    {
      "cell_type": "code",
      "execution_count": 3,
      "metadata": {
        "colab": {
          "base_uri": "https://localhost:8080/"
        },
        "id": "5NTYL3HRnDhI",
        "outputId": "b107c832-458c-4d1f-eeba-a8bb18a253c2"
      },
      "outputs": [
        {
          "name": "stdout",
          "output_type": "stream",
          "text": [
            "Downloading http://yann.lecun.com/exdb/mnist/train-images-idx3-ubyte.gz\n",
            "Failed to download (trying next):\n",
            "HTTP Error 403: Forbidden\n",
            "\n",
            "Downloading https://ossci-datasets.s3.amazonaws.com/mnist/train-images-idx3-ubyte.gz\n",
            "Downloading https://ossci-datasets.s3.amazonaws.com/mnist/train-images-idx3-ubyte.gz to ./data/MNIST/raw/train-images-idx3-ubyte.gz\n"
          ]
        },
        {
          "name": "stderr",
          "output_type": "stream",
          "text": [
            "100%|██████████| 9912422/9912422 [00:00<00:00, 41220554.94it/s]\n"
          ]
        },
        {
          "name": "stdout",
          "output_type": "stream",
          "text": [
            "Extracting ./data/MNIST/raw/train-images-idx3-ubyte.gz to ./data/MNIST/raw\n",
            "\n",
            "Downloading http://yann.lecun.com/exdb/mnist/train-labels-idx1-ubyte.gz\n",
            "Failed to download (trying next):\n",
            "HTTP Error 403: Forbidden\n",
            "\n",
            "Downloading https://ossci-datasets.s3.amazonaws.com/mnist/train-labels-idx1-ubyte.gz\n",
            "Downloading https://ossci-datasets.s3.amazonaws.com/mnist/train-labels-idx1-ubyte.gz to ./data/MNIST/raw/train-labels-idx1-ubyte.gz\n"
          ]
        },
        {
          "name": "stderr",
          "output_type": "stream",
          "text": [
            "100%|██████████| 28881/28881 [00:00<00:00, 4731308.59it/s]"
          ]
        },
        {
          "name": "stdout",
          "output_type": "stream",
          "text": [
            "Extracting ./data/MNIST/raw/train-labels-idx1-ubyte.gz to ./data/MNIST/raw\n",
            "\n",
            "Downloading http://yann.lecun.com/exdb/mnist/t10k-images-idx3-ubyte.gz\n",
            "Failed to download (trying next):\n",
            "HTTP Error 403: Forbidden\n",
            "\n",
            "Downloading https://ossci-datasets.s3.amazonaws.com/mnist/t10k-images-idx3-ubyte.gz\n"
          ]
        },
        {
          "name": "stderr",
          "output_type": "stream",
          "text": [
            "\n"
          ]
        },
        {
          "name": "stdout",
          "output_type": "stream",
          "text": [
            "Downloading https://ossci-datasets.s3.amazonaws.com/mnist/t10k-images-idx3-ubyte.gz to ./data/MNIST/raw/t10k-images-idx3-ubyte.gz\n"
          ]
        },
        {
          "name": "stderr",
          "output_type": "stream",
          "text": [
            "100%|██████████| 1648877/1648877 [00:00<00:00, 12129759.24it/s]\n"
          ]
        },
        {
          "name": "stdout",
          "output_type": "stream",
          "text": [
            "Extracting ./data/MNIST/raw/t10k-images-idx3-ubyte.gz to ./data/MNIST/raw\n",
            "\n",
            "Downloading http://yann.lecun.com/exdb/mnist/t10k-labels-idx1-ubyte.gz\n",
            "Failed to download (trying next):\n",
            "HTTP Error 403: Forbidden\n",
            "\n",
            "Downloading https://ossci-datasets.s3.amazonaws.com/mnist/t10k-labels-idx1-ubyte.gz\n",
            "Downloading https://ossci-datasets.s3.amazonaws.com/mnist/t10k-labels-idx1-ubyte.gz to ./data/MNIST/raw/t10k-labels-idx1-ubyte.gz\n"
          ]
        },
        {
          "name": "stderr",
          "output_type": "stream",
          "text": [
            "100%|██████████| 4542/4542 [00:00<00:00, 7355416.51it/s]\n"
          ]
        },
        {
          "name": "stdout",
          "output_type": "stream",
          "text": [
            "Extracting ./data/MNIST/raw/t10k-labels-idx1-ubyte.gz to ./data/MNIST/raw\n",
            "\n"
          ]
        }
      ],
      "source": [
        "# Load the MNIST dataset\n",
        "transform = transforms.Compose([\n",
        "    transforms.ToTensor()\n",
        "])\n",
        "\n",
        "trainset = torchvision.datasets.MNIST(root='./data', train=True, download=True)\n",
        "testset = torchvision.datasets.MNIST(root='./data', train=False, download=True)\n",
        "\n",
        "X_train_torch = trainset.data\n",
        "Y_train_torch = trainset.targets\n",
        "\n",
        "X_test_torch = testset.data\n",
        "Y_test_torch = testset.targets\n",
        "\n",
        "\n",
        "\n",
        "# Training Images:\n",
        "X_train = X_train_torch.numpy()\n",
        "# Training Labels:\n",
        "Y_train = Y_train_torch.numpy()\n",
        "\n",
        "# Test Images:\n",
        "X_test = X_test_torch.numpy()\n",
        "# Test Labels:\n",
        "Y_test = Y_test_torch.numpy()"
      ]
    },
    {
      "cell_type": "markdown",
      "metadata": {
        "id": "rTd5HshmnDhI"
      },
      "source": [
        "## Exploratory Data Analysis: (5 Points)\n",
        "\n",
        "Before diving into model building, it's crucial to perform an exploratory data analysis (EDA) to understand the characteristics and structure of the dataset at hand. EDA involves visualizing the data, identifying patterns, understanding the distribution of variables, and spotting any anomalies or outliers. This step not only helps in making informed decisions about data preprocessing and model design but also provides insights that could be useful for feature engineering.\n",
        "\n",
        "Here are two examples of EDA for the MNIST dataset, which consists of handwritten digits:\n",
        "\n",
        "1. **Visualizing Sample Images**:\n",
        "   - Display a few sample images from the dataset to get a sense of what the handwritten digits look like. This can help in understanding the variety of handwriting styles and the clarity of images.\n",
        "\n",
        "</br>\n",
        "\n",
        "2. **Checking the Distribution of Classes**:\n",
        "   - Plot the frequency of each digit (0-9) in the dataset to check if the dataset is balanced. This is crucial as an imbalanced dataset may need special treatment during training, such as class weighting or resampling techniques."
      ]
    },
    {
      "cell_type": "code",
      "execution_count": 4,
      "metadata": {
        "colab": {
          "base_uri": "https://localhost:8080/",
          "height": 956
        },
        "id": "72FRqSmAnDhI",
        "outputId": "b4d5c97f-6a0c-48b8-d650-ee4a058fbc12"
      },
      "outputs": [
        {
          "data": {
            "image/png": "[encoded data removed]",
            "text/plain": [
              "<Figure size 1000x500 with 10 Axes>"
            ]
          },
          "metadata": {},
          "output_type": "display_data"
        },
        {
          "data": {
            "image/png": "[encoded data removed]",
            "text/plain": [
              "<Figure size 800x500 with 1 Axes>"
            ]
          },
          "metadata": {},
          "output_type": "display_data"
        }
      ],
      "source": [
        "# Visualizing Sample Images\n",
        "plt.figure(figsize=(10, 5))\n",
        "for i in range(10):\n",
        "    plt.subplot(2, 5, i + 1)\n",
        "    plt.imshow(X_train[i], cmap='gray')\n",
        "    plt.title(f\"Label: {Y_train[i]}\")\n",
        "    plt.axis('off')\n",
        "plt.suptitle(\"Sample Images from the MNIST Dataset\", y=1.05)\n",
        "plt.show()\n",
        "\n",
        "# Checking the Distribution of Classes\n",
        "class_counts = np.bincount(Y_train)\n",
        "digits = np.arange(10)\n",
        "\n",
        "plt.figure(figsize=(8, 5))\n",
        "plt.bar(digits, class_counts, color='skyblue')\n",
        "plt.title('Distribution of Classes in the MNIST Dataset')\n",
        "plt.xlabel('Digit')\n",
        "plt.ylabel('Frequency')\n",
        "plt.xticks(digits)\n",
        "plt.grid(axis='y', linestyle='--', alpha=0.7)\n",
        "plt.show()"
      ]
    },
    {
      "cell_type": "markdown",
      "metadata": {
        "id": "AanGwyKBnDhJ"
      },
      "source": [
        "## Data Split: (5 Points)\n",
        "\n",
        "To evaluate the performance of our MLP model effectively, we divide the dataset into three distinct sets: training, validation, and test sets. The training set is used to train the model, where the model learns to make predictions by adjusting its parameters. The validation set is used to fine-tune the hyperparameters and make informed decisions about the model architecture without overfitting to the training data. Finally, the test set is utilized to assess the model's performance on unseen data, providing an unbiased evaluation of its ability to generalize.\n",
        "\n",
        "In the next cell, you should take the initial training set `(X_train, Y_train)` and further split it into validation `(X_val, Y_val)` and revised training sets `(X_train, Y_train)` using a 1:5 ratio. This process ensures that we have a separate dataset to validate the model's performance during the training phase, helping us to avoid overfitting and ensuring that our model generalizes well to new, unseen data."
      ]
    },
    {
      "cell_type": "code",
      "execution_count": 5,
      "metadata": {
        "colab": {
          "base_uri": "https://localhost:8080/"
        },
        "id": "IHpZLb7fnDhJ",
        "outputId": "1a331366-0685-4d60-ac3a-aef697226835"
      },
      "outputs": [
        {
          "name": "stdout",
          "output_type": "stream",
          "text": [
            "Training set shapes:\n",
            "X_train: (48000, 28, 28)\n",
            "Y_train: (48000,)\n",
            "\n",
            "Validation set shapes:\n",
            "X_val: (12000, 28, 28)\n",
            "Y_val: (12000,)\n"
          ]
        }
      ],
      "source": [
        "from sklearn.model_selection import train_test_split\n",
        "\n",
        "# Splitting training set into training and validation sets\n",
        "X_train, X_val, Y_train, Y_val = train_test_split(X_train, Y_train, test_size=0.2, random_state=42)\n",
        "\n",
        "# Confirming the shapes of the new datasets\n",
        "print(\"Training set shapes:\")\n",
        "print(\"X_train:\", X_train.shape)\n",
        "print(\"Y_train:\", Y_train.shape)\n",
        "print(\"\\nValidation set shapes:\")\n",
        "print(\"X_val:\", X_val.shape)\n",
        "print(\"Y_val:\", Y_val.shape)"
      ]
    },
    {
      "cell_type": "markdown",
      "metadata": {
        "id": "2ugcxTTPnDhJ"
      },
      "source": [
        "## Preparation of the Data:\n",
        "\n",
        "Data preparation is a critical step in the machine learning pipeline. This process includes cleaning the data, handling missing values, normalizing or standardizing the data, and reshaping it into a format suitable for the neural network. Proper data preparation ensures that the model learns effectively and achieves high performance.\n",
        "\n",
        "In the next cell, we will focus on preparing the MNIST dataset for our MLP model. Given that the MNIST images are grayscale with pixel values ranging from 0 to 255, we will start by normalizing these values to a range of 0 to 1. This normalization helps in speeding up the convergence of the neural network by providing a consistent scale of input values. Additionally, we will reshape the images from their original 2D shape (28x28 pixels) into a flat 1D vector of 784 elements. This step is necessary because our MLP model expects input vectors of a fixed size.\n",
        "\n",
        "**There is no need to change the following cell.**\n"
      ]
    },
    {
      "cell_type": "code",
      "execution_count": 6,
      "metadata": {
        "id": "Js_M4mvdnDhJ"
      },
      "outputs": [],
      "source": [
        "# Normalize the images\n",
        "X_train = X_train / 255\n",
        "X_val = X_val / 255\n",
        "X_test = X_test / 255\n",
        "\n",
        "# Flatten the images\n",
        "X_train = X_train.reshape(X_train.shape[0], -1)\n",
        "X_val = X_val.reshape(X_val.shape[0], -1)\n",
        "X_test = X_test.reshape(X_test.shape[0], -1)"
      ]
    },
    {
      "cell_type": "markdown",
      "metadata": {
        "id": "o2yMS0BtnDhJ"
      },
      "source": [
        "## Preparation of Model Parameters:\n",
        "\n",
        "Initializing the parameters of an MLP, including weights and biases, is an important step that can significantly affect the model's learning process. Proper initialization can help in preventing issues related to vanishing or exploding gradients, thereby ensuring a stable and efficient training process.\n",
        "\n",
        "In the next cell, we define the architecture of our neural network and initialize its weights and biases. Our network consists of an input layer, three hidden layers, and an output layer, structured as follows:\n",
        "\n",
        "- `n_inp`: Represents the number of neurons in the input layer, determined by the number of features in `X_train`.\n",
        "- `n_hid1`, `n_hid2`, `n_hid3`: Denote the number of neurons in the first, second, and third hidden layers, respectively, set to 256, 128, and 64 for a progressively narrowing architecture.\n",
        "- `n_out`: The number of neurons in the output layer, set to 10, corresponding to the number of possible classifications (for example, digits 0-9 in the MNIST dataset).\n",
        "\n",
        "For each layer, we initialize the weights and biases as follows:\n",
        "- `W1`, `W2`, `W3`, `W4`: Weight matrices for the first, second, third, and output layers, initialized with small random values drawn from a normal distribution, scaled by 0.01 to keep the values small.\n",
        "- `B1`, `B2`, `B3`, `B4`: Bias vectors for each layer, also initialized with small random values, similarly scaled.\n",
        "\n",
        "A random seed (`manual_seed(42)`) is set for reproducibility, ensuring that the random numbers generated are the same each time the code is run. This aids in debugging and comparing model performances across different runs.\n",
        "\n",
        "**There is no need to change the following cell.**"
      ]
    },
    {
      "cell_type": "code",
      "execution_count": 7,
      "metadata": {
        "id": "Oe3nRZR5nDhJ"
      },
      "outputs": [],
      "source": [
        "# Defining the Sizes of the Layers\n",
        "n_inp = X_train.shape[1]\n",
        "n_hid1 = 256\n",
        "n_hid2 = 128\n",
        "n_hid3 = 64\n",
        "n_out = 10\n",
        "\n",
        "# Seed for Reproducibility\n",
        "g = torch.Generator().manual_seed(42)\n",
        "\n",
        "# Weights and Biases of the First Layer:\n",
        "W1 = torch.randn(n_inp, n_hid1, generator=g, requires_grad=True) * 0.01\n",
        "B1 = torch.randn(1, n_hid1, generator=g, requires_grad=True) * 0.01\n",
        "\n",
        "# Weights and Biases of the Second Layer:\n",
        "W2 = torch.randn(n_hid1, n_hid2, generator=g, requires_grad=True) * 0.01\n",
        "B2 = torch.randn(1, n_hid2, generator=g, requires_grad=True) * 0.01\n",
        "\n",
        "# Weights and Biases of the Third Layer:\n",
        "W3 = torch.randn(n_hid2, n_hid3, generator=g, requires_grad=True) * 0.01\n",
        "B3 = torch.randn(1, n_hid3, generator=g, requires_grad=True) * 0.01\n",
        "\n",
        "# Weights and Biases of the Fourth Layer:\n",
        "W4 = torch.randn(n_hid3, n_out, generator=g, requires_grad=True) * 0.01\n",
        "B4 = torch.randn(1, n_out, generator=g, requires_grad=True) * 0.01"
      ]
    },
    {
      "cell_type": "markdown",
      "metadata": {
        "id": "BySfHC62nDhJ"
      },
      "source": [
        "## Forward Pass:\n",
        "\n",
        "The forward pass refers to the computation process where the input data is passed through the network layer by layer to produce the output. At each layer, the input is transformed using a linear transformation (weighted sum followed by the addition of a bias term) and then typically passed through a non-linear activation function. The output of the final layer is considered the prediction of the network. This step is crucial for both training and evaluation of the model.\n",
        "\n",
        "In the next cell, we will illustrate the forward pass using our MLP model designed for the MNIST dataset. We will walk through the process step by step, starting with the input layer, moving through the hidden layers, and finally to the output layer. For each layer, we will apply the linear transformation, followed by an activation function for hidden layers. The final layer will use the softmax function to produce a probability distribution over the 10 possible digit classes.\n",
        "\n",
        "\n",
        "Here's a step-by-step breakdown:\n",
        "\n",
        "- `batch_size = 32`: This specifies the number of training examples to process simultaneously, which affects the efficiency of training and the generalization capability of the model.\n",
        "\n",
        "**Layer 1:**\n",
        "- `PreActivation1`: Result of the linear transformation applied to the input, computed as `sample_inp @ W1 + B1`, resulting in dimensions `[batch_size, n_hid1]`.\n",
        "- `Hidden1`: Output after applying the sigmoid activation function to `PreActivation1`, maintaining dimensions `[batch_size, n_hid1]`.\n",
        "\n",
        "**Layer 2:**\n",
        "- `PreActivation2`: Linear transformation for the second layer, using `Hidden1` as input, resulting in dimensions `[batch_size, n_hid2]`.\n",
        "- `Hidden2`: Output after applying the ReLU activation function to `PreActivation2`, with dimensions `[batch_size, n_hid2]`.\n",
        "\n",
        "**Layer 3:**\n",
        "- `PreActivation3`: Linear transformation for the third layer, with dimensions `[batch_size, n_hid3]`.\n",
        "- `Hidden3`: Output after applying the tanh activation function to `PreActivation3`, maintaining dimensions `[batch_size, n_hid3]`.\n",
        "\n",
        "**Layer 4 (Output Layer):**\n",
        "- `Logits`: Result of the final linear transformation applied to `Hidden3`, with dimensions `[batch_size, n_out]`, where `n_out` is the number of output classes.\n",
        "- `Probs`: Probabilities for each class, obtained by applying the softmax function to `Logits`, with dimensions `[batch_size, n_out]`. The softmax ensures these probabilities sum to 1 for each sample.\n",
        "\n",
        "**Loss Computation:**\n",
        "- `LogProbs`: Logarithm of `Probs`, necessary for computing cross-entropy loss, maintaining dimensions `[batch_size, n_out]`.\n",
        "- `Loss`: The cross-entropy loss for the batch, calculated by taking the negative log likelihood of the correct class probabilities (indexed by `sample_out`) and averaging, resulting in a single scalar value. This metric quantifies the model's prediction accuracy, guiding parameter adjustments during training.\n",
        "\n",
        "**There is no need to change the following cell.**\n",
        "\n"
      ]
    },
    {
      "cell_type": "code",
      "execution_count": 8,
      "metadata": {
        "id": "f1fsT1hYnDhJ"
      },
      "outputs": [],
      "source": [
        "batch_size = 32\n",
        "sample_inp = torch.Tensor(X_train[:batch_size])\n",
        "sample_out = torch.Tensor(Y_train[:batch_size]).int()\n",
        "\n",
        "# Forward pass\n",
        "\n",
        "# Layer 1\n",
        "# Applying Linear transformation\n",
        "PreActivation1 = sample_inp @ W1 + B1\n",
        "# Applying Sigmoid activation function\n",
        "Hidden1 = torch.sigmoid(PreActivation1)\n",
        "\n",
        "# Layer 2\n",
        "# Applying Linear transformation\n",
        "PreActivation2 = Hidden1 @ W2 + B2\n",
        "# Applying ReLU activation function\n",
        "Hidden2 = torch.relu(PreActivation2)\n",
        "\n",
        "# Layer 3\n",
        "# Applying Linear transformation\n",
        "PreActivation3 = Hidden2 @ W3 + B3\n",
        "# Applying Tanh activation function\n",
        "Hidden3 = torch.tanh(PreActivation3)\n",
        "\n",
        "\n",
        "# Layer 4\n",
        "# Applying Linear transformation\n",
        "Logits = Hidden3 @ W4 + B4\n",
        "# Applying Softmax activation function\n",
        "Exp4 = torch.exp(Logits)\n",
        "Sum4 = torch.sum(Exp4, dim=1).view(-1, 1)\n",
        "SumInverse4 = 1 / Sum4\n",
        "Probs = Exp4 * SumInverse4\n",
        "\n",
        "# Loss computation (Cross-entropy loss)\n",
        "LogProbs = Probs.log()\n",
        "Loss = -LogProbs[range(batch_size), sample_out].mean()"
      ]
    },
    {
      "cell_type": "markdown",
      "metadata": {
        "id": "uLgtBzmQnDhK"
      },
      "source": [
        "## Backward Pass and Gradient Computation:\n",
        "\n",
        "Following the forward pass, the next critical phase in training a neural network is the backward pass, which involves computing the gradients of the loss function with respect to each parameter in the model. This process, often facilitated by automatic differentiation libraries like PyTorch's `autograd`, allows us to understand how each parameter needs to be adjusted to minimize the loss.\n",
        "\n",
        "In the next cell, we will compute the gradients of our model using `autograd` and save all the values as numpy arrays.\n",
        "\n",
        "\n",
        "\n",
        "\n",
        "Here's a breakdown of the variables in the code:\n",
        "\n",
        "- **`parameters`:** A list containing all the trainable parameters of the network, including the weights (`W1`, `W2`, `W3`, `W4`) and biases (`B1`, `B2`, `B3`, `B4`) of each layer.\n",
        "\n",
        "- **`middle_values`:** A list of intermediate values computed during the forward pass. These include pre-activation values (`PreActivation1`, `PreActivation2`, `PreActivation3`), hidden layer outputs (`Hidden1`, `Hidden2`, `Hidden3`), and other intermediate computations (`Logits`, `Exp4`, `Sum4`, `SumInverse4`, `Probs`, `LogProbs`) crucial for the loss calculation.\n",
        "\n",
        "- **Weights (`W1`, `W2`, `W3`, `W4`):** These matrices represent the wights of different layers of our model saved as NumPy arrays.\n",
        "\n",
        "- **Biases (`B1`, `B2`, `B3`, `B4`):** These matrices represent the biases of different layers of our model saved as NumPy arrays.\n",
        "\n",
        "- **Weight Gradients (`W1_grad`, `W2_grad`, `W3_grad`, `W4_grad`):** After the backward pass, `W1_grad` holds the gradients of the loss function with respect to `W1`, and similarly for the other weight matrices. All these matrices are saved as NumPy arrays.\n",
        "\n",
        "- **Bias Gradients (`B1_grad`, `B2_grad`, `B3_grad`, `B4_grad`):** Similar to weight gradients, these vectors contain the gradients of the loss with respect to the biases. `B1_grad` is associated with the biases of the first hidden layer, `B2_grad` with the second, and so on. All these vectors are saved as NumPy arrays.\n",
        "\n",
        "**There is no need to change the following cell.**\n"
      ]
    },
    {
      "cell_type": "code",
      "execution_count": 9,
      "metadata": {
        "id": "7SgTizvYnDhK"
      },
      "outputs": [],
      "source": [
        "parameters = [W1, B1, W2, B2, W3, B3, W4, B4]\n",
        "\n",
        "middle_values = [PreActivation1, Hidden1,\n",
        "                 PreActivation2, Hidden2,\n",
        "                 PreActivation3, Hidden3,\n",
        "                 Logits, Exp4, Sum4, SumInverse4, Probs,\n",
        "                 LogProbs]\n",
        "\n",
        "# Backward pass (autograd)\n",
        "for p in parameters:\n",
        "    p.grad = None\n",
        "    p.retain_grad()\n",
        "for m in middle_values:\n",
        "    m.retain_grad()\n",
        "Loss.backward()\n",
        "\n",
        "Loss = np.array(Loss.detach())\n",
        "\n",
        "LogProbs_grad = np.array(LogProbs.grad)\n",
        "LogProbs = np.array(LogProbs.detach())\n",
        "\n",
        "Probs_grad = np.array(Probs.grad)\n",
        "Probs = np.array(Probs.detach())\n",
        "\n",
        "SumInverse4_grad = np.array(SumInverse4.grad)\n",
        "SumInverse4 = np.array(SumInverse4.detach())\n",
        "\n",
        "Sum4_grad = np.array(Sum4.grad)\n",
        "Sum4 = np.array(Sum4.detach())\n",
        "\n",
        "Exp4_grad = np.array(Exp4.grad)\n",
        "Exp4 = np.array(Exp4.detach())\n",
        "\n",
        "Logits_grad = np.array(Logits.grad)\n",
        "Logits = np.array(Logits.detach())\n",
        "\n",
        "B4_grad = np.array(B4.grad)\n",
        "B4 = np.array(B4.detach())\n",
        "\n",
        "W4_grad = np.array(W4.grad)\n",
        "W4 = np.array(W4.detach())\n",
        "\n",
        "Hidden3_grad = np.array(Hidden3.grad)\n",
        "Hidden3 = np.array(Hidden3.detach())\n",
        "\n",
        "PreActivation3_grad = np.array(PreActivation3.grad)\n",
        "PreActivation3 = np.array(PreActivation3.detach())\n",
        "\n",
        "B3_grad = np.array(B3.grad)\n",
        "B3 = np.array(B3.detach())\n",
        "\n",
        "W3_grad = np.array(W3.grad)\n",
        "W3 = np.array(W3.detach())\n",
        "\n",
        "Hidden2_grad = np.array(Hidden2.grad)\n",
        "Hidden2 = np.array(Hidden2.detach())\n",
        "\n",
        "PreActivation2_grad = np.array(PreActivation2.grad)\n",
        "PreActivation2 = np.array(PreActivation2.detach())\n",
        "\n",
        "B2_grad = np.array(B2.grad)\n",
        "B2 = np.array(B2.detach())\n",
        "\n",
        "W2_grad = np.array(W2.grad)\n",
        "W2 = np.array(W2.detach())\n",
        "\n",
        "Hidden1_grad = np.array(Hidden1.grad)\n",
        "Hidden1 = np.array(Hidden1.detach())\n",
        "\n",
        "PreActivation1_grad = np.array(PreActivation1.grad)\n",
        "PreActivation1 = np.array(PreActivation1.detach())\n",
        "\n",
        "B1_grad = np.array(B1.grad)\n",
        "B1 = np.array(B1.detach())\n",
        "\n",
        "W1_grad = np.array(W1.grad)\n",
        "W1 = np.array(W1.detach())\n",
        "\n",
        "sample_inp = np.array(sample_inp)\n",
        "sample_out = np.array(sample_out)"
      ]
    },
    {
      "cell_type": "markdown",
      "metadata": {
        "id": "AH5dMUYEnDhK"
      },
      "source": [
        "## Manual Gradient Calculation by Chain Rule: (50 Points)\n",
        "\n",
        "The chain rule is a fundamental principle in calculus that facilitates the computation of complex derivatives by breaking them down into simpler parts. In the context of neural networks, the chain rule enables the efficient calculation of gradients of the loss function with respect to any parameter in the network, regardless of its position. This process is crucial for understanding how changes in parameters affect the overall loss, guiding the optimization process towards lower loss values.\n",
        "\n",
        "In the next cells, we will start a hands-on exploration of this concept by manually calculating the gradients for selected parts of our model. This exercise will not only deepen your understanding of backpropagation  but also reinforce the mathematical intuition behind the learning process.\n",
        "\n",
        "We will proceed as follows:\n",
        "\n",
        "1. **Identify Key Operations:** We will start by pinpointing the key operations in our model that contribute to the final prediction. This includes linear transformations, activation functions, and the final loss computation.\n",
        "   \n",
        "2. **Compute Local Gradients:** For each operation, we will compute the local gradient, which represents the rate of change of the operation's output with respect to its input.\n",
        "\n",
        "3. **Apply the Chain Rule:** Using the chain rule, we will then piece together these local gradients to compute the gradient of the loss function with respect to each parameter in our model. This involves multiplying the local gradients along the paths from the output back to each parameter.\n",
        "\n",
        "4. **Verify Your Calculations:** Finally, we will compare our manually computed gradients with those obtained using automatic differentiation (e.g., PyTorch's `autograd`), ensuring the correctness of our computations. For example `dLogProbs` that you manualy calculate should be equal to the `LogProbs_grad` that we calculated before using PyTorch's autograd and we will verify that by `check()` function.\n",
        "\n",
        "\n",
        "**HINT:** As you start doing manual gradient calculation, keep in mind that the gradient of any parameter or intermediate variable should retain the same dimensions as the original array.\n",
        "\n",
        "Additionally, all calculations in this exercise **should be performed using NumPy** and its functions.\n",
        "\n",
        "**Please complete the #TODO parts of the following cells**\n",
        "\n"
      ]
    },
    {
      "cell_type": "code",
      "execution_count": 53,
      "metadata": {
        "id": "7n0-6rj8nDhK"
      },
      "outputs": [],
      "source": [
        "def check(s, manual_grad, autograd_grad):\n",
        "  corrcetness = np.allclose(manual_grad, autograd_grad)\n",
        "  print(f'{s:15s} | Gradient Correctness: {str(corrcetness):5s}')"
      ]
    },
    {
      "cell_type": "code",
      "execution_count": 54,
      "metadata": {
        "colab": {
          "base_uri": "https://localhost:8080/"
        },
        "id": "UX0ZD3SBnDhK",
        "outputId": "1c6f4285-6dd6-4a02-87b9-929dde71a30d"
      },
      "outputs": [
        {
          "name": "stdout",
          "output_type": "stream",
          "text": [
            "LogProbs        | Gradient Correctness: True \n"
          ]
        }
      ],
      "source": [
        "dLogProbs = np.zeros(LogProbs.shape)\n",
        "\n",
        "for _ in range(batch_size):\n",
        "    dLogProbs[_][sample_out[_]] = 1\n",
        "\n",
        "dLogProbs *= - 1 / batch_size\n",
        "\n",
        "check('LogProbs', dLogProbs, LogProbs_grad)"
      ]
    },
    {
      "cell_type": "code",
      "execution_count": 55,
      "metadata": {
        "colab": {
          "base_uri": "https://localhost:8080/"
        },
        "id": "dpj4Ms34nDhK",
        "outputId": "85a4b094-6c7d-4221-82d6-1ff1060300d5"
      },
      "outputs": [
        {
          "name": "stdout",
          "output_type": "stream",
          "text": [
            "Probs           | Gradient Correctness: True \n",
            "SumInverse4     | Gradient Correctness: True \n",
            "Sum4            | Gradient Correctness: True \n",
            "Exp4            | Gradient Correctness: True \n",
            "Logits          | Gradient Correctness: True \n",
            "B4              | Gradient Correctness: True \n",
            "W4              | Gradient Correctness: True \n",
            "Hidden3         | Gradient Correctness: True \n"
          ]
        }
      ],
      "source": [
        "dProbs = np.copy(dLogProbs)\n",
        "for _ in range(batch_size):\n",
        "    dProbs[_][sample_out[_]] *= 1 / Probs[_][sample_out[_]]\n",
        "\n",
        "dSumInverse4 = np.zeros(SumInverse4.shape)\n",
        "for _ in range(batch_size):\n",
        "    dSumInverse4[_] = dProbs[_].dot(Exp4[_])\n",
        "\n",
        "dSum4 = np.copy(dSumInverse4)\n",
        "for _ in range(batch_size):\n",
        "    dSum4[_] *= -1 / Sum4[_] ** 2\n",
        "\n",
        "dExp4 = np.copy(dProbs)\n",
        "for _ in range(batch_size):\n",
        "    sum_term = np.sum(dProbs[_] * Exp4[_]) * (SumInverse4[_] ** 2)\n",
        "    dExp4[_] *= SumInverse4[_]\n",
        "    dExp4[_] -= sum_term\n",
        "\n",
        "dLogits = np.zeros(Logits.shape)\n",
        "for _ in range(batch_size):\n",
        "    dLogits[_] = dExp4[_] * Exp4[_]\n",
        "\n",
        "dB4 = np.sum(dLogits, axis=0)\n",
        "\n",
        "dW4 = Hidden3.T @ dLogits\n",
        "\n",
        "dHidden3 = dLogits @ W4.T\n",
        "\n",
        "check('Probs', dProbs, Probs_grad)\n",
        "check('SumInverse4', dSumInverse4, SumInverse4_grad)\n",
        "check('Sum4', dSum4, Sum4_grad)\n",
        "check('Exp4', dExp4, Exp4_grad)\n",
        "check('Logits', dLogits, Logits_grad)\n",
        "check('B4', dB4, B4_grad)\n",
        "check('W4', dW4, W4_grad)\n",
        "check('Hidden3', dHidden3, Hidden3_grad)"
      ]
    },
    {
      "cell_type": "code",
      "execution_count": 56,
      "metadata": {
        "colab": {
          "base_uri": "https://localhost:8080/"
        },
        "id": "WS6iGs6NnDhK",
        "outputId": "6e6b9132-5070-4ccc-a6a8-49d6d7e98dc7"
      },
      "outputs": [
        {
          "name": "stdout",
          "output_type": "stream",
          "text": [
            "PreActivation3  | Gradient Correctness: True \n",
            "B3              | Gradient Correctness: True \n",
            "W3              | Gradient Correctness: True \n",
            "Hidden2         | Gradient Correctness: True \n"
          ]
        }
      ],
      "source": [
        "dPreActivation3 = dHidden3 * (1 - Hidden3 ** 2) # Gradient of tanh function\n",
        "\n",
        "dB3 = np.sum(dPreActivation3, axis=0)\n",
        "\n",
        "\n",
        "dW3 = Hidden2.T @ dPreActivation3\n",
        "\n",
        "dHidden2 = dPreActivation3 @ W3.T\n",
        "\n",
        "check('PreActivation3', dPreActivation3, PreActivation3_grad)\n",
        "check('B3', dB3, B3_grad)\n",
        "check('W3', dW3, W3_grad)\n",
        "check('Hidden2', dHidden2, Hidden2_grad)"
      ]
    },
    {
      "cell_type": "code",
      "execution_count": 57,
      "metadata": {
        "colab": {
          "base_uri": "https://localhost:8080/"
        },
        "id": "1nxG1qq7nDhK",
        "outputId": "1ceff064-b716-42a0-e71e-68efd11e6c0a"
      },
      "outputs": [
        {
          "name": "stdout",
          "output_type": "stream",
          "text": [
            "PreActivation2  | Gradient Correctness: True \n",
            "B2              | Gradient Correctness: True \n",
            "W2              | Gradient Correctness: True \n",
            "Hidden1         | Gradient Correctness: True \n"
          ]
        }
      ],
      "source": [
        "dPreActivation2 = dHidden2 * (PreActivation2 > 0).astype(float) # Gradient of ReLU function\n",
        "\n",
        "dB2 = np.sum(dPreActivation2, axis=0)\n",
        "\n",
        "dW2 = Hidden1.T @ dPreActivation2\n",
        "\n",
        "dHidden1 = dPreActivation2 @ W2.T\n",
        "\n",
        "check('PreActivation2', dPreActivation2, PreActivation2_grad)\n",
        "check('B2', dB2, B2_grad)\n",
        "check('W2', dW2, W2_grad)\n",
        "check('Hidden1', dHidden1, Hidden1_grad)"
      ]
    },
    {
      "cell_type": "code",
      "execution_count": 58,
      "metadata": {
        "colab": {
          "base_uri": "https://localhost:8080/"
        },
        "id": "e8KrlyZunDhK",
        "outputId": "0eaea09a-3df9-444e-91f6-4ccc34852a3d"
      },
      "outputs": [
        {
          "name": "stdout",
          "output_type": "stream",
          "text": [
            "PreActivation1  | Gradient Correctness: True \n",
            "B1              | Gradient Correctness: True \n",
            "W1              | Gradient Correctness: True \n"
          ]
        }
      ],
      "source": [
        "dPreActivation1 = dHidden1 * (Hidden1 * (1 - Hidden1)) # Gradient of sigmoid function\n",
        "\n",
        "dB1 = np.sum(dPreActivation1, axis=0)\n",
        "\n",
        "dW1 = sample_inp.T @ dPreActivation1\n",
        "\n",
        "check('PreActivation1', dPreActivation1, PreActivation1_grad)\n",
        "check('B1', dB1, B1_grad)\n",
        "check('W1', dW1, W1_grad)"
      ]
    },
    {
      "cell_type": "markdown",
      "metadata": {
        "id": "CJ6Z4sA7nDhL"
      },
      "source": [
        "## Updating Model Parameters: (5 Points)\n",
        "\n",
        "With the gradients computed during the backpropagation step, the next critical phase in training our neural network involves updating the model's parameters. This step is essential for minimizing the loss function and improving the model's predictions over time.\n",
        "\n",
        "For our model, this translates to the following updates:\n",
        "- For the first layer's weights (`W1`) and biases (`B1`), we subtract the product of the learning rate and their respective gradients (`dW1`, `dB1`).\n",
        "- Similarly, this pattern is repeated for the subsequent layers' weights (`W2`, `W3`, `W4`) and biases (`B2`, `B3`, `B4`), ensuring that each parameter is nudged in the direction that minimizes the loss.\n",
        "\n",
        "**Please complete the #TODO parts of the following cell**"
      ]
    },
    {
      "cell_type": "code",
      "execution_count": 59,
      "metadata": {
        "id": "UwUpHa_CnDhL"
      },
      "outputs": [],
      "source": [
        "learning_rate = 0.01\n",
        "\n",
        "W1 -= learning_rate * dW1\n",
        "B1 -= learning_rate * dB1\n",
        "\n",
        "W2 -= learning_rate * dW2\n",
        "B2 -= learning_rate * dB2\n",
        "\n",
        "W3 -= learning_rate * dW3\n",
        "B3 -= learning_rate * dB3\n",
        "\n",
        "W4 -= learning_rate * dW4\n",
        "B4 -= learning_rate * dB4"
      ]
    },
    {
      "cell_type": "markdown",
      "metadata": {
        "id": "4LrKLTJjnDhL"
      },
      "source": [
        "## Activation Functions Using Numpy Instead of PyTorch: (10 Points)\n",
        "\n",
        "In the next phase of this notebook, we will try to implement a complete multilayer perceptron (MLP) model using only the NumPy library. For this purpose, you should implement the following activation functions using only NumPy functions:\n",
        "\n",
        "- **Sigmoid:**\n",
        "  The Sigmoid function is defined as \\( \\sigma(x) = \\frac{1}{1 + e^{-x}} \\). It maps any input value to a value between 0 and 1.\n",
        "\n",
        "- **ReLU:**\n",
        "  The Rectified Linear Unit (ReLU) function is defined as \\( \\text{ReLU}(x) = \\max(0, x) \\). It introduces non-linearity with less computational complexity and has become one of the most popular activation functions in deep learning.\n",
        "\n",
        "- **Tanh:**\n",
        "  The Hyperbolic Tangent (Tanh) function is defined as \\( \\tanh(x) = \\frac{e^{x} - e^{-x}}{e^{x} + e^{-x}} \\). It maps any input value to a range between -1 and 1.\n",
        "\n",
        "**Please complete the #TODO parts of the following cells**\n"
      ]
    },
    {
      "cell_type": "code",
      "execution_count": 60,
      "metadata": {
        "id": "Uv_RrDRdnDhL"
      },
      "outputs": [],
      "source": [
        "import numpy as np\n",
        "\n",
        "# Activation functions\n",
        "\n",
        "def sigmoid(x):\n",
        "    \"\"\"\n",
        "    Compute the sigmoid function for the input array.\n",
        "\n",
        "    Parameters:\n",
        "    - x (np.array): The input array for which to compute the sigmoid function.\n",
        "\n",
        "    Returns:\n",
        "    - np.array: The output array where the sigmoid function has been applied element-wise.\n",
        "    \"\"\"\n",
        "    return 1 / (1 + np.exp(-x))\n",
        "\n",
        "def relu(x):\n",
        "    \"\"\"\n",
        "    Compute the Rectified Linear Unit (ReLU) for the input array.\n",
        "\n",
        "    Parameters:\n",
        "    - x (np.array): The input array for which to compute the ReLU function.\n",
        "\n",
        "    Returns:\n",
        "    - np.array: The output array where the ReLU function has been applied element-wise, keeping only positive values and setting negative values to zero.\n",
        "    \"\"\"\n",
        "    return np.maximum(0, x)\n",
        "\n",
        "def tanh(x):\n",
        "    \"\"\"\n",
        "    Compute the hyperbolic tangent (tanh) for the input array.\n",
        "\n",
        "    Parameters:\n",
        "    - x (np.array): The input array for which to compute the tanh function.\n",
        "\n",
        "    Returns:\n",
        "    - np.array: The output array where the tanh function has been applied element-wise.\n",
        "    \"\"\"\n",
        "    return np.tanh(x)\n"
      ]
    },
    {
      "cell_type": "markdown",
      "metadata": {
        "id": "wv4J5okInDhL"
      },
      "source": [
        "## Writing the MLP Class: (10 Points)\n",
        "\n",
        "In the next cell, you are tasked with completing the MLP class, which will serve as the foundation for training an MLP model on the MNIST dataset. The class should have the essential components of an MLP, including:\n",
        "\n",
        "- **Initialization of Parameters:** Define the architecture (number of layers, size of each layer) and initialize the weights and biases accordingly. This sets up the structure of your neural network and prepares it for the forward and backward passes. You can use NumPy random functions for this purpose.\n",
        "\n",
        "- **Forward Pass Method:** Implement the forward propagation algorithm to compute the output of the network for a given input. This involves applying a series of linear transformations and non-linear activations to the input data to obtain the final output. You are free to choose the size of the layers and also the activation functions\n",
        "\n",
        "- **Loss Computation:** Calculate the loss to evaluate how well the model is performing. The loss function measures the discrepancy between the predicted outputs and the actual targets, guiding the training process. Use Cross-entropy loss for this example.\n",
        "\n",
        "- **Backward Pass Method:** Compute the gradients of the loss with respect to the parameters **manually**.\n",
        "\n",
        "- **Step Method:**\n",
        "  The step method is responsible for updating the model's parameters (weights and biases) using the gradients computed after the backward pass. Typically, the step method will iterate over all parameters and apply the update:\n",
        "  \\[ \\text{parameter} = \\text{parameter} - (\\text{learning_rate} \\times \\text{gradient}) \\]\n",
        "\n",
        "\n",
        "\n",
        "Feel free to design the architecture of your model, select appropriate hyperparameters, and choose activation functions based on your specific requirements and objectives! This flexibility allows you to tailor the model to optimally address your unique dataset and performance goals.\n",
        "\n",
        "\n",
        "All calculations in this exercise **should be performed using NumPy** and its functions.\n",
        "\n",
        "**Please complete the #TODO parts of the following cell**\n",
        "\n",
        "\n",
        "\n"
      ]
    },
    {
      "cell_type": "code",
      "execution_count": 67,
      "metadata": {
        "id": "-KHghpVSnDhL"
      },
      "outputs": [],
      "source": [
        "import numpy as np\n",
        "\n",
        "class MLP:\n",
        "    \"\"\"\n",
        "    A class representing a Multilayer Perceptron (MLP).\n",
        "\n",
        "    Attributes:\n",
        "        W1, W2, ... (np.ndarray): Weights for each layer.\n",
        "        B1, B2, ... (np.ndarray): Biases for each layer.\n",
        "        dW1, dW2, ... (np.ndarray): Gradients of weights for each layer during backpropagation.\n",
        "        dB1, dB2, ... (np.ndarray): Gradients of biases for each layer during backpropagation.\n",
        "        (You can add other attributes related to activations and gradients during forward and backward passes)\n",
        "\n",
        "    Methods:\n",
        "        forward(X): Performs the forward pass using the input X.\n",
        "        Loss(Y): Computes the cross-entropy loss for the output compared to true labels Y.\n",
        "        backward(X, Y): Performs the backward pass using the input X and labels Y to compute gradients.\n",
        "        step(learning_rate): Updates the weights and biases according to the computed gradients and learning rate.\n",
        "    \"\"\"\n",
        "\n",
        "    def __init__(self, n_inp, n_hid1, n_hid2, n_out):\n",
        "        \"\"\"\n",
        "        Initializes a new MLP instance with specified layer sizes.\n",
        "        (Don't forget to initialize the intermediate values and their gradients as well!)\n",
        "\n",
        "        Parameters:\n",
        "            n_inp (int): Number of input neurons.\n",
        "            n_hid1 (int): Number of neurons in the first hidden layer.\n",
        "            n_hid2 (int): Number of neurons in the second hidden layer.\n",
        "            n_out (int): Number of output neurons (typically the number of classes).\n",
        "        \"\"\"\n",
        "        # Initialize weights and biases\n",
        "        self.W1 = np.random.randn(n_inp, n_hid1) * 0.01\n",
        "        self.B1 = np.random.randn(n_hid1) * 0.01\n",
        "        self.W2 = np.random.randn(n_hid1, n_hid2) * 0.01\n",
        "        self.B2 = np.random.randn(n_hid2) * 0.01\n",
        "        self.W3 = np.random.randn(n_hid2, n_out) * 0.01\n",
        "        self.B3 = np.random.randn(n_out) * 0.01\n",
        "\n",
        "    def sigmoid(self, x):\n",
        "        return 1 / (1 + np.exp(-x))\n",
        "\n",
        "    def softmax(self, x):\n",
        "        exp_x = np.exp(x - np.max(x, axis=1, keepdims=True))\n",
        "        return exp_x / exp_x.sum(axis=1, keepdims=True)\n",
        "\n",
        "    def forward(self, X):\n",
        "        \"\"\"\n",
        "        Perform the forward pass through the network and return the probability of each class.\n",
        "\n",
        "        Parameters:\n",
        "            X (np.ndarray): Input data matrix, where each row represents a sample.\n",
        "\n",
        "        Returns:\n",
        "            np.ndarray: Probabilities of each class for each input sample.\n",
        "        \"\"\"\n",
        "        self.PreActivation1 = X @ self.W1 + self.B1\n",
        "        self.Hidden1 = self.sigmoid(self.PreActivation1)\n",
        "\n",
        "        self.PreActivation2 = self.Hidden1 @ self.W2 + self.B2\n",
        "        self.Hidden2 = self.sigmoid(self.PreActivation2)\n",
        "\n",
        "        self.Logits = self.Hidden2 @ self.W3 + self.B3\n",
        "        self.Probs = self.softmax(self.Logits)\n",
        "\n",
        "        return self.Probs\n",
        "\n",
        "    def Loss(self, Y):\n",
        "        \"\"\"\n",
        "        Compute the cross-entropy loss for the output of the network compared to the true labels.\n",
        "\n",
        "        Parameters:\n",
        "            Y (np.ndarray): True labels for the input data, where each entry is an index of the true class.\n",
        "\n",
        "        Returns:\n",
        "            float: The mean cross-entropy loss across all input samples.\n",
        "        \"\"\"\n",
        "        m = Y.shape[0]\n",
        "        log_probs = -np.log(self.Probs[range(m), Y])\n",
        "        loss = np.sum(log_probs) / m\n",
        "        return loss\n",
        "\n",
        "    def backward(self, X, Y):\n",
        "        \"\"\"\n",
        "        Perform the backward pass using the input and labels to compute gradients for learning.\n",
        "\n",
        "        Parameters:\n",
        "            X (np.ndarray): Input data matrix, where each row represents a sample.\n",
        "            Y (np.ndarray): True labels for the input data, where each entry is an index of the true class.\n",
        "\n",
        "        Returns:\n",
        "            None: This method updates class attributes corresponding to gradients.\n",
        "        \"\"\"\n",
        "        m = X.shape[0]\n",
        "\n",
        "        dLogits = self.Probs\n",
        "        dLogits[range(m), Y] -= 1\n",
        "        dLogits /= m\n",
        "\n",
        "        self.dW3 = self.Hidden2.T @ dLogits\n",
        "        self.dB3 = np.sum(dLogits, axis=0)\n",
        "\n",
        "        dHidden2 = dLogits @ self.W3.T * self.Hidden2 * (1 - self.Hidden2)\n",
        "        self.dW2 = self.Hidden1.T @ dHidden2\n",
        "        self.dB2 = np.sum(dHidden2, axis=0)\n",
        "\n",
        "        dHidden1 = dHidden2 @ self.W2.T * self.Hidden1 * (1 - self.Hidden1)\n",
        "        self.dW1 = X.T @ dHidden1\n",
        "        self.dB1 = np.sum(dHidden1, axis=0)\n",
        "\n",
        "    def step(self, learning_rate):\n",
        "        \"\"\"\n",
        "        Update the model's weights and biases based on the gradients computed during backpropagation.\n",
        "\n",
        "        Parameters:\n",
        "            learning_rate (float): The learning rate to use for the update step.\n",
        "\n",
        "        Returns:\n",
        "            None: This method updates the weights and biases of the MLP.\n",
        "        \"\"\"\n",
        "        self.W1 -= learning_rate * self.dW1\n",
        "        self.B1 -= learning_rate * self.dB1\n",
        "\n",
        "        self.W2 -= learning_rate * self.dW2\n",
        "        self.B2 -= learning_rate * self.dB2\n",
        "\n",
        "        self.W3 -= learning_rate * self.dW3\n",
        "        self.B3 -= learning_rate * self.dB3\n",
        "\n"
      ]
    },
    {
      "cell_type": "markdown",
      "metadata": {
        "id": "STKxTdjwnDhL"
      },
      "source": [
        "## Setting the Hyperparameters and Model Configuration:\n",
        "\n",
        "Hyperparameters, such as the learning rate, number of epochs, and batch size, play a crucial role in the training process and significantly influence the model's performance and efficiency. Unlike model parameters that are learned during training, hyperparameters must be predefined and can have a profound impact on the learning dynamics and final outcomes.\n",
        "\n",
        "- **Learning Rate:** Determines the step size at each iteration while moving toward a minimum of the loss function. An appropriately chosen learning rate ensures that the model converges efficiently to a good solution.\n",
        "\n",
        "- **Number of Epochs:** The total number of times the training dataset is passed through the network. Properly setting this value ensures that the model is adequately trained without falling into the pitfalls of underfitting or overfitting.\n",
        "\n",
        "- **Batch Size:** Dictates the number of training examples used in one iteration. It balances the trade-off between the regularization effect and the stability of the gradient, also impacting memory usage and computational speed.\n",
        "\n",
        "- **Model Size and Parameters:** Refers to the architecture of the MLP, including the number of layers and the number of neurons in each layer. The model's size directly affects its capacity to learn, with more parameters allowing for more complex functions to be modeled. However, larger models also require more data to train effectively without overfitting and entail higher computational costs. You could define this part in the previous cell as you wrote tha MLP class as well.\n",
        "\n",
        "In the next cell, you will define these hyperparameters and configure the model's architecture.\n",
        "\n",
        "**Please complete the #TODO parts of the following cell**\n"
      ]
    },
    {
      "cell_type": "code",
      "execution_count": 79,
      "metadata": {
        "id": "si4PxlVWnDhL"
      },
      "outputs": [],
      "source": [
        "# Setting the hyperparameters\n",
        "\n",
        "# Model architecture parameters\n",
        "n_inp = 784        # Number of input neurons (e.g., for MNIST dataset, 28x28 images flattened)\n",
        "n_hid1 = 128       # Number of neurons in the first hidden layer\n",
        "n_hid2 = 32       # Number of neurons in the second hidden layer\n",
        "n_out = 10         # Number of output neurons (number of classes, e.g., 10 for MNIST)\n",
        "\n",
        "# Training parameters\n",
        "batch_size = 100    # Number of samples per batch\n",
        "learning_rate = 0.1  # Learning rate for gradient descent\n",
        "n_epochs = 50      # Number of epochs (full passes through the dataset)"
      ]
    },
    {
      "cell_type": "markdown",
      "metadata": {
        "id": "JhhvNp70nDhL"
      },
      "source": [
        "## Creating Batches for Different Splits of Data (5 Points)\n",
        "\n",
        "In the next cell, you should focus on batching the different splits of the MNIST dataset: the training, validation, and test sets.\n",
        "\n",
        "Implementing this batching process will prepare your data for the training loop, where each batch will be fed into the model sequentially to perform forward and backward passes and update the model parameters.\n",
        "\n",
        "**Please complete the #TODO parts of the following cell**\n"
      ]
    },
    {
      "cell_type": "code",
      "execution_count": 80,
      "metadata": {
        "id": "T13KNN2WnDhL"
      },
      "outputs": [],
      "source": [
        "def create_batches(X, Y, batch_size):\n",
        "    \"\"\"\n",
        "    Create batches from the given dataset.\n",
        "\n",
        "    Parameters:\n",
        "    - X (np.ndarray): Input data.\n",
        "    - Y (np.ndarray): Labels corresponding to the input data.\n",
        "    - batch_size (int): Number of samples per batch.\n",
        "\n",
        "    Returns:\n",
        "    - list: A list of tuples, where each tuple contains a batch of input data and corresponding labels.\n",
        "    \"\"\"\n",
        "    batches = []\n",
        "    num_samples = X.shape[0]\n",
        "    for i in range(0, num_samples, batch_size):\n",
        "        X_batch = X[i:i+batch_size]\n",
        "        Y_batch = Y[i:i+batch_size]\n",
        "        batches.append((X_batch, Y_batch))\n",
        "    return batches\n",
        "\n",
        "# Assuming X_train, Y_train, X_val, Y_val, X_test, Y_test are already defined\n",
        "\n",
        "# Setting the hyperparameters\n",
        "batch_size = 32\n",
        "\n",
        "# Creating batches\n",
        "training_batches = create_batches(X_train, Y_train, batch_size)\n",
        "validation_batches = create_batches(X_val, Y_val, batch_size)\n",
        "test_batches = create_batches(X_test, Y_test, batch_size)\n"
      ]
    },
    {
      "cell_type": "markdown",
      "metadata": {
        "id": "K2y-vh7_nDhL"
      },
      "source": [
        "## Writing the Training Loop (15 Points)\n",
        "\n",
        "Training a neural network involves iteratively adjusting its parameters to minimize a loss function. This process is encapsulated within a training loop, where the model learns from the training data over multiple epochs. Each epoch represents one complete pass through the entire dataset.\n",
        "\n",
        "In the next cell, you should do the following:\n",
        "\n",
        "1. **Initialize the MLP Model:** Before you can start training, you need to instantiate your MLP class.\n",
        "\n",
        "2. **Implement the Training Loop:** The training loop should include the following key steps for each epoch:\n",
        "   - **Forward Pass:** For each batch of data, compute the model's predictions by passing the data through the model from input to output.\n",
        "   - **Compute Loss:** Evaluate how well the model's predictions match the actual labels by calculating the loss, using a suitable loss function for classification (e.g., cross-entropy loss).\n",
        "   - **Backward Pass:** Compute the gradients of the loss function with respect to the model's parameters.\n",
        "   - **Update Parameters:** Adjust the model's parameters in the opposite direction of the gradients to minimize the loss.\n",
        "   - **Validation:** Periodically, after a set number of epochs, evaluate the model's performance on the validation set to monitor its learning progress and adjust training parameters if necessary.\n",
        "\n",
        "Remember to track the loss during training to monitor the model's performance over time. This information is valuable for debugging and optimizing the training process.\n",
        "\n",
        "**Please complete the #TODO parts of the following cell**\n"
      ]
    },
    {
      "cell_type": "code",
      "execution_count": 81,
      "metadata": {
        "colab": {
          "base_uri": "https://localhost:8080/"
        },
        "id": "LOc9jiWSnDhL",
        "outputId": "2bfcaba2-02a6-4f28-8d06-276e86a71579"
      },
      "outputs": [
        {
          "name": "stdout",
          "output_type": "stream",
          "text": [
            "Epoch 1/50\t| \tTraining Loss: 2.3057\t| \tValidation Loss: 2.3031\n",
            "Epoch 2/50\t| \tTraining Loss: 2.2978\t| \tValidation Loss: 2.2702\n",
            "Epoch 3/50\t| \tTraining Loss: 2.0627\t| \tValidation Loss: 1.9039\n",
            "Epoch 4/50\t| \tTraining Loss: 1.7815\t| \tValidation Loss: 1.6660\n",
            "Epoch 5/50\t| \tTraining Loss: 1.4898\t| \tValidation Loss: 1.1905\n",
            "Epoch 6/50\t| \tTraining Loss: 0.8989\t| \tValidation Loss: 0.6526\n",
            "Epoch 7/50\t| \tTraining Loss: 0.5331\t| \tValidation Loss: 0.4371\n",
            "Epoch 8/50\t| \tTraining Loss: 0.3840\t| \tValidation Loss: 0.3333\n",
            "Epoch 9/50\t| \tTraining Loss: 0.3069\t| \tValidation Loss: 0.2754\n",
            "Epoch 10/50\t| \tTraining Loss: 0.2598\t| \tValidation Loss: 0.2388\n",
            "Epoch 11/50\t| \tTraining Loss: 0.2263\t| \tValidation Loss: 0.2127\n",
            "Epoch 12/50\t| \tTraining Loss: 0.2009\t| \tValidation Loss: 0.1931\n",
            "Epoch 13/50\t| \tTraining Loss: 0.1809\t| \tValidation Loss: 0.1779\n",
            "Epoch 14/50\t| \tTraining Loss: 0.1647\t| \tValidation Loss: 0.1657\n",
            "Epoch 15/50\t| \tTraining Loss: 0.1513\t| \tValidation Loss: 0.1557\n",
            "Epoch 16/50\t| \tTraining Loss: 0.1399\t| \tValidation Loss: 0.1473\n",
            "Epoch 17/50\t| \tTraining Loss: 0.1300\t| \tValidation Loss: 0.1400\n",
            "Epoch 18/50\t| \tTraining Loss: 0.1213\t| \tValidation Loss: 0.1337\n",
            "Epoch 19/50\t| \tTraining Loss: 0.1135\t| \tValidation Loss: 0.1282\n",
            "Epoch 20/50\t| \tTraining Loss: 0.1064\t| \tValidation Loss: 0.1234\n",
            "Epoch 21/50\t| \tTraining Loss: 0.1000\t| \tValidation Loss: 0.1192\n",
            "Epoch 22/50\t| \tTraining Loss: 0.0941\t| \tValidation Loss: 0.1155\n",
            "Epoch 23/50\t| \tTraining Loss: 0.0887\t| \tValidation Loss: 0.1122\n",
            "Epoch 24/50\t| \tTraining Loss: 0.0838\t| \tValidation Loss: 0.1093\n",
            "Epoch 25/50\t| \tTraining Loss: 0.0792\t| \tValidation Loss: 0.1068\n",
            "Epoch 26/50\t| \tTraining Loss: 0.0749\t| \tValidation Loss: 0.1045\n",
            "Epoch 27/50\t| \tTraining Loss: 0.0709\t| \tValidation Loss: 0.1024\n",
            "Epoch 28/50\t| \tTraining Loss: 0.0671\t| \tValidation Loss: 0.1006\n",
            "Epoch 29/50\t| \tTraining Loss: 0.0636\t| \tValidation Loss: 0.0989\n",
            "Epoch 30/50\t| \tTraining Loss: 0.0602\t| \tValidation Loss: 0.0974\n",
            "Epoch 31/50\t| \tTraining Loss: 0.0571\t| \tValidation Loss: 0.0961\n",
            "Epoch 32/50\t| \tTraining Loss: 0.0542\t| \tValidation Loss: 0.0948\n",
            "Epoch 33/50\t| \tTraining Loss: 0.0514\t| \tValidation Loss: 0.0937\n",
            "Epoch 34/50\t| \tTraining Loss: 0.0488\t| \tValidation Loss: 0.0927\n",
            "Epoch 35/50\t| \tTraining Loss: 0.0463\t| \tValidation Loss: 0.0918\n",
            "Epoch 36/50\t| \tTraining Loss: 0.0440\t| \tValidation Loss: 0.0909\n",
            "Epoch 37/50\t| \tTraining Loss: 0.0418\t| \tValidation Loss: 0.0902\n",
            "Epoch 38/50\t| \tTraining Loss: 0.0397\t| \tValidation Loss: 0.0895\n",
            "Epoch 39/50\t| \tTraining Loss: 0.0377\t| \tValidation Loss: 0.0889\n",
            "Epoch 40/50\t| \tTraining Loss: 0.0359\t| \tValidation Loss: 0.0884\n",
            "Epoch 41/50\t| \tTraining Loss: 0.0341\t| \tValidation Loss: 0.0879\n",
            "Epoch 42/50\t| \tTraining Loss: 0.0324\t| \tValidation Loss: 0.0875\n",
            "Epoch 43/50\t| \tTraining Loss: 0.0309\t| \tValidation Loss: 0.0871\n",
            "Epoch 44/50\t| \tTraining Loss: 0.0294\t| \tValidation Loss: 0.0868\n",
            "Epoch 45/50\t| \tTraining Loss: 0.0280\t| \tValidation Loss: 0.0865\n",
            "Epoch 46/50\t| \tTraining Loss: 0.0267\t| \tValidation Loss: 0.0862\n",
            "Epoch 47/50\t| \tTraining Loss: 0.0254\t| \tValidation Loss: 0.0860\n",
            "Epoch 48/50\t| \tTraining Loss: 0.0242\t| \tValidation Loss: 0.0858\n",
            "Epoch 49/50\t| \tTraining Loss: 0.0231\t| \tValidation Loss: 0.0856\n",
            "Epoch 50/50\t| \tTraining Loss: 0.0220\t| \tValidation Loss: 0.0854\n"
          ]
        }
      ],
      "source": [
        "# Initialize the model\n",
        "mlp = MLP(n_inp, n_hid1, n_hid2, n_out)\n",
        "\n",
        "# Training loop\n",
        "training_losses = []\n",
        "validation_losses = []\n",
        "\n",
        "for epoch in range(n_epochs):\n",
        "    epoch_training_loss = 0\n",
        "    epoch_validation_loss = 0\n",
        "\n",
        "    # Training phase\n",
        "    for X_batch, Y_batch in training_batches:\n",
        "        # Forward pass\n",
        "        mlp.forward(X_batch)\n",
        "\n",
        "        # Calculate the loss\n",
        "        loss = mlp.Loss(Y_batch)\n",
        "        epoch_training_loss += loss\n",
        "\n",
        "        # Backward pass\n",
        "        mlp.backward(X_batch, Y_batch)\n",
        "\n",
        "        # Update the weights and biases\n",
        "        mlp.step(learning_rate)\n",
        "\n",
        "    # Average training loss for the epoch\n",
        "    epoch_training_loss /= len(training_batches)\n",
        "    training_losses.append(epoch_training_loss)\n",
        "\n",
        "    # Validation phase\n",
        "    for X_batch, Y_batch in validation_batches:\n",
        "        # Forward pass\n",
        "        mlp.forward(X_batch)\n",
        "\n",
        "        # Calculate the loss\n",
        "        loss = mlp.Loss(Y_batch)\n",
        "        epoch_validation_loss += loss\n",
        "\n",
        "    # Average validation loss for the epoch\n",
        "    epoch_validation_loss /= len(validation_batches)\n",
        "    validation_losses.append(epoch_validation_loss)\n",
        "\n",
        "    # Print the losses for the epoch in the desired format\n",
        "    print(f\"Epoch {epoch + 1}/{n_epochs}\\t| \\tTraining Loss: {epoch_training_loss:.4f}\\t| \\tValidation Loss: {epoch_validation_loss:.4f}\")\n"
      ]
    },
    {
      "cell_type": "markdown",
      "metadata": {
        "id": "QPyDlJa8nDhM"
      },
      "source": [
        "## Plotting the Validation and Training Loss (5 Points)\n",
        "\n",
        "Visualizing the training and validation loss over time is a crucial aspect of the model development process. It provides valuable insights into how well the model is learning, helps identify issues such as overfitting or underfitting, and can guide decisions on model adjustments or hyperparameter tuning.\n",
        "\n",
        "In the next cell, you will create a plot to visualize the training and validation loss over time.\n",
        "\n",
        "**Please complete the #TODO parts of the following cell**"
      ]
    },
    {
      "cell_type": "code",
      "execution_count": 82,
      "metadata": {
        "colab": {
          "base_uri": "https://localhost:8080/",
          "height": 472
        },
        "id": "6ep83ZUKnDhM",
        "outputId": "d6611685-1d3b-49b6-8557-958375b898dd"
      },
      "outputs": [
        {
          "data": {
            "image/png": "[encoded data removed]",
            "text/plain": [
              "<Figure size 640x480 with 1 Axes>"
            ]
          },
          "metadata": {},
          "output_type": "display_data"
        }
      ],
      "source": [
        "import matplotlib.pyplot as plt\n",
        "\n",
        "plt.plot(training_losses, label='Training Loss')\n",
        "plt.plot(validation_losses, label='Validation Loss')\n",
        "plt.xlabel('Epoch')\n",
        "plt.ylabel('Loss')\n",
        "plt.legend()\n",
        "plt.title('Training and Validation Loss over Epochs')\n",
        "plt.show()"
      ]
    },
    {
      "cell_type": "markdown",
      "metadata": {
        "id": "d-sW1KpKnDhM"
      },
      "source": [
        "## Visualizing Some Examples (5 Points)\n",
        "\n",
        "In the next cell, visualize a subset of the test images along with their true and predicted labels.\n",
        "\n",
        "**Please complete the #TODO parts of the following cell**"
      ]
    },
    {
      "cell_type": "code",
      "execution_count": 85,
      "metadata": {
        "colab": {
          "base_uri": "https://localhost:8080/",
          "height": 904
        },
        "id": "Nb05ulRRnDhM",
        "outputId": "85784a6c-1356-49ad-aeed-b579839fc51b"
      },
      "outputs": [
        {
          "data": {
            "image/png": "[encoded data removed]",
            "text/plain": [
              "<Figure size 1200x1200 with 64 Axes>"
            ]
          },
          "metadata": {},
          "output_type": "display_data"
        }
      ],
      "source": [
        "import matplotlib.pyplot as plt\n",
        "\n",
        "# Function to visualize test images along with true and predicted labels\n",
        "def visualize_test_images(model, X_test, Y_test, num_images=64):\n",
        "    \"\"\"\n",
        "    Visualize a subset of the test images along with their true and predicted labels.\n",
        "\n",
        "    Parameters:\n",
        "    - model: The trained MLP model.\n",
        "    - X_test (np.ndarray): Test data matrix.\n",
        "    - Y_test (np.ndarray): True labels for the test data.\n",
        "    - num_images (int): Number of images to visualize.\n",
        "    \"\"\"\n",
        "    # Forward pass on the test set\n",
        "    predictions = model.forward(X_test)\n",
        "    predicted_labels = np.argmax(predictions, axis=1)\n",
        "\n",
        "    # Plot a subset of the test images along with true and predicted labels\n",
        "    plt.figure(figsize=(12, 12))\n",
        "    grid_size = int(np.sqrt(num_images))\n",
        "    for i in range(num_images):\n",
        "        plt.subplot(grid_size, grid_size, i + 1)\n",
        "        plt.imshow(X_test[i].reshape(28, 28), cmap='gray')\n",
        "        plt.title(f\"True: {Y_test[i]}\\nPred: {predicted_labels[i]}\", fontsize=8)\n",
        "        plt.axis('off')\n",
        "    plt.tight_layout()\n",
        "    plt.show()\n",
        "\n",
        "# Visualize test images\n",
        "visualize_test_images(mlp, X_test, Y_test)\n"
      ]
    },
    {
      "cell_type": "markdown",
      "metadata": {
        "id": "kalxS9RcnDhM"
      },
      "source": [
        "## Calculating Model Metrics for Different Splits (15 Points)\n",
        "\n",
        "Evaluating the performance of your MLP model across different data splits (training, validation, and test sets) is critical for understanding its generalization ability and overall effectiveness. This evaluation helps ensure that the model performs well not only on the data it was trained on but also on new, unseen data.\n",
        "\n",
        "In the next cell, you should calculate model metrics(precision, recall, F1, ...) for each split and report them.\n",
        "\n",
        "You can use sklearn library for this part, if you want to.\n",
        "\n",
        "**Please complete the #TODO parts of the following cells**"
      ]
    },
    {
      "cell_type": "code",
      "execution_count": 87,
      "metadata": {
        "colab": {
          "base_uri": "https://localhost:8080/"
        },
        "id": "mpRSlRe-nDhM",
        "outputId": "dd54b539-6345-495a-82fc-af04c6b3c8de"
      },
      "outputs": [
        {
          "name": "stdout",
          "output_type": "stream",
          "text": [
            "Training Data Metrics:\n",
            "              precision    recall  f1-score   support\n",
            "\n",
            "           0       0.99      1.00      1.00      4748\n",
            "           1       1.00      0.99      1.00      5420\n",
            "           2       0.99      1.00      1.00      4784\n",
            "           3       0.99      1.00      0.99      4912\n",
            "           4       1.00      0.99      1.00      4666\n",
            "           5       1.00      0.99      1.00      4317\n",
            "           6       0.99      1.00      1.00      4741\n",
            "           7       1.00      0.99      1.00      4966\n",
            "           8       1.00      0.99      1.00      4691\n",
            "           9       1.00      0.99      1.00      4755\n",
            "\n",
            "    accuracy                           1.00     48000\n",
            "   macro avg       1.00      1.00      1.00     48000\n",
            "weighted avg       1.00      1.00      1.00     48000\n",
            "\n"
          ]
        }
      ],
      "source": [
        "from sklearn.metrics import classification_report\n",
        "\n",
        "def calculate_metrics(model, X, Y):\n",
        "    \"\"\"\n",
        "    Calculate and print the classification metrics for the given data.\n",
        "\n",
        "    Parameters:\n",
        "    - model: The trained MLP model.\n",
        "    - X (np.ndarray): Input data.\n",
        "    - Y (np.ndarray): True labels.\n",
        "    \"\"\"\n",
        "    # Forward pass\n",
        "    predictions = model.forward(X)\n",
        "    predicted_labels = np.argmax(predictions, axis=1)\n",
        "\n",
        "    # Calculate and print the classification report\n",
        "    print(classification_report(Y, predicted_labels, digits=2))\n",
        "\n",
        "# Calculate metrics for the training data\n",
        "print(\"Training Data Metrics:\")\n",
        "calculate_metrics(mlp, X_train, Y_train)"
      ]
    },
    {
      "cell_type": "code",
      "execution_count": 88,
      "metadata": {
        "colab": {
          "base_uri": "https://localhost:8080/"
        },
        "id": "In7fz8LGnDhM",
        "outputId": "72cff1bb-6c7c-4729-8e96-56c3d434498a"
      },
      "outputs": [
        {
          "name": "stdout",
          "output_type": "stream",
          "text": [
            "Validation Data Metrics:\n",
            "              precision    recall  f1-score   support\n",
            "\n",
            "           0       0.98      0.98      0.98      1175\n",
            "           1       0.99      0.99      0.99      1322\n",
            "           2       0.96      0.98      0.97      1174\n",
            "           3       0.96      0.97      0.96      1219\n",
            "           4       0.98      0.97      0.98      1176\n",
            "           5       0.98      0.96      0.97      1104\n",
            "           6       0.97      0.99      0.98      1177\n",
            "           7       0.99      0.97      0.98      1299\n",
            "           8       0.97      0.96      0.97      1160\n",
            "           9       0.97      0.97      0.97      1194\n",
            "\n",
            "    accuracy                           0.98     12000\n",
            "   macro avg       0.97      0.97      0.97     12000\n",
            "weighted avg       0.98      0.98      0.98     12000\n",
            "\n"
          ]
        }
      ],
      "source": [
        "# Calculate metrics for the validation data\n",
        "print(\"Validation Data Metrics:\")\n",
        "calculate_metrics(mlp, X_val, Y_val)"
      ]
    },
    {
      "cell_type": "code",
      "execution_count": 89,
      "metadata": {
        "colab": {
          "base_uri": "https://localhost:8080/"
        },
        "id": "9pxW1sMqnDhM",
        "outputId": "5a4a5c8b-a7a5-4986-a48b-ac29a6c82ac4"
      },
      "outputs": [
        {
          "name": "stdout",
          "output_type": "stream",
          "text": [
            "Test Data Metrics:\n",
            "              precision    recall  f1-score   support\n",
            "\n",
            "           0       0.98      0.98      0.98       980\n",
            "           1       0.99      0.99      0.99      1135\n",
            "           2       0.96      0.98      0.97      1032\n",
            "           3       0.95      0.98      0.96      1010\n",
            "           4       0.98      0.96      0.97       982\n",
            "           5       0.98      0.95      0.96       892\n",
            "           6       0.98      0.98      0.98       958\n",
            "           7       0.98      0.96      0.97      1028\n",
            "           8       0.97      0.97      0.97       974\n",
            "           9       0.96      0.97      0.96      1009\n",
            "\n",
            "    accuracy                           0.97     10000\n",
            "   macro avg       0.97      0.97      0.97     10000\n",
            "weighted avg       0.97      0.97      0.97     10000\n",
            "\n"
          ]
        }
      ],
      "source": [
        "# Calculate metrics for the test data\n",
        "print(\"Test Data Metrics:\")\n",
        "calculate_metrics(mlp, X_test, Y_test)"
      ]
    },
    {
      "cell_type": "markdown",
      "metadata": {
        "id": "o2zJMrEQnDhN"
      },
      "source": [
        "## Reporting the Findings (5 Points)\n",
        "\n",
        "In the next cell you should do the following:\n",
        "\n",
        "1. **Analyze Results:** Compare the metrics across the different splits. A model that performs exceptionally well on the training set but poorly on the validation/test sets may be overfitting. Conversely, underfitting may be indicated by poor performance across all sets.\n",
        "\n",
        "2. **Report Findings:** Summarize the results in a clear and concise manner."
      ]
    },
    {
      "cell_type": "markdown",
      "metadata": {
        "id": "z_pRlr1AnDhN"
      },
      "source": [
        "### Your Explanation:\n",
        "\n",
        "### Analysis\n",
        "\n",
        "#### Training Data Metrics:\n",
        "- The model achieves high precision, recall, and F1-scores close to 1.00 for all classes.\n",
        "- The overall accuracy is 1.00, indicating that the model performs exceptionally well on the training data.\n",
        "- This suggests that the model has learned the training data very well.\n",
        "\n",
        "#### Validation Data Metrics:\n",
        "- The model achieves high precision, recall, and F1-scores ranging from 0.96 to 0.99 across all classes.\n",
        "- The overall accuracy on the validation set is 0.98, indicating strong generalization performance on unseen validation data.\n",
        "- Slight drops in precision and recall compared to the training set suggest the model is not overfitting significantly and generalizes well.\n",
        "\n",
        "#### Test Data Metrics:\n",
        "- The model achieves high precision, recall, and F1-scores ranging from 0.95 to 0.99 across all classes.\n",
        "- The overall accuracy on the test set is 0.97, confirming that the model maintains good performance on completely unseen data.\n",
        "- The consistent performance on the validation and test sets indicates that the model has generalized well to new data.\n",
        "\n",
        "### Report Findings\n",
        "\n",
        "Training Data Metrics:\n",
        "- Precision, recall, and F1-scores are all close to 1.00, with an overall accuracy of 1.00.\n",
        "- This suggests that the model has effectively learned the training data without significant issues.\n",
        "\n",
        "Validation Data Metrics:\n",
        "- The model achieves high precision, recall, and F1-scores (0.96 to 0.99) with an overall accuracy of 0.98.\n",
        "- These results indicate that the model generalizes well to unseen validation data, with only slight performance drops compared to the training set.\n",
        "\n",
        "Test Data Metrics:\n",
        "- The model achieves high precision, recall, and F1-scores (0.95 to 0.99) with an overall accuracy of 0.97.\n",
        "- The performance on the test set is consistent with the validation set, confirming the model's generalization ability.\n",
        "\n",
        "Conclusion:\n",
        "- The MLP model demonstrates excellent performance across the training, validation, and test datasets, with high precision, recall, and F1-scores.\n",
        "- The slight drops in performance from the training set to the validation and test sets suggest good generalization without significant overfitting.\n",
        "- Overall, the model is well-trained and capable of making accurate predictions on unseen data, indicating robustness and reliability.\n",
        "\n",
        "These findings highlight the model's ability to generalize effectively, making it suitable for deployment or further experimentation with different datasets or hyperparameters to explore its robustness and versatility."
      ]
    }
  ],
  "metadata": {
    "colab": {
      "provenance": [],
      "toc_visible": true
    },
    "kernelspec": {
      "display_name": "ai",
      "language": "python",
      "name": "python3"
    },
    "language_info": {
      "codemirror_mode": {
        "name": "ipython",
        "version": 3
      },
      "file_extension": ".py",
      "mimetype": "text/x-python",
      "name": "python",
      "nbconvert_exporter": "python",
      "pygments_lexer": "ipython3",
      "version": "3.12.3"
    }
  },
  "nbformat": 4,
  "nbformat_minor": 0
}
