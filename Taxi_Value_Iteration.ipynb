{
  "cells": [
    {
      "cell_type": "markdown",
      "metadata": {
        "id": "ILO9Sh6g8e-G"
      },
      "source": [
        "\n",
        "<br>\n",
        "<font>\n",
        "<div dir=ltr align=center>\n",
        "<img src=\"https://cdn.freebiesupply.com/logos/large/2x/sharif-logo-png-transparent.png\" width=150 height=150> <br>\n",
        "<font color=0F5298 size=7>\n",
        "Artificial Intelligence <br>\n",
        "<font color=2565AE size=5>\n",
        "Computer Engineering Department <br>\n",
        "Spring 2024<br>\n",
        "<font color=3C99D size=5>\n",
        "Practical Assignment 5 - RL <br>\n",
        "<font color=696880 size=4>\n",
        "Amirhossein Abedi\n",
        "\n",
        "\n",
        "____"
      ]
    },
    {
      "cell_type": "markdown",
      "metadata": {
        "id": "myOD6vVr8e-J"
      },
      "source": [
        "# Personal Data"
      ]
    },
    {
      "cell_type": "code",
      "execution_count": 2,
      "metadata": {
        "id": "7nYtqzK_8e-K"
      },
      "outputs": [],
      "source": [
        "# Set your student number and name\n",
        "student_number = '401106096'\n",
        "Name = 'Radin'\n",
        "Last_Name = 'Shahdaei'"
      ]
    },
    {
      "cell_type": "markdown",
      "metadata": {
        "id": "OI2NxMhk8e-L"
      },
      "source": [
        "# <center>تاکسی</center>\n",
        "\n",
        "<div dir=\"rtl\" style=\"font-size:18px\">\n",
        "در این سوال می‌خواهیم با محیط Taxi در gymnasium کار کنیم.\n",
        "<br>\n",
        "در اینجا در نقش یک تاکسی هستیم که باید یک مسافر را از یک مکان مشخص برداریم و در مقصد موردنظر او پیاده کنیم. توضیحات تکمیلی درمورد این محیط را می‌توانید در  <a href=\"https://gymnasium.farama.org/environments/toy_text/taxi/\">Taxi</a>  پیدا کنید.\n",
        "\n",
        "![Taxi](taxi.png)\n",
        "</div>"
      ]
    },
    {
      "cell_type": "markdown",
      "metadata": {
        "id": "fyxepVFp8e-L"
      },
      "source": [
        "<div dir=\"rtl\" style=\"font-size:18px\">\n",
        "در این سوال می‌خواهیم با پیاده‌سازی الگوریتم value iteration بهترین پاسخ در هر حالت را پیدا کنیم. هر حالت در این بازی با یک عدد بین ۰ تا ۴۹۹ نشان داده می‌شود. که فرمول آن به صورت زیر است\n",
        "<br><br>\n",
        "\n",
        "### <center dir=\"ltr\">state = ((5 × row + col) × 5 + passenger_location) × 4 + destination</center>\n",
        "\n",
        "<br><br>\n",
        "مقادیر row و col که مشخص است و عددی بین ۰ تا ۴ است. مقدار passenger_location بین ۰ تا ۴ می‌باشد که هرکدام از اعداد نشان می‌دهد که مسافر در کدام پایانه قرار دارد. پایانه‌ها مکان‌هایی مشخص درون بازی هستند که می‌تواند با استفاده از تابع env.render آن‌ها را مشاهده کنید. ۴ پایانه به رنگ‌های قرمز، سبز، زرد، آبی درون بازی قرار دارند که مقادیر ۰ تا ۳ به ترتیب همین پایانه‌ها را نشان می‌دهد. و در نهایت مقدار ۴ برای passenger_location به این معنا است که مسافر در تاکسی قرار دارد.\n",
        "<br><br>\n",
        "مقدار destination نشان می‌دهد که مسافر می‌خواهد در کدام پایانه پیاده شود. نگاشت عدد و رنگ‌ها مانند بخش passenger_location می‌باشد و فقط مقادیر ۰ تا ۳ را به خود می‌گیرد.\n",
        "<br><br>\n",
        "با هر بار اجرای تابع reset و step بر روی env ، مقدار اولی که به شما برگردانده می‌شود مقدار state است. در ادامه به action ها می‌پردازیم. در کل ۶ اکشن مختلف می‌توانیم اجرا کنیم. اکشن ۰ تا ۳ به ترتیب مربوط به حرکات پایین، بالا، راست و چپ است. حرکت ۴ مربوط به برداشتن مسافر و حرکت ۵ پیاده کردن مسافر است. استفاده از حرکت ۴ و ۵ هنگامی که مجاز نباشند، ریوارد منفی زیادی خواهد داشت.\n",
        "</div>"
      ]
    },
    {
      "cell_type": "code",
      "source": [
        "!pip install gymnasium"
      ],
      "metadata": {
        "id": "xpjRAhmB89_t"
      },
      "execution_count": null,
      "outputs": []
    },
    {
      "cell_type": "code",
      "execution_count": 4,
      "metadata": {
        "id": "OPJKO8RY8e-L"
      },
      "outputs": [],
      "source": [
        "import gymnasium as gym\n",
        "env = gym.make('Taxi-v3', render_mode='ansi')"
      ]
    },
    {
      "cell_type": "markdown",
      "metadata": {
        "id": "oaTfcX0-8e-M"
      },
      "source": [
        "<div dir=\"rtl\" style=\"font-size:18px\">\n",
        "خروجی تابع reset شامل یک ۲ تایی است. اولین خروجی آن یک عدد است که نشان‌دهنده حالت اولیه می‌باشد و خروجی دوم یک دیکشنری است که مقدار action_mask شامل تمام اکشن‌هایی است که در این حالت می‌توانید انجام دهید.\n",
        "</div>"
      ]
    },
    {
      "cell_type": "code",
      "execution_count": 5,
      "metadata": {
        "colab": {
          "base_uri": "https://localhost:8080/"
        },
        "id": "sGYei0pW8e-M",
        "outputId": "a15b3c36-d48e-445d-b431-6cb1380c8d52"
      },
      "outputs": [
        {
          "output_type": "execute_result",
          "data": {
            "text/plain": [
              "(412, {'prob': 1.0, 'action_mask': array([0, 1, 0, 0, 0, 0], dtype=int8)})"
            ]
          },
          "metadata": {},
          "execution_count": 5
        }
      ],
      "source": [
        "env.reset()"
      ]
    },
    {
      "cell_type": "markdown",
      "metadata": {
        "id": "vIFFsN6U8e-N"
      },
      "source": [
        "<div dir=\"rtl\" style=\"font-size:18px\">\n",
        "خروجی تابع step هم تا حدود زیادی شبیه به reset می باشد. با این تفاوت که بعد از خروجی حالت، یک عدد و ۲ بولین به شما می‌دهد که عدد اول مقدار reward و بولین اول تمام شدن بازی را مشخص می‌کند.\n",
        "</div>"
      ]
    },
    {
      "cell_type": "code",
      "execution_count": 6,
      "metadata": {
        "colab": {
          "base_uri": "https://localhost:8080/"
        },
        "id": "ekBJZU-M8e-N",
        "outputId": "9f5d2bd5-c334-460f-88ea-b2d285fffcf3"
      },
      "outputs": [
        {
          "output_type": "execute_result",
          "data": {
            "text/plain": [
              "(412,\n",
              " -1,\n",
              " False,\n",
              " False,\n",
              " {'prob': 1.0, 'action_mask': array([0, 1, 0, 0, 0, 0], dtype=int8)})"
            ]
          },
          "metadata": {},
          "execution_count": 6
        }
      ],
      "source": [
        "env.step(0)"
      ]
    },
    {
      "cell_type": "markdown",
      "metadata": {
        "id": "a4unPsxM8e-N"
      },
      "source": [
        "<div dir=\"rtl\" style=\"font-size:18px\">\n",
        "در ادامه کلاس VI را پیاده‌سازی کنید که با گرفتن discount factor الگوریتم value iteration را پیاده‌سازی می‌کند.\n",
        "</div>"
      ]
    },
    {
      "cell_type": "code",
      "execution_count": 13,
      "metadata": {
        "id": "bgcSpgzF8e-O"
      },
      "outputs": [],
      "source": [
        "import numpy as np\n",
        "\n",
        "class VI():\n",
        "    def __init__(self, gamma: float = 0.95):\n",
        "        self.gamma = gamma\n",
        "        self.vals = np.zeros(500)\n",
        "        NUM_LOOPS = 10000\n",
        "        self.train_value_iteration(NUM_LOOPS)\n",
        "\n",
        "    def train_value_iteration(self, num_loops: int):\n",
        "        \"\"\"Train the value iteration algorithm for a specified number of loops.\"\"\"\n",
        "        for _ in range(num_loops):\n",
        "            vals_prime = np.copy(self.vals)\n",
        "            for i in range(500):\n",
        "                vals_prime[i] = self.calculate_value(i)\n",
        "            self.vals = vals_prime\n",
        "            self.set_terminal_values()\n",
        "\n",
        "    def calculate_value(self, state: int) -> float:\n",
        "        \"\"\"Calculate the value of a given state by considering all possible actions.\"\"\"\n",
        "        values = [self.gamma * self.vals[self.T(state, action)] + self.R(state, action) for action in range(6)]\n",
        "        return max(values)\n",
        "\n",
        "    def set_terminal_values(self):\n",
        "        \"\"\"Set predefined terminal values for specific states.\"\"\"\n",
        "        terminal_states = [\n",
        "            self._state_to_num(0, 0, 4, 0),\n",
        "            self._state_to_num(0, 4, 4, 1),\n",
        "            self._state_to_num(4, 0, 4, 2),\n",
        "            self._state_to_num(4, 3, 4, 3)\n",
        "        ]\n",
        "        for state in terminal_states:\n",
        "            self.vals[state] = 1000\n",
        "\n",
        "    def policy(self, state: int) -> int:\n",
        "        \"\"\"Determine the best action to take in a given state based on the current value function.\"\"\"\n",
        "        values = [self.vals[self.T(state, action)] + self.R(state, action) for action in range(6)]\n",
        "        return int(np.argmax(values))\n",
        "\n",
        "    def T(self, state: int, action: int) -> int:\n",
        "        \"\"\"Transition function: returns the next state given a current state and action.\"\"\"\n",
        "        row, col, passenger_loc, dest = self._num_to_state(state)\n",
        "        if action == 4:\n",
        "            return self.handle_pickup(row, col, passenger_loc, dest, state)\n",
        "        if action == 5:\n",
        "            return state\n",
        "        return self.handle_move(row, col, passenger_loc, dest, action, state)\n",
        "\n",
        "    def handle_pickup(self, row: int, col: int, passenger_loc: int, dest: int, state: int) -> int:\n",
        "        \"\"\"Handle the pickup action.\"\"\"\n",
        "        if self._correct_pickup(row, col, passenger_loc):\n",
        "            return self._state_to_num(row, col, 4, dest)\n",
        "        return state\n",
        "\n",
        "    def handle_move(self, row: int, col: int, passenger_loc: int, dest: int, action: int, state: int) -> int:\n",
        "        \"\"\"Handle the movement actions (north, south, east, west).\"\"\"\n",
        "        if action == 0:\n",
        "            return self.move_south(row, col, passenger_loc, dest, state)\n",
        "        if action == 1:\n",
        "            return self.move_north(row, col, passenger_loc, dest, state)\n",
        "        if action == 2:\n",
        "            return self.move_east(row, col, passenger_loc, dest, state)\n",
        "        if action == 3:\n",
        "            return self.move_west(row, col, passenger_loc, dest, state)\n",
        "        return state\n",
        "\n",
        "    def move_south(self, row: int, col: int, passenger_loc: int, dest: int, state: int) -> int:\n",
        "        \"\"\"Move south (down) if not at the boundary.\"\"\"\n",
        "        if row == 4:\n",
        "            return state\n",
        "        return self._state_to_num(row + 1, col, passenger_loc, dest)\n",
        "\n",
        "    def move_north(self, row: int, col: int, passenger_loc: int, dest: int, state: int) -> int:\n",
        "        \"\"\"Move north (up) if not at the boundary.\"\"\"\n",
        "        if row == 0:\n",
        "            return state\n",
        "        return self._state_to_num(row - 1, col, passenger_loc, dest)\n",
        "\n",
        "    def move_east(self, row: int, col: int, passenger_loc: int, dest: int, state: int) -> int:\n",
        "        \"\"\"Move east (right) if not at the boundary or blocked.\"\"\"\n",
        "        if (row, col) in self.get_east_blocked_cells():\n",
        "            return state\n",
        "        return self._state_to_num(row, col + 1, passenger_loc, dest)\n",
        "\n",
        "    def move_west(self, row: int, col: int, passenger_loc: int, dest: int, state: int) -> int:\n",
        "        \"\"\"Move west (left) if not at the boundary or blocked.\"\"\"\n",
        "        if (row, col) in self.get_west_blocked_cells():\n",
        "            return state\n",
        "        return self._state_to_num(row, col - 1, passenger_loc, dest)\n",
        "\n",
        "    def get_east_blocked_cells(self):\n",
        "        \"\"\"Return the list of cells where movement to the east is blocked.\"\"\"\n",
        "        return [(0, 1), (1, 1), (3, 0), (4, 0), (3, 2), (4, 2), (0, 4), (1, 4), (2, 4), (3, 4), (4, 4)]\n",
        "\n",
        "    def get_west_blocked_cells(self):\n",
        "        \"\"\"Return the list of cells where movement to the west is blocked.\"\"\"\n",
        "        return [(3, 3), (4, 3), (0, 2), (1, 2), (3, 1), (4, 1), (0, 0), (1, 0), (2, 0), (3, 0), (4, 0)]\n",
        "\n",
        "    def R(self, state: int, action: int) -> int:\n",
        "        \"\"\"Reward function: returns the reward for a given state and action.\"\"\"\n",
        "        row, col, passenger_loc, dest = self._num_to_state(state)\n",
        "        if action == 4:\n",
        "            return self.pickup_reward(row, col, passenger_loc)\n",
        "        if action == 5:\n",
        "            return self.dropoff_reward(row, col, passenger_loc, dest)\n",
        "        return -1\n",
        "\n",
        "    def pickup_reward(self, row: int, col: int, passenger_loc: int) -> int:\n",
        "        \"\"\"Calculate the reward for picking up a passenger.\"\"\"\n",
        "        if self._correct_pickup(row, col, passenger_loc):\n",
        "            return -1\n",
        "        return -10\n",
        "\n",
        "    def dropoff_reward(self, row: int, col: int, passenger_loc: int, dest: int) -> int:\n",
        "        \"\"\"Calculate the reward for dropping off a passenger.\"\"\"\n",
        "        if self._correct_drop(row, col, passenger_loc, dest):\n",
        "            return 20\n",
        "        return -10\n",
        "\n",
        "    def _correct_pickup(self, row: int, col: int, passenger_loc: int) -> bool:\n",
        "        \"\"\"Check if the pickup location is correct.\"\"\"\n",
        "        pickup_locations = {0: (0, 0), 1: (0, 4), 2: (4, 0), 3: (4, 3)}\n",
        "        return (row, col) == pickup_locations.get(passenger_loc, (-1, -1))\n",
        "\n",
        "    def _correct_drop(self, row: int, col: int, passenger_loc: int, dest: int) -> bool:\n",
        "        \"\"\"Check if the dropoff location is correct.\"\"\"\n",
        "        dropoff_locations = {0: (0, 0), 1: (0, 4), 2: (4, 0), 3: (4, 3)}\n",
        "        return passenger_loc == 4 and (row, col) == dropoff_locations.get(dest, (-1, -1))\n",
        "\n",
        "    def _num_to_state(self, num: int):\n",
        "        \"\"\"Convert a state number to the corresponding (row, col, passenger_loc, dest) tuple.\"\"\"\n",
        "        dest = num % 4\n",
        "        num //= 4\n",
        "        passenger_loc = num % 5\n",
        "        num //= 5\n",
        "        col = num % 5\n",
        "        num //= 5\n",
        "        return num, col, passenger_loc, dest\n",
        "\n",
        "    def _state_to_num(self, row: int, col: int, passenger_loc: int, dest: int) -> int:\n",
        "        \"\"\"Convert a (row, col, passenger_loc, dest) tuple to the corresponding state number.\"\"\"\n",
        "        ret = row\n",
        "        ret = 5 * ret + col\n",
        "        ret = 5 * ret + passenger_loc\n",
        "        ret = 4 * ret + dest\n",
        "        return ret\n",
        "\n",
        "agent = VI()\n"
      ]
    },
    {
      "cell_type": "markdown",
      "metadata": {
        "id": "_tIeJo758e-O"
      },
      "source": [
        "<div dir=\"rtl\" style=\"font-size:18px\">\n",
        "۲ سلول بعدی را اجرا کنید. در هر نقشه نشان داده شده است که با برقرار بودن شرایط به خصوص، تاکسی به کدام سمت حرکت می‌کند. در انتها در چند خط منطقی عمل کردن مدل خود را بررسی کنید.\n",
        "</div>"
      ]
    },
    {
      "cell_type": "code",
      "execution_count": 14,
      "metadata": {
        "colab": {
          "base_uri": "https://localhost:8080/"
        },
        "id": "fpit-LOx8e-O",
        "outputId": "b96cf64b-1c49-4c1f-e966-b23ea9f69806"
      },
      "outputs": [
        {
          "output_type": "stream",
          "name": "stdout",
          "text": [
            "Passenger in R\n",
            "+---------+\n",
            "|R:←|↓:↓:G|\n",
            "|↑:↑|↓:↓:↓|\n",
            "|↑:↑:←:←:←|\n",
            "|↑|↑:↑|↑:↑|\n",
            "|Y|↑:↑|B:↑|\n",
            "+---------+\n",
            "\n",
            "Passenger in G\n",
            "+---------+\n",
            "|R:↓|→:→:G|\n",
            "|↓:↓|↑:↑:↑|\n",
            "|→:→:↑:↑:↑|\n",
            "|↑|↑:↑|↑:↑|\n",
            "|Y|↑:↑|B:↑|\n",
            "+---------+\n",
            "\n",
            "Passenger in Y\n",
            "+---------+\n",
            "|R:↓|↓:↓:G|\n",
            "|↓:↓|↓:↓:↓|\n",
            "|↓:←:←:←:←|\n",
            "|↓|↑:↑|↑:↑|\n",
            "|Y|↑:↑|B:↑|\n",
            "+---------+\n",
            "\n",
            "Passenger in B\n",
            "+---------+\n",
            "|R:↓|↓:↓:G|\n",
            "|↓:↓|↓:↓:↓|\n",
            "|→:→:→:↓:↓|\n",
            "|↑|↑:↑|↓:↓|\n",
            "|Y|↑:↑|B:←|\n",
            "+---------+\n",
            "\n"
          ]
        }
      ],
      "source": [
        "terminal = {0: 'R', 1: 'G', 2: 'Y', 3: 'B'}\n",
        "arrows = {0: '↓', 1: '↑', 2: '→', 3: '←'}\n",
        "for passenger_loc in range(4):\n",
        "    print(f'Passenger in {terminal[passenger_loc]}')\n",
        "    print('+---------+')\n",
        "    for i in range(5):\n",
        "        print('|', end='')\n",
        "        for j in range(5):\n",
        "            if not j == 0:\n",
        "                if (i, j) in [(0, 2), (1, 2), (3, 1), (4, 1), (3, 3), (4, 3)]:\n",
        "                    print('|', end='')\n",
        "                else:\n",
        "                    print(':', end='')\n",
        "            if (i, j) in [(0, 0), (0, 4), (4, 0), (4, 3)]:\n",
        "                print(terminal[[(0, 0), (0, 4), (4, 0), (4, 3)].index((i, j))], end='')\n",
        "            else:\n",
        "                try:\n",
        "                    print(arrows[agent.policy(agent._state_to_num(i, j, passenger_loc, 1))], end='')\n",
        "                except:\n",
        "                    print('⤬', end='')\n",
        "        print('|')\n",
        "    print('+---------+\\n')\n",
        "\n",
        ""
      ]
    },
    {
      "cell_type": "code",
      "execution_count": 15,
      "metadata": {
        "colab": {
          "base_uri": "https://localhost:8080/"
        },
        "id": "OxJPM_x58e-O",
        "outputId": "cf77ad4b-be1c-447e-b349-88d4db9e3853"
      },
      "outputs": [
        {
          "output_type": "stream",
          "name": "stdout",
          "text": [
            "Passenger on board, destination in R\n",
            "+---------+\n",
            "|R:←|↓:↓:G|\n",
            "|↑:↑|↓:↓:↓|\n",
            "|↑:↑:←:←:←|\n",
            "|↑|↑:↑|↑:↑|\n",
            "|Y|↑:↑|B:↑|\n",
            "+---------+\n",
            "\n",
            "Passenger on board, destination in G\n",
            "+---------+\n",
            "|R:↓|→:→:G|\n",
            "|↓:↓|↑:↑:↑|\n",
            "|→:→:↑:↑:↑|\n",
            "|↑|↑:↑|↑:↑|\n",
            "|Y|↑:↑|B:↑|\n",
            "+---------+\n",
            "\n",
            "Passenger on board, destination in Y\n",
            "+---------+\n",
            "|R:↓|↓:↓:G|\n",
            "|↓:↓|↓:↓:↓|\n",
            "|↓:←:←:←:←|\n",
            "|↓|↑:↑|↑:↑|\n",
            "|Y|↑:↑|B:↑|\n",
            "+---------+\n",
            "\n",
            "Passenger on board, destination in B\n",
            "+---------+\n",
            "|R:↓|↓:↓:G|\n",
            "|↓:↓|↓:↓:↓|\n",
            "|→:→:→:↓:↓|\n",
            "|↑|↑:↑|↓:↓|\n",
            "|Y|↑:↑|B:←|\n",
            "+---------+\n",
            "\n"
          ]
        }
      ],
      "source": [
        "terminal = {0: 'R', 1: 'G', 2: 'Y', 3: 'B'}\n",
        "arrows = {0: '↓', 1: '↑', 2: '→', 3: '←'}\n",
        "for dest in range(4):\n",
        "    print(f'Passenger on board, destination in {terminal[dest]}')\n",
        "    print('+---------+')\n",
        "    for i in range(5):\n",
        "        print('|', end='')\n",
        "        for j in range(5):\n",
        "            if not j == 0:\n",
        "                if (i, j) in [(0, 2), (1, 2), (3, 1), (4, 1), (3, 3), (4, 3)]:\n",
        "                    print('|', end='')\n",
        "                else:\n",
        "                    print(':', end='')\n",
        "            if (i, j) in [(0, 0), (0, 4), (4, 0), (4, 3)]:\n",
        "                print(terminal[[(0, 0), (0, 4), (4, 0), (4, 3)].index((i, j))], end='')\n",
        "            else:\n",
        "                try:\n",
        "                    print(arrows[agent.policy(agent._state_to_num(i, j, 4, dest))], end='')\n",
        "                except:\n",
        "                    print('⤬', end='')\n",
        "        print('|')\n",
        "    print('+---------+\\n')"
      ]
    },
    {
      "cell_type": "markdown",
      "source": [
        "<div dir=\"rtl\" style=\"font-size:18px\">\n",
        "در تحلیل نقشه‌ها مشخص است که مدل تاکسی برای هر\n",
        "موقعیت مسافر (R، G، Y، B) حرکت بهینه را انتخاب می‌کند. به عنوان مثال، وقتی مسافر در موقعیت R است، تاکسی به سمت چپ حرکت می‌کند و وقتی مسافر در موقعیت G است، تاکسی به سمت راست حرکت می‌کند. این روند در تمامی نقشه‌ها مشاهده می‌شود که نشان می‌دهد مدل به درستی موقعیت مسافر را شناسایی کرده و به سمت آن حرکت می‌کند. پس از سوار کردن مسافر، مدل مسیر بهینه را برای رسیدن به مقصد مشخص شده انتخاب می‌کند. به عنوان نمونه، زمانی که مقصد مسافر R است، تاکسی به سمت چپ حرکت می‌کند و زمانی که مقصد G است، تاکسی به سمت راست حرکت می‌کند.\n",
        "<div>\n",
        "\n",
        "<div dir=\"rtl\" style=\"font-size:18px\">\n",
        "عملکرد مدل نشان می‌دهد که الگوریتم ارزش‌یابی (value iteration) به درستی پاداش‌ها و ارزش‌های هر حالت و عمل را محاسبه کرده است. این الگوریتم به مدل اجازه می‌دهد تا برای هر وضعیت و عملی که انجام می‌دهد، ارزش بیشتری را انتخاب کند و به سمت آن حرکت کند. در نتیجه، مدل به صورت منطقی و بهینه مسافر را به مقصد می‌رساند. این رفتار نشان‌دهنده این است که مدل با توجه به شرایط و پاداش‌های مشخص شده، به بهترین نحو ممکن تصمیم‌گیری می‌کند و مسافر را در کمترین زمان ممکن به مقصد می‌رساند.\n",
        "<div>"
      ],
      "metadata": {
        "id": "kU83EuWTAo9j"
      }
    }
  ],
  "metadata": {
    "kernelspec": {
      "display_name": "Python 3",
      "language": "python",
      "name": "python3"
    },
    "language_info": {
      "codemirror_mode": {
        "name": "ipython",
        "version": 3
      },
      "file_extension": ".py",
      "mimetype": "text/x-python",
      "name": "python",
      "nbconvert_exporter": "python",
      "pygments_lexer": "ipython3",
      "version": "3.11.3"
    },
    "orig_nbformat": 4,
    "colab": {
      "provenance": []
    }
  },
  "nbformat": 4,
  "nbformat_minor": 0
}