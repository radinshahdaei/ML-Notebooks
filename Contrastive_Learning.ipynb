{
  "cells": [
    {
      "cell_type": "markdown",
      "id": "be138f6f",
      "metadata": {
        "id": "be138f6f",
        "papermill": {
          "duration": 0.02181,
          "end_time": "2024-12-18T17:13:30.324107",
          "exception": false,
          "start_time": "2024-12-18T17:13:30.302297",
          "status": "completed"
        },
        "tags": []
      },
      "source": [
        "# Knowdge Distillation using Contrastive Learning\n"
      ]
    },
    {
      "cell_type": "markdown",
      "id": "376ecc79",
      "metadata": {
        "id": "376ecc79",
        "papermill": {
          "duration": 0.014958,
          "end_time": "2024-12-18T17:13:30.355437",
          "exception": false,
          "start_time": "2024-12-18T17:13:30.340479",
          "status": "completed"
        },
        "tags": []
      },
      "source": [
        " #### Student Name: Radin Shahdaei\n",
        "\n",
        "\n",
        " #### Student ID: 401106096\n"
      ]
    },
    {
      "cell_type": "markdown",
      "id": "a1dba4d2",
      "metadata": {
        "id": "a1dba4d2",
        "papermill": {
          "duration": 0.014965,
          "end_time": "2024-12-18T17:13:30.385132",
          "exception": false,
          "start_time": "2024-12-18T17:13:30.370167",
          "status": "completed"
        },
        "tags": []
      },
      "source": [
        "In this exercise, we aim to distill knowledge from a large monolingual model into a smaller multilingual model using contrastive learning, specifically leveraging the CLIP model loss.\n",
        "\n",
        "We employ a small paired English-Persian dataset to define the loss pairs for our CLIP training. Given the substantial dataset size and batch size typically required for CLIP's loss computation (exceeding 19,000 samples per batch in standard tasks), which is impractical for our setup on Colab, we use a reduced batch size to focus on learning the procedure rather than achieving optimal performance, so we don't expect actual real-world results, only the training prcodure."
      ]
    },
    {
      "cell_type": "markdown",
      "id": "90e95f9e",
      "metadata": {
        "id": "90e95f9e",
        "papermill": {
          "duration": 0.014841,
          "end_time": "2024-12-18T17:13:30.414686",
          "exception": false,
          "start_time": "2024-12-18T17:13:30.399845",
          "status": "completed"
        },
        "tags": []
      },
      "source": [
        "CLIP (Contrastive Language-Image Pretraining) is a foundational model introduced by OpenAI to bridge the gap between text and image modalities. By aligning text descriptions and corresponding images in a shared embedding space, CLIP achieves remarkable zero-shot generalization capabilities across a wide range of tasks. It is trained on a massive dataset of image-text pairs using contrastive loss, ensuring that image embeddings align closely with their corresponding textual descriptions while remaining distinct from unrelated samples. This cross-modal alignment enables CLIP to perform tasks like image retrieval, captioning, and classification with minimal fine-tuning.\n",
        "\n",
        "The CLIP loss plays a crucial role in training the model by implementing a cross-entropy loss function in the contrastive learning framework. This loss operates on paired data, where each image-text pair is treated as a positive match, while all other pair combinations in the batch are considered negatives. The loss ensures that positive pairs receive high similarity scores, while negatives are penalized. However, achieving optimal results with CLIP loss often requires large batch sizes to provide sufficient negative samples, which can be computationally intensive. This makes training with limited resources challenging, necessitating adaptations such as smaller batch sizes or alternative strategies to approximate the training dynamics.\n",
        "\n",
        "\n",
        "Knowledge distillation is a technique used in machine learning to transfer knowledge from a large, complex model (the \"teacher\") to a smaller, more efficient model (the \"student\"). The primary goal of this process is to retain the performance and accuracy of the larger model while significantly reducing computational and memory requirements. This is achieved by training the student model to mimic the outputs of the teacher model, often through techniques such as matching soft probability distributions or intermediate representations. Knowledge distillation has become an essential approach in deploying machine learning models on resource-constrained devices such as smartphones and edge devices.\n",
        "\n",
        "In practice, knowledge distillation is not limited to replicating predictions; it can also involve transferring knowledge about internal features or learned representations.\n",
        "\n",
        "\n",
        "### Challenges in Resource-Constrained Settings\n",
        "CLIP’s reliance on large-scale datasets and batch sizes makes direct implementation computationally demanding. This exercise demonstrates an adaptation of the process, reducing batch size and dataset size to provide a practical understanding of the training procedure. While this approach sacrifices performance and real-world applicability, it highlights the mechanics of using CLIP loss for contrastive learning and lays the foundation for extending the process to larger datasets and batch sizes in future applications.\n",
        "\n",
        "\n",
        "\n",
        "### About CLIP and Contrastive Learning\n",
        "CLIP, developed by OpenAI, bridges the gap between text and image modalities by aligning corresponding embeddings in a shared space. It leverages contrastive loss to train on image-text pairs, ensuring that embeddings of positive pairs (e.g., an image and its corresponding caption) are highly similar, while embeddings of unrelated pairs remain distinct. The cross-entropy-based contrastive loss evaluates the similarity between positive pairs while penalizing mismatches for all other combinations within a batch.\n",
        "\n",
        "### Key aspects of CLIP loss include:\n",
        "\n",
        "- Positive Pairing: Encourages high similarity scores for embeddings of paired text and image data.\n",
        "- Negative Sampling: Penalizes mismatched pairs within the batch, requiring large batch sizes for effective performance due to the need for a diverse set of negative samples.\n",
        "\n"
      ]
    },
    {
      "cell_type": "markdown",
      "id": "ba7c7274",
      "metadata": {
        "id": "ba7c7274",
        "papermill": {
          "duration": 0.01457,
          "end_time": "2024-12-18T17:13:30.444777",
          "exception": false,
          "start_time": "2024-12-18T17:13:30.430207",
          "status": "completed"
        },
        "tags": []
      },
      "source": [
        "## !!! Note !!! You Should Answer to all the TODOs\n",
        "\n",
        "Also feel free to ask your questions on Quera."
      ]
    },
    {
      "cell_type": "markdown",
      "id": "e7da461e",
      "metadata": {
        "id": "e7da461e",
        "papermill": {
          "duration": 0.014905,
          "end_time": "2024-12-18T17:13:30.474341",
          "exception": false,
          "start_time": "2024-12-18T17:13:30.459436",
          "status": "completed"
        },
        "tags": []
      },
      "source": [
        "\n",
        "\n",
        "## Setup\n"
      ]
    },
    {
      "cell_type": "markdown",
      "id": "06e48967",
      "metadata": {
        "id": "06e48967",
        "papermill": {
          "duration": 0.014958,
          "end_time": "2024-12-18T17:13:30.503840",
          "exception": false,
          "start_time": "2024-12-18T17:13:30.488882",
          "status": "completed"
        },
        "tags": []
      },
      "source": [
        "We install Required Packages."
      ]
    },
    {
      "cell_type": "code",
      "execution_count": 1,
      "id": "69339c7a",
      "metadata": {
        "execution": {
          "iopub.execute_input": "2024-12-18T17:13:30.535983Z",
          "iopub.status.busy": "2024-12-18T17:13:30.535604Z",
          "iopub.status.idle": "2024-12-18T17:13:50.781819Z",
          "shell.execute_reply": "2024-12-18T17:13:50.781004Z"
        },
        "id": "69339c7a",
        "outputId": "89ccc67d-4294-4314-9316-b2a39e3f4310",
        "papermill": {
          "duration": 20.264414,
          "end_time": "2024-12-18T17:13:50.783672",
          "exception": false,
          "start_time": "2024-12-18T17:13:30.519258",
          "status": "completed"
        },
        "tags": [],
        "colab": {
          "base_uri": "https://localhost:8080/"
        }
      },
      "outputs": [
        {
          "output_type": "stream",
          "name": "stdout",
          "text": [
            "Downloading...\n",
            "From: https://drive.google.com/uc?id=1MVx_gIkX4tQ8ya2OsHt0mqLmw1Pf2CcK\n",
            "To: /content/train.csv\n",
            "100% 7.35M/7.35M [00:00<00:00, 45.1MB/s]\n",
            "Downloading...\n",
            "From: https://drive.google.com/uc?id=1Co-dwJfWw-C_ral0hoAS_X94wN-_vbCj\n",
            "To: /content/val.csv\n",
            "100% 2.45M/2.45M [00:00<00:00, 20.6MB/s]\n"
          ]
        }
      ],
      "source": [
        "!pip install -q gdown\n",
        "!gdown \"https://drive.google.com/uc?id=1MVx_gIkX4tQ8ya2OsHt0mqLmw1Pf2CcK\"\n",
        "!gdown \"https://drive.google.com/uc?id=1Co-dwJfWw-C_ral0hoAS_X94wN-_vbCj\""
      ]
    },
    {
      "cell_type": "code",
      "execution_count": 2,
      "id": "70d93c5e",
      "metadata": {
        "execution": {
          "iopub.execute_input": "2024-12-18T17:13:50.816136Z",
          "iopub.status.busy": "2024-12-18T17:13:50.815755Z",
          "iopub.status.idle": "2024-12-18T17:14:15.313938Z",
          "shell.execute_reply": "2024-12-18T17:14:15.312837Z"
        },
        "id": "70d93c5e",
        "outputId": "eda3971f-93a8-4008-ac7b-b03346501df9",
        "papermill": {
          "duration": 24.516699,
          "end_time": "2024-12-18T17:14:15.316512",
          "exception": false,
          "start_time": "2024-12-18T17:13:50.799813",
          "status": "completed"
        },
        "tags": [],
        "colab": {
          "base_uri": "https://localhost:8080/"
        }
      },
      "outputs": [
        {
          "output_type": "stream",
          "name": "stdout",
          "text": [
            "Requirement already satisfied: setuptools in /usr/local/lib/python3.11/dist-packages (75.1.0)\n"
          ]
        },
        {
          "output_type": "stream",
          "name": "stderr",
          "text": [
            "<ipython-input-2-16d6a20cb021>:4: DeprecationWarning: pkg_resources is deprecated as an API. See https://setuptools.pypa.io/en/latest/pkg_resources.html\n",
            "  import pkg_resources\n"
          ]
        },
        {
          "output_type": "stream",
          "name": "stdout",
          "text": [
            "open_clip-torch is NOT installed\n",
            "open_clip-torch was successfully installed.\n",
            "pandas (2.2.2) is installed\n",
            "numpy (1.26.4) is installed\n",
            "matplotlib (3.10.0) is installed\n",
            "transformers (4.47.1) is installed\n",
            "tqdm (4.67.1) is installed\n",
            "torch (2.5.1+cu121) is installed\n",
            "datasets is NOT installed\n",
            "datasets was successfully installed.\n"
          ]
        }
      ],
      "source": [
        "!pip install setuptools\n",
        "import sys\n",
        "import subprocess\n",
        "import pkg_resources\n",
        "\n",
        "def installPackages(packages):\n",
        "    def installPackage(package):\n",
        "        subprocess.check_call([sys.executable, \"-m\", \"pip\", \"install\", package])\n",
        "\n",
        "    for package in REQUIRED_PACKAGES:\n",
        "        try:\n",
        "            dist = pkg_resources.get_distribution(package)\n",
        "            print('{} ({}) is installed'.format(dist.key, dist.version))\n",
        "        except pkg_resources.DistributionNotFound:\n",
        "            print('{} is NOT installed'.format(package))\n",
        "            installPackage(package)\n",
        "            print('{} was successfully installed.'.format(package))\n",
        "\n",
        "REQUIRED_PACKAGES = [\n",
        "    'open_clip-torch',\n",
        "    'pandas',\n",
        "    'numpy',\n",
        "    'matplotlib',\n",
        "    'transformers',\n",
        "    'tqdm',\n",
        "    'torch',\n",
        "    'datasets',\n",
        "]\n",
        "\n",
        "installPackages(REQUIRED_PACKAGES)\n",
        "\n",
        "import gc\n",
        "import itertools\n",
        "import re\n",
        "import math\n",
        "from collections import Counter\n",
        "import random\n",
        "import string\n",
        "import uuid\n",
        "\n",
        "import numpy as np\n",
        "import pandas as pd\n",
        "import matplotlib.pyplot as plt\n",
        "\n",
        "import open_clip\n",
        "from open_clip import model as TE\n",
        "\n",
        "import torch\n",
        "import torch.nn as nn\n",
        "import torch.nn.functional as F\n",
        "from torch.utils.data import DataLoader\n",
        "from torch.optim.lr_scheduler import ReduceLROnPlateau\n",
        "\n",
        "from datasets import load_dataset, Dataset, Features, Array2D, Value\n",
        "from transformers import AutoConfig, AutoTokenizer, AutoModel, TFAutoModel\n",
        "\n",
        "from tqdm import tqdm"
      ]
    },
    {
      "cell_type": "markdown",
      "id": "f4c39c86",
      "metadata": {
        "id": "f4c39c86",
        "papermill": {
          "duration": 0.01563,
          "end_time": "2024-12-18T17:14:15.349709",
          "exception": false,
          "start_time": "2024-12-18T17:14:15.334079",
          "status": "completed"
        },
        "tags": []
      },
      "source": [
        "Beware to use cuda for training!"
      ]
    },
    {
      "cell_type": "code",
      "execution_count": 3,
      "id": "fd519039",
      "metadata": {
        "execution": {
          "iopub.execute_input": "2024-12-18T17:14:15.383716Z",
          "iopub.status.busy": "2024-12-18T17:14:15.383220Z",
          "iopub.status.idle": "2024-12-18T17:14:15.388059Z",
          "shell.execute_reply": "2024-12-18T17:14:15.387180Z"
        },
        "id": "fd519039",
        "papermill": {
          "duration": 0.024557,
          "end_time": "2024-12-18T17:14:15.389794",
          "exception": false,
          "start_time": "2024-12-18T17:14:15.365237",
          "status": "completed"
        },
        "tags": []
      },
      "outputs": [],
      "source": [
        "def getDevice(which=\"cuda:0\", yellAtCpu=True):\n",
        "    if torch.cuda.is_available():\n",
        "        device = torch.device(which)\n",
        "    else:\n",
        "        if yellAtCpu:\n",
        "             raise Exception(\"I won't run on CPU!\")\n",
        "        device = torch.device(\"cpu\")\n",
        "\n",
        "    return device"
      ]
    },
    {
      "cell_type": "markdown",
      "id": "67a2eff9",
      "metadata": {
        "id": "67a2eff9",
        "papermill": {
          "duration": 0.016217,
          "end_time": "2024-12-18T17:14:15.422727",
          "exception": false,
          "start_time": "2024-12-18T17:14:15.406510",
          "status": "completed"
        },
        "tags": []
      },
      "source": [
        "#### Configs"
      ]
    },
    {
      "cell_type": "markdown",
      "id": "75c787a8",
      "metadata": {
        "id": "75c787a8",
        "papermill": {
          "duration": 0.016978,
          "end_time": "2024-12-18T17:14:15.455652",
          "exception": false,
          "start_time": "2024-12-18T17:14:15.438674",
          "status": "completed"
        },
        "tags": []
      },
      "source": [
        "These are our training configurations, read them!"
      ]
    },
    {
      "cell_type": "code",
      "execution_count": 29,
      "id": "802d832e",
      "metadata": {
        "execution": {
          "iopub.execute_input": "2024-12-18T17:14:15.503624Z",
          "iopub.status.busy": "2024-12-18T17:14:15.503324Z",
          "iopub.status.idle": "2024-12-18T17:14:15.590038Z",
          "shell.execute_reply": "2024-12-18T17:14:15.589056Z"
        },
        "id": "802d832e",
        "papermill": {
          "duration": 0.11541,
          "end_time": "2024-12-18T17:14:15.591685",
          "exception": false,
          "start_time": "2024-12-18T17:14:15.476275",
          "status": "completed"
        },
        "tags": []
      },
      "outputs": [],
      "source": [
        "def Configs():\n",
        "    return {\n",
        "        \"device\": getDevice(),\n",
        "        \"reference_checkPoint\" : \"EVA02-E-14-plus\",                # teacher\n",
        "        \"candidate_checkpoint\" : \"setu4993/smaller-LaBSE\",         # student\n",
        "        \"train_path\" : \"train.csv\",\n",
        "        \"val_path\" : \"val.csv\",\n",
        "        \"save_path\" : \"./best-model.pth\",\n",
        "        \"english\" : \"en\",                                         # dont mind them\n",
        "        \"persian\" : \"fa\",\n",
        "        \"batch_size\": 128,                                        # should have been really big, but we can't here\n",
        "        \"lr\": 1e-4,\n",
        "        \"epochs\": 5,                                               # 40 minute per epoch\n",
        "        \"tok_percentile\" : 99,\n",
        "        \"temperature\": 20,\n",
        "        \"dropout\": 0.05,\n",
        "        \"unfreezed_layers\" : 10,\n",
        "        \"weight_decay\": 1e-5,\n",
        "        \"patience\": 1,\n",
        "        \"factor\" : 0.8,\n",
        "        \"reference_embedding\": 1024,                               # DONT MIND THESE\n",
        "        \"reference_context_length\" : 77,\n",
        "        \"reference_vocab_size\" : 49408,\n",
        "        \"reference_heads\" : 20,\n",
        "        \"reference_width\" : 1280,\n",
        "        \"reference_layers\" : 32,\n",
        "        \"cls_token_index\" : 0,\n",
        "        \"project_to\" : 1024,\n",
        "    }\n",
        "\n",
        "configs = Configs()"
      ]
    },
    {
      "cell_type": "markdown",
      "id": "7b95e360",
      "metadata": {
        "id": "7b95e360",
        "papermill": {
          "duration": 0.015595,
          "end_time": "2024-12-18T17:14:15.623791",
          "exception": false,
          "start_time": "2024-12-18T17:14:15.608196",
          "status": "completed"
        },
        "tags": []
      },
      "source": [
        "## Question Box\n",
        "### TODO (10pts)\n",
        "**1- Why do we use temperature in training using contrastive learning?**\n",
        "\n",
        "Temperature scales the similarity scores in the contrastive loss. A higher temperature makes the model less confident, encouraging exploration, while a lower temperature sharpens the differences between positive and negative pairs. This helps balance the model's confidence and improves generalization.\n",
        "\n",
        "\n",
        "**2- Why do we need to freeze some layers of a model? mention 2 reasons.**\n",
        "\n",
        "Prevent Overfitting: Freezing layers stops them from overfitting to the new dataset, especially when the dataset is small.\n",
        "\n",
        "Preserve Pre-trained Knowledge: Freezing layers retains the learned features from the pre-trained model, allowing only specific layers to adapt to the new task.\n",
        "\n",
        "\n",
        "**3- Read the whole code and find out what tok_percentile is used for.**\n",
        "\n",
        "tok_percentile determines the maximum token length for padding or truncation. It calculates the token length at a specific percentile (e.g., 99th) from the dataset, ensuring most sequences fit without excessive padding or truncation."
      ]
    },
    {
      "cell_type": "markdown",
      "id": "6a9cfd8b",
      "metadata": {
        "id": "6a9cfd8b",
        "papermill": {
          "duration": 0.015679,
          "end_time": "2024-12-18T17:14:15.655199",
          "exception": false,
          "start_time": "2024-12-18T17:14:15.639520",
          "status": "completed"
        },
        "tags": []
      },
      "source": [
        "## Data and Preprocessing"
      ]
    },
    {
      "cell_type": "code",
      "execution_count": 6,
      "id": "5d84bc5a",
      "metadata": {
        "execution": {
          "iopub.execute_input": "2024-12-18T17:14:15.689321Z",
          "iopub.status.busy": "2024-12-18T17:14:15.688449Z",
          "iopub.status.idle": "2024-12-18T17:14:15.700724Z",
          "shell.execute_reply": "2024-12-18T17:14:15.699987Z"
        },
        "id": "5d84bc5a",
        "papermill": {
          "duration": 0.031369,
          "end_time": "2024-12-18T17:14:15.702439",
          "exception": false,
          "start_time": "2024-12-18T17:14:15.671070",
          "status": "completed"
        },
        "tags": []
      },
      "outputs": [],
      "source": [
        "def getDatasetsCSV(prevEnCol, prevFaCol, newEnCol, newFaCol, trainPath, valPath):\n",
        "    df = pd.read_csv(trainPath)\n",
        "    dfVal = pd.read_csv(valPath)\n",
        "\n",
        "    if df.empty:\n",
        "        raise ValueError(\"Training dataset is empty or missing\")\n",
        "\n",
        "    if dfVal.empty:\n",
        "        raise ValueError(\"Validation dataset is empty or missing\")\n",
        "\n",
        "    dfTraind = df.loc[:, [prevEnCol, prevFaCol]].rename(columns={prevEnCol: newEnCol, prevFaCol: newFaCol})\n",
        "    dfVal = dfVal.loc[:, [prevEnCol, prevFaCol]].rename(columns={prevEnCol: newEnCol, prevFaCol: newFaCol})\n",
        "\n",
        "    datasetTrain = Dataset.from_pandas(dfTraind)\n",
        "    datasetVal = Dataset.from_pandas(dfVal)\n",
        "\n",
        "    return datasetTrain, datasetVal\n",
        "\n",
        "def getDsByLang(persianCol, englishCol):\n",
        "    def getPersianDs(dataset):\n",
        "        return dataset[persianCol]\n",
        "\n",
        "    def getEnglishDs(dataset):\n",
        "        return dataset[englishCol]\n",
        "\n",
        "    getPersianDs.label = persianCol\n",
        "    getEnglishDs.label = englishCol\n",
        "\n",
        "    return getPersianDs, getEnglishDs\n",
        "\n",
        "class Normalizer():\n",
        "    def __init__(self):\n",
        "        translation_src = ' ىكي“”0123456789%إأآئيؤةك'\n",
        "        translation_dst = ' یکی\"\"۰۱۲۳۴۵۶۷۸۹٪اااییوهک'\n",
        "\n",
        "        self.translations = str.maketrans(translation_src, translation_dst)\n",
        "\n",
        "        patterns = [\n",
        "            (r' {2,}', ' '),  # remove extra spaces\n",
        "            (r'\\n+', ' '),  # replace newlines with space\n",
        "            (r'\\u200c+', ' '),  # replace ZWNJs with space\n",
        "            (r'[ـ\\r]', '')  # remove keshide, carriage returns\n",
        "        ]\n",
        "\n",
        "        self.character_refinement_patterns = [(re.compile(pattern), repl) for pattern, repl in patterns]\n",
        "\n",
        "    def normalizeFa(self, text):\n",
        "        text = text.lower().translate(self.translations)\n",
        "        text = re.sub('[^a-zA-Z۰-۹آ-ی ]', ' ', text)\n",
        "\n",
        "        for pattern, repl in self.character_refinement_patterns:\n",
        "            text = pattern.sub(repl, text)\n",
        "        return text.strip()\n",
        "\n",
        "    def normalizeEn(self, text):\n",
        "        text = text.lower()\n",
        "        text = text.translate(str.maketrans('', '', string.punctuation)) # Remove punctuation\n",
        "        return text\n",
        "\n",
        "def applyPreprocess(datasets, configs=configs, Normalizer=Normalizer):\n",
        "    def applyRowNormalization(example):\n",
        "        example[configs['persian']] = normalizer.normalizeFa(example[configs['persian']])\n",
        "        example[configs['english']] = normalizer.normalizeEn(example[configs['english']])\n",
        "\n",
        "        return example\n",
        "\n",
        "    normalizer = Normalizer()\n",
        "\n",
        "    newDatasets = []\n",
        "    for dataset in datasets:\n",
        "        newDatasets.append(dataset.map(applyRowNormalization))\n",
        "\n",
        "    return newDatasets\n",
        "\n",
        "def preprocessSentence(text, lang, mostFreq=None, Normalizer=Normalizer, configs=configs):\n",
        "    normalizer = Normalizer()\n",
        "    if lang == configs['persian']:\n",
        "        normalized = normalizer.normalizeFa(text)\n",
        "    elif lang == configs['english']:\n",
        "        normalized = normalizer.normalizeEn(text)\n",
        "    else:\n",
        "        raise ValueError(\"Not supported lang\")\n",
        "\n",
        "    return normalized"
      ]
    },
    {
      "cell_type": "markdown",
      "id": "86190e87",
      "metadata": {
        "id": "86190e87",
        "papermill": {
          "duration": 0.016557,
          "end_time": "2024-12-18T17:14:15.735930",
          "exception": false,
          "start_time": "2024-12-18T17:14:15.719373",
          "status": "completed"
        },
        "tags": []
      },
      "source": [
        "## Utils\n",
        "### TODO: Complete these Utility functions (10pts)"
      ]
    },
    {
      "cell_type": "code",
      "execution_count": 8,
      "id": "7b0c992a",
      "metadata": {
        "execution": {
          "iopub.execute_input": "2024-12-18T17:14:15.771618Z",
          "iopub.status.busy": "2024-12-18T17:14:15.771362Z",
          "iopub.status.idle": "2024-12-18T17:14:15.776968Z",
          "shell.execute_reply": "2024-12-18T17:14:15.776216Z"
        },
        "id": "7b0c992a",
        "papermill": {
          "duration": 0.025354,
          "end_time": "2024-12-18T17:14:15.778667",
          "exception": false,
          "start_time": "2024-12-18T17:14:15.753313",
          "status": "completed"
        },
        "tags": []
      },
      "outputs": [],
      "source": [
        "def getClsToken(tensor, configs=configs):\n",
        "    clsId = configs[\"cls_token_index\"]\n",
        "    return tensor[:, clsId, :].unsqueeze(1)  # Extracts the CLS token and adds a dimension\n",
        "\n",
        "def flattenMiddle(tensor):\n",
        "    return tensor.mean(dim=1)  # Averages over the sequence length dimension\n",
        "\n",
        "def freezeModel(model):\n",
        "    for param in model.parameters():\n",
        "        param.requires_grad = False  # Disable gradient computation for all parameters\n",
        "    return model"
      ]
    },
    {
      "cell_type": "code",
      "execution_count": 7,
      "id": "2489bf4f",
      "metadata": {
        "execution": {
          "iopub.execute_input": "2024-12-18T17:14:15.813785Z",
          "iopub.status.busy": "2024-12-18T17:14:15.813542Z",
          "iopub.status.idle": "2024-12-18T17:14:15.820975Z",
          "shell.execute_reply": "2024-12-18T17:14:15.820275Z"
        },
        "id": "2489bf4f",
        "papermill": {
          "duration": 0.026945,
          "end_time": "2024-12-18T17:14:15.822548",
          "exception": false,
          "start_time": "2024-12-18T17:14:15.795603",
          "status": "completed"
        },
        "tags": []
      },
      "outputs": [],
      "source": [
        "def plotMetric(metricData, metricName):\n",
        "    if metricName == None or metricName not in metricData:\n",
        "        raise ValueError(\"No such metric\")\n",
        "    metricData[metricName].plot()\n",
        "    plt.xlabel('Epochs')\n",
        "    plt.ylabel(metricName)\n",
        "    plt.title(f'Plot of {metricName}')\n",
        "    plt.show()\n",
        "\n",
        "threshold=1\n",
        "def calcPrcentileTokens(dataset, tokenizer, field, percentile=configs[\"tok_percentile\"], thershold=1):\n",
        "    \"\"\"\n",
        "    Calculate the token length at a specific percentile for a dataset field.\n",
        "\n",
        "    This function tokenizes the data in the specified field of the dataset and calculates\n",
        "    the token length at the given percentile. An optional threshold can be added to the result.\n",
        "\n",
        "    Parameters:\n",
        "        dataset (dict or Dataset): The dataset containing the data to be tokenized.\n",
        "        tokenizer (callable): A tokenizer function or object with a callable interface\n",
        "                              (e.g., HuggingFace tokenizer).\n",
        "        field (str): The field in the dataset whose token lengths are to be calculated.\n",
        "        percentile (float, optional): The percentile to compute (default is the value in\n",
        "                                       `configs[\"tok_percentile\"]`).\n",
        "        thershold (int, optional): A value to add to the calculated percentile token length\n",
        "                                    (default is 1).\n",
        "\n",
        "    Returns:\n",
        "        int: The token length at the specified percentile plus the threshold.\n",
        "\n",
        "    Raises:\n",
        "        KeyError: If the specified field does not exist in the dataset.\n",
        "        TypeError: If `tokenized` is not in the expected format.\n",
        "\n",
        "    Example:\n",
        "        dataset = {\"text\": [\"This is a sentence.\", \"Another example sentence.\"]}\n",
        "        tokenizer = lambda x: {\"input_ids\": [[1, 2, 3, 4], [5, 6, 7, 8, 9]]}\n",
        "        field = \"text\"\n",
        "        calcPrcentileTokens(dataset, tokenizer, field, percentile=95, thershold=2)\n",
        "\n",
        "    Notes:\n",
        "        - If the tokenized output is a dictionary (e.g., HuggingFace tokenizers), it assumes\n",
        "          that `input_ids` contains the token sequences.\n",
        "        - If the tokenized output is a tensor, nonzero token counts are used to determine lengths.\n",
        "    \"\"\"\n",
        "    tokenized = tokenizer(dataset[field])\n",
        "    if not isinstance(tokenized, torch.Tensor):\n",
        "        tokenLengths = list(map(lambda sen: len(sen), tokenized['input_ids']))\n",
        "    else:\n",
        "        tokenLengths = [tensor.nonzero().size(0) for tensor in tokenized]\n",
        "    percentileLength = np.percentile(tokenLengths, percentile)\n",
        "    return int(percentileLength) + 1\n",
        "\n",
        "# Dont Touch This\n",
        "def TextEncoder(configs):\n",
        "    newModel = TE.TextTransformer(context_length=configs['reference_context_length'],\n",
        "                                 vocab_size=configs[\"reference_vocab_size\"],\n",
        "                                 width=configs[\"reference_width\"],\n",
        "                                 layers=configs[\"reference_layers\"],\n",
        "                                 heads=configs[\"reference_heads\"],\n",
        "                                 output_dim=configs[\"reference_embedding\"])\n",
        "    return newModel\n"
      ]
    },
    {
      "cell_type": "markdown",
      "id": "ee90637f",
      "metadata": {
        "id": "ee90637f",
        "papermill": {
          "duration": 0.016248,
          "end_time": "2024-12-18T17:14:15.854449",
          "exception": false,
          "start_time": "2024-12-18T17:14:15.838201",
          "status": "completed"
        },
        "tags": []
      },
      "source": [
        "## Models"
      ]
    },
    {
      "cell_type": "markdown",
      "id": "7f75d675",
      "metadata": {
        "id": "7f75d675",
        "papermill": {
          "duration": 0.016386,
          "end_time": "2024-12-18T17:14:15.886639",
          "exception": false,
          "start_time": "2024-12-18T17:14:15.870253",
          "status": "completed"
        },
        "tags": []
      },
      "source": [
        "### TODO: Compelete the Swish and LinearProjection functions based on the pydoc provided (15pts)"
      ]
    },
    {
      "cell_type": "code",
      "execution_count": 9,
      "id": "83acbdd5",
      "metadata": {
        "execution": {
          "iopub.execute_input": "2024-12-18T17:14:15.920626Z",
          "iopub.status.busy": "2024-12-18T17:14:15.920377Z",
          "iopub.status.idle": "2024-12-18T17:14:15.927353Z",
          "shell.execute_reply": "2024-12-18T17:14:15.926669Z"
        },
        "id": "83acbdd5",
        "papermill": {
          "duration": 0.02619,
          "end_time": "2024-12-18T17:14:15.929057",
          "exception": false,
          "start_time": "2024-12-18T17:14:15.902867",
          "status": "completed"
        },
        "tags": []
      },
      "outputs": [],
      "source": [
        "class Swish(nn.Module):\n",
        "    def __init__(self, beta=1.0):\n",
        "        super().__init__()\n",
        "        self.beta = beta\n",
        "\n",
        "    def forward(self, x):\n",
        "        return x * torch.sigmoid(self.beta * x)  # Swish activation\n",
        "\n",
        "\n",
        "class LinearProjection(nn.Module):\n",
        "    def __init__(self, embedding_dim, projection_dim=configs['project_to'], dropout=configs['dropout']):\n",
        "        super(LinearProjection, self).__init__()\n",
        "        self.projection = nn.Linear(embedding_dim, projection_dim)\n",
        "        self.swish = Swish(beta=1.0)\n",
        "        self.batch_norm = nn.BatchNorm1d(projection_dim)  # Batch normalization\n",
        "        self.fc = nn.Linear(projection_dim, projection_dim)\n",
        "        self.dropout = nn.Dropout(dropout)  # Dropout layer\n",
        "        self.layer_norm = nn.LayerNorm(projection_dim)  # Layer normalization\n",
        "\n",
        "    def forward(self, x):\n",
        "        # Projection + Swish activation + batch normalization\n",
        "        projected = self.batch_norm(self.swish(self.projection(x)))\n",
        "\n",
        "        # Fully connected layer + dropout\n",
        "        transformed = self.dropout(self.fc(projected))\n",
        "\n",
        "        # Residual connection + layer normalization\n",
        "        output = self.layer_norm(projected + transformed)\n",
        "\n",
        "        return output"
      ]
    },
    {
      "cell_type": "code",
      "execution_count": 15,
      "id": "ece3abb5",
      "metadata": {
        "execution": {
          "iopub.execute_input": "2024-12-18T17:14:15.962709Z",
          "iopub.status.busy": "2024-12-18T17:14:15.962465Z",
          "iopub.status.idle": "2024-12-18T17:14:15.967754Z",
          "shell.execute_reply": "2024-12-18T17:14:15.967000Z"
        },
        "id": "ece3abb5",
        "papermill": {
          "duration": 0.024135,
          "end_time": "2024-12-18T17:14:15.969481",
          "exception": false,
          "start_time": "2024-12-18T17:14:15.945346",
          "status": "completed"
        },
        "tags": []
      },
      "outputs": [],
      "source": [
        "class CandidateModel(nn.Module):\n",
        "    def __init__(self, model_name, unfreezeLayers, trainable=True):\n",
        "        super().__init__()\n",
        "        self.candidateProjection = LinearProjection(embedding_dim=configs[\"candidate_embedding\"])\n",
        "        self.configs = AutoConfig.from_pretrained(model_name)\n",
        "        self.tokenizer = AutoTokenizer.from_pretrained(model_name)\n",
        "        self.model = AutoModel.from_pretrained(model_name)\n",
        "        self.batchNorm = nn.BatchNorm1d(1, configs[\"candidate_embedding\"])\n",
        "        self.targetTokenIdx = configs[\"cls_token_index\"]\n",
        "\n",
        "    def forward(self, input_ids, attention_mask):\n",
        "        output = self.model(input_ids=input_ids, attention_mask=attention_mask)\n",
        "        clsEmbed = getClsToken(output.last_hidden_state)\n",
        "        clsEmbed = self.batchNorm(clsEmbed)\n",
        "        clsEmbed = self.candidateProjection(flattenMiddle(clsEmbed))\n",
        "        return clsEmbed"
      ]
    },
    {
      "cell_type": "markdown",
      "id": "4e0dd33e",
      "metadata": {
        "id": "4e0dd33e",
        "papermill": {
          "duration": 0.015974,
          "end_time": "2024-12-18T17:14:16.001750",
          "exception": false,
          "start_time": "2024-12-18T17:14:15.985776",
          "status": "completed"
        },
        "tags": []
      },
      "source": [
        "## Training"
      ]
    },
    {
      "cell_type": "markdown",
      "id": "92d73eeb",
      "metadata": {
        "id": "92d73eeb",
        "papermill": {
          "duration": 0.015543,
          "end_time": "2024-12-18T17:14:16.033408",
          "exception": false,
          "start_time": "2024-12-18T17:14:16.017865",
          "status": "completed"
        },
        "tags": []
      },
      "source": [
        "### TODO: Compelete the calcLoss functions based on the pydoc provided (20pts)"
      ]
    },
    {
      "cell_type": "code",
      "execution_count": 19,
      "id": "c8e57071",
      "metadata": {
        "execution": {
          "iopub.execute_input": "2024-12-18T17:14:16.065973Z",
          "iopub.status.busy": "2024-12-18T17:14:16.065709Z",
          "iopub.status.idle": "2024-12-18T17:14:16.072545Z",
          "shell.execute_reply": "2024-12-18T17:14:16.071909Z"
        },
        "id": "c8e57071",
        "papermill": {
          "duration": 0.024464,
          "end_time": "2024-12-18T17:14:16.074093",
          "exception": false,
          "start_time": "2024-12-18T17:14:16.049629",
          "status": "completed"
        },
        "tags": []
      },
      "outputs": [],
      "source": [
        "def calcLoss(batch, referenceModel, candidateModel, temperature):\n",
        "    # Move tokenized inputs to the specified device\n",
        "    candidateTokenized = batch[\"candidate\"].to(configs[\"device\"])\n",
        "    referenceTokenized = batch[\"reference\"].to(configs[\"device\"])\n",
        "\n",
        "    # Generate embeddings from reference and candidate models\n",
        "    referenceEmbeds = referenceModel(referenceTokenized)\n",
        "    candidateEmbeds = candidateModel(\n",
        "        input_ids=candidateTokenized[\"input_ids\"],\n",
        "        attention_mask=candidateTokenized[\"attention_mask\"]\n",
        "    )\n",
        "\n",
        "    # Normalize embeddings to have unit length\n",
        "    referenceEmbeds = F.normalize(referenceEmbeds, p=2, dim=-1)\n",
        "    candidateEmbeds = F.normalize(candidateEmbeds, p=2, dim=-1)\n",
        "\n",
        "    # Compute scaled cosine similarity (logits)\n",
        "    logits = (referenceEmbeds @ candidateEmbeds.T) / temperature\n",
        "\n",
        "    # Create target labels (identity matrix for perfect alignment)\n",
        "    batch_size = referenceEmbeds.size(0)\n",
        "    targets = torch.arange(batch_size, device=configs[\"device\"])  # Class indices (LongTensor)\n",
        "\n",
        "    # Compute symmetric cross-entropy loss\n",
        "    loss = (F.cross_entropy(logits, targets) + F.cross_entropy(logits.T, targets)) / 2\n",
        "\n",
        "    # Calculate the number of correct predictions\n",
        "    preds = torch.argmax(logits, dim=-1)\n",
        "    corrects = torch.sum(preds == targets).item()\n",
        "\n",
        "    return loss, corrects"
      ]
    },
    {
      "cell_type": "markdown",
      "id": "5f1b4edc",
      "metadata": {
        "id": "5f1b4edc",
        "papermill": {
          "duration": 0.015457,
          "end_time": "2024-12-18T17:14:16.105022",
          "exception": false,
          "start_time": "2024-12-18T17:14:16.089565",
          "status": "completed"
        },
        "tags": []
      },
      "source": [
        "### TODO: Fill the trainLoop and valLoop (5pts)"
      ]
    },
    {
      "cell_type": "code",
      "execution_count": 31,
      "id": "05f0bf97",
      "metadata": {
        "execution": {
          "iopub.execute_input": "2024-12-18T17:14:16.137553Z",
          "iopub.status.busy": "2024-12-18T17:14:16.137287Z",
          "iopub.status.idle": "2024-12-18T17:14:16.146093Z",
          "shell.execute_reply": "2024-12-18T17:14:16.145202Z"
        },
        "id": "05f0bf97",
        "papermill": {
          "duration": 0.027335,
          "end_time": "2024-12-18T17:14:16.147775",
          "exception": false,
          "start_time": "2024-12-18T17:14:16.120440",
          "status": "completed"
        },
        "tags": []
      },
      "outputs": [],
      "source": [
        "from tqdm import tqdm\n",
        "import torch\n",
        "\n",
        "def trainLoop(dataloader, models, referenceTokenizer, candidateTokenizer, optimizer, temperature):\n",
        "    models['candidateModel'].train()  # Set candidate model to training mode\n",
        "\n",
        "    totalLoss = 0.0\n",
        "    totalCorrects = 0\n",
        "\n",
        "    print(\"Training Starts!\")\n",
        "    for (index, pairs) in tqdm(enumerate(dataloader), total=len(dataloader)):\n",
        "        # Tokenize Persian (candidate) and English (reference) text\n",
        "        candidteTokenized = candidateTokenizer(\n",
        "            getPersianDs(pairs),\n",
        "            padding='max_length',\n",
        "            truncation=True,\n",
        "            return_tensors=\"pt\",\n",
        "            max_length=configs[\"fa_tok_percentile\"]\n",
        "        )\n",
        "        referenceTextTokenized = referenceTokenizer(getEnglishDs(pairs))\n",
        "\n",
        "        # Prepare batch\n",
        "        batch = {\n",
        "            \"candidate\": candidteTokenized,\n",
        "            \"reference\": referenceTextTokenized\n",
        "        }\n",
        "\n",
        "        # Compute loss and correct predictions\n",
        "        loss, corrects = calcLoss(batch, models['referenceModel'], models['candidateModel'], temperature)\n",
        "\n",
        "        # Accumulate loss and correct predictions\n",
        "        totalCorrects += corrects\n",
        "        totalLoss += loss.item()\n",
        "\n",
        "        # Backpropagation and optimization\n",
        "        optimizer.zero_grad()  # Clear gradients\n",
        "        loss.backward()        # Compute gradients\n",
        "        optimizer.step()       # Update model parameters\n",
        "\n",
        "        # Optional: Print progress\n",
        "        if index % 10 == 0:  # Print every 10 batches\n",
        "            print(f\"Batch {index}: Loss = {loss.item()}, Corrects = {corrects}\")\n",
        "\n",
        "    # Compute average loss and accuracy\n",
        "    avgLoss = totalLoss / len(dataloader.dataset)\n",
        "    avgAccuracy = totalCorrects / len(dataloader.dataset)\n",
        "\n",
        "    print(\"Train Loss:\", avgLoss)\n",
        "    print(\"Train Accuracy:\", avgAccuracy)\n",
        "\n",
        "    return avgLoss, avgAccuracy\n",
        "\n",
        "\n",
        "def valLoop(dataloader, models, referenceTokenizer, candidateTokenizer, temperature):\n",
        "    models['candidateModel'].eval()  # Set candidate model to evaluation mode\n",
        "\n",
        "    print(\"Validation Starts!\")\n",
        "    totalLoss = 0.0\n",
        "    totalCorrects = 0\n",
        "\n",
        "    with torch.no_grad():  # Disable gradient computation\n",
        "        for (index, pairs) in tqdm(enumerate(dataloader), total=len(dataloader)):\n",
        "            # Tokenize Persian (candidate) and English (reference) text\n",
        "            candidteTokenized = candidateTokenizer(\n",
        "                getPersianDs(pairs),\n",
        "                padding='max_length',\n",
        "                truncation=True,\n",
        "                return_tensors=\"pt\",\n",
        "                max_length=configs[\"fa_tok_percentile\"]\n",
        "            )\n",
        "            referenceTextTokenized = referenceTokenizer(getEnglishDs(pairs))\n",
        "\n",
        "            # Prepare batch\n",
        "            batch = {\n",
        "                \"candidate\": candidteTokenized,\n",
        "                \"reference\": referenceTextTokenized\n",
        "            }\n",
        "\n",
        "            # Compute loss and correct predictions\n",
        "            loss, corrects = calcLoss(batch, models['referenceModel'], models['candidateModel'], temperature)\n",
        "\n",
        "            # Accumulate loss and correct predictions\n",
        "            totalCorrects += corrects\n",
        "            totalLoss += loss.item()\n",
        "\n",
        "    # Compute average loss and accuracy\n",
        "    avgLoss = totalLoss / len(dataloader.dataset)\n",
        "    avgAccuracy = totalCorrects / len(dataloader.dataset)\n",
        "\n",
        "    print(\"Validation Loss:\", avgLoss)\n",
        "    print(\"Validation Accuracy:\", avgAccuracy)\n",
        "\n",
        "    return avgLoss, avgAccuracy"
      ]
    },
    {
      "cell_type": "code",
      "execution_count": 32,
      "id": "f015a11f",
      "metadata": {
        "execution": {
          "iopub.execute_input": "2024-12-18T17:14:16.180038Z",
          "iopub.status.busy": "2024-12-18T17:14:16.179783Z",
          "iopub.status.idle": "2024-12-18T17:14:21.238541Z",
          "shell.execute_reply": "2024-12-18T17:14:21.237667Z"
        },
        "id": "f015a11f",
        "outputId": "2516576f-6fc7-47d8-df56-30e4d7013d0a",
        "papermill": {
          "duration": 5.07707,
          "end_time": "2024-12-18T17:14:21.240389",
          "exception": false,
          "start_time": "2024-12-18T17:14:16.163319",
          "status": "completed"
        },
        "tags": [],
        "colab": {
          "base_uri": "https://localhost:8080/",
          "height": 115,
          "referenced_widgets": [
            "85da909179f745ceacbfb6215132b459",
            "1b80bee4fb9c4147a2aa24e58491bd35",
            "be26f09b2348485fbc1f0813e8974016",
            "5e2606ddc44d44f186809083e17ae028",
            "9cdb98d1dc5f47b39ebf1dc9aff067a6",
            "447a41d14d254166af60ddbc7fd951b1",
            "a2ec793b3c93408ebe8452575736a48b",
            "f1dcd7f2376540d7b100f9040c40097e",
            "f4a100ae6d96487e8dc224d772544f7e",
            "1e1a90f7527940ba9636680388d9edb3",
            "94be62d5d6c44f77907c394e6fc71ecf",
            "88ceedd9917947b6a2c619e6acaf9450",
            "19dbf5ced9684c5f911a8ed11555a120",
            "366c3d94f3f44bdf8c41d0eb93754462",
            "7a54363ce2524977afe9f4c497818c3a",
            "e6d763d29bcf49e68fe0eb7e18c1b67f",
            "5e14d51842c9439a92b02000201cd227",
            "6bba4afa020b491ead2ef2852a7a2489",
            "84f0ac8fb4524e3996ff1420cad64031",
            "938f2158deac469b99f07e214e53be3a",
            "28f2730db2ec468fb41a0077cbbec9db",
            "6530ffdab91b4558858dc114c3fe1fb1"
          ]
        }
      },
      "outputs": [
        {
          "output_type": "stream",
          "name": "stdout",
          "text": [
            "Before Preproccess:  {'en': 'A person doing karate in a green business card.', 'fa': 'شخصی که کاراته انجام می دهد در کارت ویزیت سبز.'}\n"
          ]
        },
        {
          "output_type": "display_data",
          "data": {
            "text/plain": [
              "Map:   0%|          | 0/59999 [00:00<?, ? examples/s]"
            ],
            "application/vnd.jupyter.widget-view+json": {
              "version_major": 2,
              "version_minor": 0,
              "model_id": "85da909179f745ceacbfb6215132b459"
            }
          },
          "metadata": {}
        },
        {
          "output_type": "display_data",
          "data": {
            "text/plain": [
              "Map:   0%|          | 0/20000 [00:00<?, ? examples/s]"
            ],
            "application/vnd.jupyter.widget-view+json": {
              "version_major": 2,
              "version_minor": 0,
              "model_id": "88ceedd9917947b6a2c619e6acaf9450"
            }
          },
          "metadata": {}
        },
        {
          "output_type": "stream",
          "name": "stdout",
          "text": [
            "After Preproccess:  {'en': 'a person doing karate in a green business card', 'fa': 'شخصی که کاراته انجام می دهد در کارت ویزیت سبز'}\n"
          ]
        }
      ],
      "source": [
        "oldCols = [\"en\", \"fa\"]\n",
        "datasetTrain, datasetVal = getDatasetsCSV(oldCols[0], oldCols[1], configs[\"english\"], configs[\"persian\"], configs[\"train_path\"], configs[\"val_path\"])\n",
        "\n",
        "getPersianDs, getEnglishDs = getDsByLang(configs[\"persian\"], configs[\"english\"])\n",
        "print(\"Before Preproccess: \", datasetTrain[0])\n",
        "datasetTrain, datasetVal = applyPreprocess([datasetTrain, datasetVal], configs)\n",
        "print(\"After Preproccess: \", datasetTrain[0])\n",
        "trainDataloader = DataLoader(datasetTrain, batch_size=configs['batch_size'], shuffle=True)\n",
        "valDataloader = DataLoader(datasetVal, batch_size=configs['batch_size'], shuffle=False)"
      ]
    },
    {
      "cell_type": "markdown",
      "id": "aea3bc61",
      "metadata": {
        "id": "aea3bc61",
        "papermill": {
          "duration": 0.015811,
          "end_time": "2024-12-18T17:14:21.272664",
          "exception": false,
          "start_time": "2024-12-18T17:14:21.256853",
          "status": "completed"
        },
        "tags": []
      },
      "source": [
        "#### Tokenizers"
      ]
    },
    {
      "cell_type": "code",
      "execution_count": 33,
      "id": "506ef8ec",
      "metadata": {
        "execution": {
          "iopub.execute_input": "2024-12-18T17:14:21.306272Z",
          "iopub.status.busy": "2024-12-18T17:14:21.306012Z",
          "iopub.status.idle": "2024-12-18T17:14:31.799786Z",
          "shell.execute_reply": "2024-12-18T17:14:31.798984Z"
        },
        "id": "506ef8ec",
        "papermill": {
          "duration": 10.512708,
          "end_time": "2024-12-18T17:14:31.801887",
          "exception": false,
          "start_time": "2024-12-18T17:14:21.289179",
          "status": "completed"
        },
        "tags": []
      },
      "outputs": [],
      "source": [
        "referenceTokenizer = open_clip.get_tokenizer(configs[\"reference_checkPoint\"])\n",
        "\n",
        "candidateConfig = AutoConfig.from_pretrained(configs[\"candidate_checkpoint\"])\n",
        "candidateTokenizer = AutoTokenizer.from_pretrained(configs[\"candidate_checkpoint\"])\n",
        "\n",
        "configs = configs | {\"candidate_embedding\" : candidateConfig.hidden_size}\n",
        "\n",
        "faTokenPercentile = calcPrcentileTokens(datasetTrain, candidateTokenizer, configs[\"persian\"])\n",
        "faTokenPercentile\n",
        "\n",
        "enTokenPercentile = calcPrcentileTokens(datasetTrain, referenceTokenizer, configs[\"english\"])\n",
        "enTokenPercentile\n",
        "\n",
        "configs = configs | {\"en_tok_percentile\" : enTokenPercentile}\n",
        "configs = configs | {\"fa_tok_percentile\" : faTokenPercentile}"
      ]
    },
    {
      "cell_type": "markdown",
      "id": "d92d790a",
      "metadata": {
        "id": "d92d790a",
        "papermill": {
          "duration": 0.016378,
          "end_time": "2024-12-18T17:14:31.835725",
          "exception": false,
          "start_time": "2024-12-18T17:14:31.819347",
          "status": "completed"
        },
        "tags": []
      },
      "source": [
        "#### Models"
      ]
    },
    {
      "cell_type": "code",
      "execution_count": 16,
      "id": "0cfbc447",
      "metadata": {
        "execution": {
          "iopub.execute_input": "2024-12-18T17:14:31.869333Z",
          "iopub.status.busy": "2024-12-18T17:14:31.869028Z",
          "iopub.status.idle": "2024-12-18T17:14:59.888895Z",
          "shell.execute_reply": "2024-12-18T17:14:59.887930Z"
        },
        "id": "0cfbc447",
        "outputId": "c05300c9-37c1-4eb2-84ff-2810d0d7d167",
        "papermill": {
          "duration": 28.039003,
          "end_time": "2024-12-18T17:14:59.891005",
          "exception": false,
          "start_time": "2024-12-18T17:14:31.852002",
          "status": "completed"
        },
        "tags": [],
        "colab": {
          "base_uri": "https://localhost:8080/",
          "height": 49,
          "referenced_widgets": [
            "4fcf46bab8ea4906bda4a703ebfa9d34",
            "9a5b9ba702fc44aea65b89f766887b36",
            "648b0330d11f4d16a8dd6a435a5c90fc",
            "b660dcc491c24b7db365b7535c4e0064",
            "84e9ca8dc380406a93b0bd7dcfb59a70",
            "f5326def3ba34b77b312eb2ce38cb5f8",
            "df33ae3e9d8a4c3ca09082341fe4ee43",
            "59c57d06fad4444899fdf6042e81b953",
            "8fe82777f6f646cc8cef75d4f56c5309",
            "cf8f2e2e85fe4179a2c150e25f97abce",
            "96751e6413f8473f8353deb35206f016"
          ]
        }
      },
      "outputs": [
        {
          "output_type": "display_data",
          "data": {
            "text/plain": [
              "model.safetensors:   0%|          | 0.00/877M [00:00<?, ?B/s]"
            ],
            "application/vnd.jupyter.widget-view+json": {
              "version_major": 2,
              "version_minor": 0,
              "model_id": "4fcf46bab8ea4906bda4a703ebfa9d34"
            }
          },
          "metadata": {}
        }
      ],
      "source": [
        "referenceModel = TextEncoder(configs).to(configs[\"device\"])\n",
        "candidateModel = CandidateModel(model_name=configs[\"candidate_checkpoint\"], unfreezeLayers=configs[\"unfreezed_layers\"]).to(configs[\"device\"])\n",
        "referenceModel = freezeModel(referenceModel)\n",
        "\n",
        "candidateModel.to(configs['device'])\n",
        "referenceModel.to(configs['device'])\n",
        "\n",
        "models = {\n",
        "    \"referenceModel\" : referenceModel,\n",
        "    \"candidateModel\" : candidateModel\n",
        "}"
      ]
    },
    {
      "cell_type": "markdown",
      "id": "59bc9d96",
      "metadata": {
        "id": "59bc9d96",
        "papermill": {
          "duration": 0.0162,
          "end_time": "2024-12-18T17:14:59.924176",
          "exception": false,
          "start_time": "2024-12-18T17:14:59.907976",
          "status": "completed"
        },
        "tags": []
      },
      "source": [
        "## Training\n",
        "### TODO (10pts) for running the code and (20pts) for achieving above 70 percent test accuracy"
      ]
    },
    {
      "cell_type": "code",
      "execution_count": 34,
      "id": "03a0e5e7",
      "metadata": {
        "execution": {
          "iopub.execute_input": "2024-12-18T17:14:59.958682Z",
          "iopub.status.busy": "2024-12-18T17:14:59.958089Z",
          "iopub.status.idle": "2024-12-18T17:14:59.964595Z",
          "shell.execute_reply": "2024-12-18T17:14:59.963977Z"
        },
        "id": "03a0e5e7",
        "papermill": {
          "duration": 0.025563,
          "end_time": "2024-12-18T17:14:59.966213",
          "exception": false,
          "start_time": "2024-12-18T17:14:59.940650",
          "status": "completed"
        },
        "tags": []
      },
      "outputs": [],
      "source": [
        "temperature = torch.nn.Parameter(torch.tensor(configs['temperature']).float())\n",
        "optimizer = torch.optim.AdamW(list(models['candidateModel'].parameters()) + [temperature], weight_decay=configs[\"weight_decay\"], lr=configs['lr'])\n",
        "lrScheduler = ReduceLROnPlateau(optimizer, 'max', patience=configs['patience'], factor=configs['factor'])\n"
      ]
    },
    {
      "cell_type": "code",
      "execution_count": 38,
      "id": "0a7f783c",
      "metadata": {
        "execution": {
          "iopub.execute_input": "2024-12-18T17:15:00.001563Z",
          "iopub.status.busy": "2024-12-18T17:15:00.001314Z",
          "iopub.status.idle": "2024-12-18T22:11:22.427942Z",
          "shell.execute_reply": "2024-12-18T22:11:22.427024Z"
        },
        "id": "0a7f783c",
        "outputId": "ac0d15ae-c862-4421-a71b-a4cbfa579597",
        "papermill": {
          "duration": 17782.445889,
          "end_time": "2024-12-18T22:11:22.429709",
          "exception": false,
          "start_time": "2024-12-18T17:14:59.983820",
          "status": "completed"
        },
        "tags": [],
        "colab": {
          "base_uri": "https://localhost:8080/",
          "height": 1000
        }
      },
      "outputs": [
        {
          "metadata": {
            "tags": null
          },
          "name": "stdout",
          "output_type": "stream",
          "text": [
            "Training Starts!\n"
          ]
        },
        {
          "metadata": {
            "tags": null
          },
          "name": "stderr",
          "output_type": "stream",
          "text": [
            "  0%|          | 1/469 [00:05<39:10,  5.02s/it]"
          ]
        },
        {
          "metadata": {
            "tags": null
          },
          "name": "stdout",
          "output_type": "stream",
          "text": [
            "Batch 0: Loss = 4.839531898498535, Corrects = 86\n"
          ]
        },
        {
          "metadata": {
            "tags": null
          },
          "name": "stderr",
          "output_type": "stream",
          "text": [
            "  2%|▏         | 11/469 [00:54<36:38,  4.80s/it]"
          ]
        },
        {
          "metadata": {
            "tags": null
          },
          "name": "stdout",
          "output_type": "stream",
          "text": [
            "Batch 10: Loss = 4.839049816131592, Corrects = 83\n"
          ]
        },
        {
          "metadata": {
            "tags": null
          },
          "name": "stderr",
          "output_type": "stream",
          "text": [
            "  4%|▍         | 21/469 [01:42<36:07,  4.84s/it]"
          ]
        },
        {
          "metadata": {
            "tags": null
          },
          "name": "stdout",
          "output_type": "stream",
          "text": [
            "Batch 20: Loss = 4.839959621429443, Corrects = 74\n"
          ]
        },
        {
          "metadata": {
            "tags": null
          },
          "name": "stderr",
          "output_type": "stream",
          "text": [
            "  7%|▋         | 31/469 [02:30<35:06,  4.81s/it]"
          ]
        },
        {
          "metadata": {
            "tags": null
          },
          "name": "stdout",
          "output_type": "stream",
          "text": [
            "Batch 30: Loss = 4.83853816986084, Corrects = 93\n"
          ]
        },
        {
          "metadata": {
            "tags": null
          },
          "name": "stderr",
          "output_type": "stream",
          "text": [
            "  9%|▊         | 41/469 [03:18<34:18,  4.81s/it]"
          ]
        },
        {
          "metadata": {
            "tags": null
          },
          "name": "stdout",
          "output_type": "stream",
          "text": [
            "Batch 40: Loss = 4.838667392730713, Corrects = 82\n"
          ]
        },
        {
          "metadata": {
            "tags": null
          },
          "name": "stderr",
          "output_type": "stream",
          "text": [
            " 11%|█         | 51/469 [04:06<33:34,  4.82s/it]"
          ]
        },
        {
          "metadata": {
            "tags": null
          },
          "name": "stdout",
          "output_type": "stream",
          "text": [
            "Batch 50: Loss = 4.839407444000244, Corrects = 89\n"
          ]
        },
        {
          "metadata": {
            "tags": null
          },
          "name": "stderr",
          "output_type": "stream",
          "text": [
            " 13%|█▎        | 61/469 [04:54<32:48,  4.82s/it]"
          ]
        },
        {
          "metadata": {
            "tags": null
          },
          "name": "stdout",
          "output_type": "stream",
          "text": [
            "Batch 60: Loss = 4.838921546936035, Corrects = 95\n"
          ]
        },
        {
          "metadata": {
            "tags": null
          },
          "name": "stderr",
          "output_type": "stream",
          "text": [
            " 15%|█▌        | 71/469 [05:42<31:51,  4.80s/it]"
          ]
        },
        {
          "metadata": {
            "tags": null
          },
          "name": "stdout",
          "output_type": "stream",
          "text": [
            "Batch 70: Loss = 4.83846378326416, Corrects = 88\n"
          ]
        },
        {
          "metadata": {
            "tags": null
          },
          "name": "stderr",
          "output_type": "stream",
          "text": [
            " 17%|█▋        | 81/469 [06:30<31:01,  4.80s/it]"
          ]
        },
        {
          "metadata": {
            "tags": null
          },
          "name": "stdout",
          "output_type": "stream",
          "text": [
            "Batch 80: Loss = 4.838470458984375, Corrects = 98\n"
          ]
        },
        {
          "metadata": {
            "tags": null
          },
          "name": "stderr",
          "output_type": "stream",
          "text": [
            " 19%|█▉        | 91/469 [07:18<30:11,  4.79s/it]"
          ]
        },
        {
          "metadata": {
            "tags": null
          },
          "name": "stdout",
          "output_type": "stream",
          "text": [
            "Batch 90: Loss = 4.838865280151367, Corrects = 93\n"
          ]
        },
        {
          "metadata": {
            "tags": null
          },
          "name": "stderr",
          "output_type": "stream",
          "text": [
            " 22%|██▏       | 101/469 [08:06<29:29,  4.81s/it]"
          ]
        },
        {
          "metadata": {
            "tags": null
          },
          "name": "stdout",
          "output_type": "stream",
          "text": [
            "Batch 100: Loss = 4.839358329772949, Corrects = 89\n"
          ]
        },
        {
          "metadata": {
            "tags": null
          },
          "name": "stderr",
          "output_type": "stream",
          "text": [
            " 24%|██▎       | 111/469 [08:54<28:40,  4.81s/it]"
          ]
        },
        {
          "metadata": {
            "tags": null
          },
          "name": "stdout",
          "output_type": "stream",
          "text": [
            "Batch 110: Loss = 4.837855339050293, Corrects = 90\n"
          ]
        },
        {
          "metadata": {
            "tags": null
          },
          "name": "stderr",
          "output_type": "stream",
          "text": [
            " 26%|██▌       | 121/469 [09:42<27:55,  4.81s/it]"
          ]
        },
        {
          "metadata": {
            "tags": null
          },
          "name": "stdout",
          "output_type": "stream",
          "text": [
            "Batch 120: Loss = 4.838736057281494, Corrects = 97\n"
          ]
        },
        {
          "metadata": {
            "tags": null
          },
          "name": "stderr",
          "output_type": "stream",
          "text": [
            " 28%|██▊       | 131/469 [10:30<27:01,  4.80s/it]"
          ]
        },
        {
          "metadata": {
            "tags": null
          },
          "name": "stdout",
          "output_type": "stream",
          "text": [
            "Batch 130: Loss = 4.838710308074951, Corrects = 90\n"
          ]
        },
        {
          "metadata": {
            "tags": null
          },
          "name": "stderr",
          "output_type": "stream",
          "text": [
            " 30%|███       | 141/469 [11:18<26:14,  4.80s/it]"
          ]
        },
        {
          "metadata": {
            "tags": null
          },
          "name": "stdout",
          "output_type": "stream",
          "text": [
            "Batch 140: Loss = 4.838310241699219, Corrects = 88\n"
          ]
        },
        {
          "metadata": {
            "tags": null
          },
          "name": "stderr",
          "output_type": "stream",
          "text": [
            " 32%|███▏      | 151/469 [12:06<25:28,  4.81s/it]"
          ]
        },
        {
          "metadata": {
            "tags": null
          },
          "name": "stdout",
          "output_type": "stream",
          "text": [
            "Batch 150: Loss = 4.838818550109863, Corrects = 80\n"
          ]
        },
        {
          "metadata": {
            "tags": null
          },
          "name": "stderr",
          "output_type": "stream",
          "text": [
            " 34%|███▍      | 161/469 [12:54<24:43,  4.82s/it]"
          ]
        },
        {
          "metadata": {
            "tags": null
          },
          "name": "stdout",
          "output_type": "stream",
          "text": [
            "Batch 160: Loss = 4.838430404663086, Corrects = 90\n"
          ]
        },
        {
          "metadata": {
            "tags": null
          },
          "name": "stderr",
          "output_type": "stream",
          "text": [
            " 36%|███▋      | 171/469 [13:43<23:56,  4.82s/it]"
          ]
        },
        {
          "metadata": {
            "tags": null
          },
          "name": "stdout",
          "output_type": "stream",
          "text": [
            "Batch 170: Loss = 4.838389873504639, Corrects = 99\n"
          ]
        },
        {
          "metadata": {
            "tags": null
          },
          "name": "stderr",
          "output_type": "stream",
          "text": [
            " 39%|███▊      | 181/469 [14:31<23:05,  4.81s/it]"
          ]
        },
        {
          "metadata": {
            "tags": null
          },
          "name": "stdout",
          "output_type": "stream",
          "text": [
            "Batch 180: Loss = 4.838069915771484, Corrects = 100\n"
          ]
        },
        {
          "metadata": {
            "tags": null
          },
          "name": "stderr",
          "output_type": "stream",
          "text": [
            " 41%|████      | 191/469 [15:19<22:13,  4.80s/it]"
          ]
        },
        {
          "metadata": {
            "tags": null
          },
          "name": "stdout",
          "output_type": "stream",
          "text": [
            "Batch 190: Loss = 4.838747501373291, Corrects = 88\n"
          ]
        },
        {
          "metadata": {
            "tags": null
          },
          "name": "stderr",
          "output_type": "stream",
          "text": [
            " 43%|████▎     | 201/469 [16:07<21:26,  4.80s/it]"
          ]
        },
        {
          "metadata": {
            "tags": null
          },
          "name": "stdout",
          "output_type": "stream",
          "text": [
            "Batch 200: Loss = 4.838323593139648, Corrects = 99\n"
          ]
        },
        {
          "metadata": {
            "tags": null
          },
          "name": "stderr",
          "output_type": "stream",
          "text": [
            " 45%|████▍     | 211/469 [16:55<20:40,  4.81s/it]"
          ]
        },
        {
          "metadata": {
            "tags": null
          },
          "name": "stdout",
          "output_type": "stream",
          "text": [
            "Batch 210: Loss = 4.83774471282959, Corrects = 99\n"
          ]
        },
        {
          "metadata": {
            "tags": null
          },
          "name": "stderr",
          "output_type": "stream",
          "text": [
            " 47%|████▋     | 221/469 [17:43<19:52,  4.81s/it]"
          ]
        },
        {
          "metadata": {
            "tags": null
          },
          "name": "stdout",
          "output_type": "stream",
          "text": [
            "Batch 220: Loss = 4.838284492492676, Corrects = 97\n"
          ]
        },
        {
          "metadata": {
            "tags": null
          },
          "name": "stderr",
          "output_type": "stream",
          "text": [
            " 49%|████▉     | 231/469 [18:31<19:05,  4.81s/it]"
          ]
        },
        {
          "metadata": {
            "tags": null
          },
          "name": "stdout",
          "output_type": "stream",
          "text": [
            "Batch 230: Loss = 4.838858604431152, Corrects = 92\n"
          ]
        },
        {
          "metadata": {
            "tags": null
          },
          "name": "stderr",
          "output_type": "stream",
          "text": [
            " 51%|█████▏    | 241/469 [19:19<18:15,  4.81s/it]"
          ]
        },
        {
          "metadata": {
            "tags": null
          },
          "name": "stdout",
          "output_type": "stream",
          "text": [
            "Batch 240: Loss = 4.838384628295898, Corrects = 87\n"
          ]
        },
        {
          "metadata": {
            "tags": null
          },
          "name": "stderr",
          "output_type": "stream",
          "text": [
            " 54%|█████▎    | 251/469 [20:07<17:28,  4.81s/it]"
          ]
        },
        {
          "metadata": {
            "tags": null
          },
          "name": "stdout",
          "output_type": "stream",
          "text": [
            "Batch 250: Loss = 4.838194847106934, Corrects = 93\n"
          ]
        },
        {
          "metadata": {
            "tags": null
          },
          "name": "stderr",
          "output_type": "stream",
          "text": [
            " 56%|█████▌    | 261/469 [20:55<16:40,  4.81s/it]"
          ]
        },
        {
          "metadata": {
            "tags": null
          },
          "name": "stdout",
          "output_type": "stream",
          "text": [
            "Batch 260: Loss = 4.83840274810791, Corrects = 90\n"
          ]
        },
        {
          "metadata": {
            "tags": null
          },
          "name": "stderr",
          "output_type": "stream",
          "text": [
            " 58%|█████▊    | 271/469 [21:43<15:49,  4.80s/it]"
          ]
        },
        {
          "metadata": {
            "tags": null
          },
          "name": "stdout",
          "output_type": "stream",
          "text": [
            "Batch 270: Loss = 4.838117599487305, Corrects = 96\n"
          ]
        },
        {
          "metadata": {
            "tags": null
          },
          "name": "stderr",
          "output_type": "stream",
          "text": [
            " 60%|█████▉    | 281/469 [22:31<15:00,  4.79s/it]"
          ]
        },
        {
          "metadata": {
            "tags": null
          },
          "name": "stdout",
          "output_type": "stream",
          "text": [
            "Batch 280: Loss = 4.8378801345825195, Corrects = 103\n"
          ]
        },
        {
          "metadata": {
            "tags": null
          },
          "name": "stderr",
          "output_type": "stream",
          "text": [
            " 62%|██████▏   | 291/469 [23:19<14:14,  4.80s/it]"
          ]
        },
        {
          "metadata": {
            "tags": null
          },
          "name": "stdout",
          "output_type": "stream",
          "text": [
            "Batch 290: Loss = 4.838266372680664, Corrects = 102\n"
          ]
        },
        {
          "metadata": {
            "tags": null
          },
          "name": "stderr",
          "output_type": "stream",
          "text": [
            " 64%|██████▍   | 301/469 [24:07<13:27,  4.81s/it]"
          ]
        },
        {
          "metadata": {
            "tags": null
          },
          "name": "stdout",
          "output_type": "stream",
          "text": [
            "Batch 300: Loss = 4.838098526000977, Corrects = 100\n"
          ]
        },
        {
          "metadata": {
            "tags": null
          },
          "name": "stderr",
          "output_type": "stream",
          "text": [
            " 66%|██████▋   | 311/469 [24:55<12:40,  4.81s/it]"
          ]
        },
        {
          "metadata": {
            "tags": null
          },
          "name": "stdout",
          "output_type": "stream",
          "text": [
            "Batch 310: Loss = 4.838558197021484, Corrects = 98\n"
          ]
        },
        {
          "metadata": {
            "tags": null
          },
          "name": "stderr",
          "output_type": "stream",
          "text": [
            " 68%|██████▊   | 321/469 [25:43<11:51,  4.81s/it]"
          ]
        },
        {
          "metadata": {
            "tags": null
          },
          "name": "stdout",
          "output_type": "stream",
          "text": [
            "Batch 320: Loss = 4.837615966796875, Corrects = 109\n"
          ]
        },
        {
          "metadata": {
            "tags": null
          },
          "name": "stderr",
          "output_type": "stream",
          "text": [
            " 71%|███████   | 331/469 [26:31<11:03,  4.81s/it]"
          ]
        },
        {
          "metadata": {
            "tags": null
          },
          "name": "stdout",
          "output_type": "stream",
          "text": [
            "Batch 330: Loss = 4.838319301605225, Corrects = 100\n"
          ]
        },
        {
          "metadata": {
            "tags": null
          },
          "name": "stderr",
          "output_type": "stream",
          "text": [
            " 73%|███████▎  | 341/469 [27:19<10:15,  4.80s/it]"
          ]
        },
        {
          "metadata": {
            "tags": null
          },
          "name": "stdout",
          "output_type": "stream",
          "text": [
            "Batch 340: Loss = 4.8379034996032715, Corrects = 102\n"
          ]
        },
        {
          "metadata": {
            "tags": null
          },
          "name": "stderr",
          "output_type": "stream",
          "text": [
            " 75%|███████▍  | 351/469 [28:07<09:26,  4.80s/it]"
          ]
        },
        {
          "metadata": {
            "tags": null
          },
          "name": "stdout",
          "output_type": "stream",
          "text": [
            "Batch 350: Loss = 4.837753772735596, Corrects = 105\n"
          ]
        },
        {
          "metadata": {
            "tags": null
          },
          "name": "stderr",
          "output_type": "stream",
          "text": [
            " 77%|███████▋  | 361/469 [28:55<08:39,  4.81s/it]"
          ]
        },
        {
          "metadata": {
            "tags": null
          },
          "name": "stdout",
          "output_type": "stream",
          "text": [
            "Batch 360: Loss = 4.8382415771484375, Corrects = 97\n"
          ]
        },
        {
          "output_type": "stream",
          "name": "stderr",
          "text": [
            " 79%|███████▉  | 371/469 [29:43<07:51,  4.81s/it]"
          ]
        },
        {
          "output_type": "stream",
          "name": "stdout",
          "text": [
            "Batch 370: Loss = 4.837955474853516, Corrects = 106\n"
          ]
        },
        {
          "output_type": "stream",
          "name": "stderr",
          "text": [
            " 81%|████████  | 381/469 [30:31<07:03,  4.81s/it]"
          ]
        },
        {
          "output_type": "stream",
          "name": "stdout",
          "text": [
            "Batch 380: Loss = 4.838235855102539, Corrects = 98\n"
          ]
        },
        {
          "output_type": "stream",
          "name": "stderr",
          "text": [
            " 83%|████████▎ | 391/469 [31:19<06:15,  4.81s/it]"
          ]
        },
        {
          "output_type": "stream",
          "name": "stdout",
          "text": [
            "Batch 390: Loss = 4.837586402893066, Corrects = 106\n"
          ]
        },
        {
          "output_type": "stream",
          "name": "stderr",
          "text": [
            " 86%|████████▌ | 401/469 [32:07<05:27,  4.82s/it]"
          ]
        },
        {
          "output_type": "stream",
          "name": "stdout",
          "text": [
            "Batch 400: Loss = 4.837759017944336, Corrects = 106\n"
          ]
        },
        {
          "output_type": "stream",
          "name": "stderr",
          "text": [
            " 88%|████████▊ | 411/469 [32:55<04:39,  4.82s/it]"
          ]
        },
        {
          "output_type": "stream",
          "name": "stdout",
          "text": [
            "Batch 410: Loss = 4.837355613708496, Corrects = 108\n"
          ]
        },
        {
          "output_type": "stream",
          "name": "stderr",
          "text": [
            " 90%|████████▉ | 421/469 [33:44<03:50,  4.81s/it]"
          ]
        },
        {
          "output_type": "stream",
          "name": "stdout",
          "text": [
            "Batch 420: Loss = 4.838351249694824, Corrects = 93\n"
          ]
        },
        {
          "output_type": "stream",
          "name": "stderr",
          "text": [
            " 92%|█████████▏| 431/469 [34:32<03:05,  4.88s/it]"
          ]
        },
        {
          "output_type": "stream",
          "name": "stdout",
          "text": [
            "Batch 430: Loss = 4.837888240814209, Corrects = 101\n"
          ]
        },
        {
          "output_type": "stream",
          "name": "stderr",
          "text": [
            " 94%|█████████▍| 441/469 [35:20<02:14,  4.81s/it]"
          ]
        },
        {
          "output_type": "stream",
          "name": "stdout",
          "text": [
            "Batch 440: Loss = 4.837578773498535, Corrects = 98\n"
          ]
        },
        {
          "output_type": "stream",
          "name": "stderr",
          "text": [
            " 96%|█████████▌| 451/469 [36:08<01:26,  4.82s/it]"
          ]
        },
        {
          "output_type": "stream",
          "name": "stdout",
          "text": [
            "Batch 450: Loss = 4.837642192840576, Corrects = 108\n"
          ]
        },
        {
          "output_type": "stream",
          "name": "stderr",
          "text": [
            " 98%|█████████▊| 461/469 [36:56<00:38,  4.82s/it]"
          ]
        },
        {
          "output_type": "stream",
          "name": "stdout",
          "text": [
            "Batch 460: Loss = 4.837594985961914, Corrects = 108\n"
          ]
        },
        {
          "output_type": "stream",
          "name": "stderr",
          "text": [
            "100%|██████████| 469/469 [37:34<00:00,  4.81s/it]\n"
          ]
        },
        {
          "output_type": "stream",
          "name": "stdout",
          "text": [
            "Train Loss: 0.03781572919155841\n",
            "Train Accuracy: 0.7442957382623043\n",
            "Validation Starts!\n"
          ]
        },
        {
          "output_type": "stream",
          "name": "stderr",
          "text": [
            "100%|██████████| 157/157 [11:11<00:00,  4.28s/it]\n"
          ]
        },
        {
          "output_type": "stream",
          "name": "stdout",
          "text": [
            "Validation Loss: 0.03790762593746185\n",
            "Validation Accuracy: 0.81315\n",
            "Temperature at this epoch was : 19.952281951904297\n",
            "Training Starts!\n"
          ]
        },
        {
          "output_type": "stream",
          "name": "stderr",
          "text": [
            "  0%|          | 1/469 [00:04<37:26,  4.80s/it]"
          ]
        },
        {
          "output_type": "stream",
          "name": "stdout",
          "text": [
            "Batch 0: Loss = 4.83814811706543, Corrects = 99\n"
          ]
        },
        {
          "output_type": "stream",
          "name": "stderr",
          "text": [
            "  2%|▏         | 11/469 [00:53<36:44,  4.81s/it]"
          ]
        },
        {
          "output_type": "stream",
          "name": "stdout",
          "text": [
            "Batch 10: Loss = 4.837284088134766, Corrects = 111\n"
          ]
        },
        {
          "output_type": "stream",
          "name": "stderr",
          "text": [
            "  4%|▍         | 21/469 [01:40<35:53,  4.81s/it]"
          ]
        },
        {
          "output_type": "stream",
          "name": "stdout",
          "text": [
            "Batch 20: Loss = 4.837657928466797, Corrects = 101\n"
          ]
        },
        {
          "output_type": "stream",
          "name": "stderr",
          "text": [
            "  7%|▋         | 31/469 [02:29<35:16,  4.83s/it]"
          ]
        },
        {
          "output_type": "stream",
          "name": "stdout",
          "text": [
            "Batch 30: Loss = 4.837893009185791, Corrects = 104\n"
          ]
        },
        {
          "output_type": "stream",
          "name": "stderr",
          "text": [
            "  9%|▊         | 41/469 [03:17<34:22,  4.82s/it]"
          ]
        },
        {
          "output_type": "stream",
          "name": "stdout",
          "text": [
            "Batch 40: Loss = 4.837876319885254, Corrects = 111\n"
          ]
        },
        {
          "output_type": "stream",
          "name": "stderr",
          "text": [
            " 11%|█         | 51/469 [04:05<33:29,  4.81s/it]"
          ]
        },
        {
          "output_type": "stream",
          "name": "stdout",
          "text": [
            "Batch 50: Loss = 4.837647914886475, Corrects = 104\n"
          ]
        },
        {
          "output_type": "stream",
          "name": "stderr",
          "text": [
            " 13%|█▎        | 61/469 [04:53<32:39,  4.80s/it]"
          ]
        },
        {
          "output_type": "stream",
          "name": "stdout",
          "text": [
            "Batch 60: Loss = 4.837479591369629, Corrects = 100\n"
          ]
        },
        {
          "output_type": "stream",
          "name": "stderr",
          "text": [
            " 15%|█▌        | 71/469 [05:41<31:52,  4.81s/it]"
          ]
        },
        {
          "output_type": "stream",
          "name": "stdout",
          "text": [
            "Batch 70: Loss = 4.8376874923706055, Corrects = 103\n"
          ]
        },
        {
          "output_type": "stream",
          "name": "stderr",
          "text": [
            " 17%|█▋        | 81/469 [06:29<31:03,  4.80s/it]"
          ]
        },
        {
          "output_type": "stream",
          "name": "stdout",
          "text": [
            "Batch 80: Loss = 4.837679862976074, Corrects = 109\n"
          ]
        },
        {
          "output_type": "stream",
          "name": "stderr",
          "text": [
            " 19%|█▉        | 91/469 [07:17<30:21,  4.82s/it]"
          ]
        },
        {
          "output_type": "stream",
          "name": "stdout",
          "text": [
            "Batch 90: Loss = 4.8382792472839355, Corrects = 102\n"
          ]
        },
        {
          "output_type": "stream",
          "name": "stderr",
          "text": [
            " 22%|██▏       | 101/469 [08:05<29:32,  4.82s/it]"
          ]
        },
        {
          "output_type": "stream",
          "name": "stdout",
          "text": [
            "Batch 100: Loss = 4.83866024017334, Corrects = 104\n"
          ]
        },
        {
          "output_type": "stream",
          "name": "stderr",
          "text": [
            " 24%|██▎       | 111/469 [08:53<28:42,  4.81s/it]"
          ]
        },
        {
          "output_type": "stream",
          "name": "stdout",
          "text": [
            "Batch 110: Loss = 4.837477684020996, Corrects = 111\n"
          ]
        },
        {
          "output_type": "stream",
          "name": "stderr",
          "text": [
            " 26%|██▌       | 121/469 [09:41<27:49,  4.80s/it]"
          ]
        },
        {
          "output_type": "stream",
          "name": "stdout",
          "text": [
            "Batch 120: Loss = 4.837602615356445, Corrects = 111\n"
          ]
        },
        {
          "output_type": "stream",
          "name": "stderr",
          "text": [
            " 28%|██▊       | 131/469 [10:29<26:53,  4.77s/it]"
          ]
        },
        {
          "output_type": "stream",
          "name": "stdout",
          "text": [
            "Batch 130: Loss = 4.837303638458252, Corrects = 111\n"
          ]
        },
        {
          "output_type": "stream",
          "name": "stderr",
          "text": [
            " 30%|███       | 141/469 [11:17<26:04,  4.77s/it]"
          ]
        },
        {
          "output_type": "stream",
          "name": "stdout",
          "text": [
            "Batch 140: Loss = 4.837140083312988, Corrects = 109\n"
          ]
        },
        {
          "output_type": "stream",
          "name": "stderr",
          "text": [
            " 32%|███▏      | 151/469 [12:04<25:12,  4.76s/it]"
          ]
        },
        {
          "output_type": "stream",
          "name": "stdout",
          "text": [
            "Batch 150: Loss = 4.837791919708252, Corrects = 106\n"
          ]
        },
        {
          "output_type": "stream",
          "name": "stderr",
          "text": [
            " 34%|███▍      | 161/469 [12:52<24:38,  4.80s/it]"
          ]
        },
        {
          "output_type": "stream",
          "name": "stdout",
          "text": [
            "Batch 160: Loss = 4.83682918548584, Corrects = 115\n"
          ]
        },
        {
          "output_type": "stream",
          "name": "stderr",
          "text": [
            " 36%|███▋      | 171/469 [13:40<23:49,  4.80s/it]"
          ]
        },
        {
          "output_type": "stream",
          "name": "stdout",
          "text": [
            "Batch 170: Loss = 4.837411880493164, Corrects = 107\n"
          ]
        },
        {
          "output_type": "stream",
          "name": "stderr",
          "text": [
            " 39%|███▊      | 181/469 [14:28<23:04,  4.81s/it]"
          ]
        },
        {
          "output_type": "stream",
          "name": "stdout",
          "text": [
            "Batch 180: Loss = 4.838027477264404, Corrects = 106\n"
          ]
        },
        {
          "output_type": "stream",
          "name": "stderr",
          "text": [
            " 41%|████      | 191/469 [15:16<22:20,  4.82s/it]"
          ]
        },
        {
          "output_type": "stream",
          "name": "stdout",
          "text": [
            "Batch 190: Loss = 4.837752342224121, Corrects = 109\n"
          ]
        },
        {
          "output_type": "stream",
          "name": "stderr",
          "text": [
            " 43%|████▎     | 201/469 [16:04<21:24,  4.79s/it]"
          ]
        },
        {
          "output_type": "stream",
          "name": "stdout",
          "text": [
            "Batch 200: Loss = 4.836940765380859, Corrects = 112\n"
          ]
        },
        {
          "output_type": "stream",
          "name": "stderr",
          "text": [
            " 45%|████▍     | 211/469 [16:52<20:45,  4.83s/it]"
          ]
        },
        {
          "output_type": "stream",
          "name": "stdout",
          "text": [
            "Batch 210: Loss = 4.837308883666992, Corrects = 107\n"
          ]
        },
        {
          "output_type": "stream",
          "name": "stderr",
          "text": [
            " 47%|████▋     | 221/469 [17:40<19:53,  4.81s/it]"
          ]
        },
        {
          "output_type": "stream",
          "name": "stdout",
          "text": [
            "Batch 220: Loss = 4.836927890777588, Corrects = 113\n"
          ]
        },
        {
          "output_type": "stream",
          "name": "stderr",
          "text": [
            " 49%|████▉     | 231/469 [18:28<18:57,  4.78s/it]"
          ]
        },
        {
          "output_type": "stream",
          "name": "stdout",
          "text": [
            "Batch 230: Loss = 4.837268829345703, Corrects = 111\n"
          ]
        },
        {
          "output_type": "stream",
          "name": "stderr",
          "text": [
            " 51%|█████▏    | 241/469 [19:16<18:21,  4.83s/it]"
          ]
        },
        {
          "output_type": "stream",
          "name": "stdout",
          "text": [
            "Batch 240: Loss = 4.838404655456543, Corrects = 102\n"
          ]
        },
        {
          "output_type": "stream",
          "name": "stderr",
          "text": [
            " 54%|█████▎    | 251/469 [20:04<17:24,  4.79s/it]"
          ]
        },
        {
          "output_type": "stream",
          "name": "stdout",
          "text": [
            "Batch 250: Loss = 4.837264060974121, Corrects = 108\n"
          ]
        },
        {
          "output_type": "stream",
          "name": "stderr",
          "text": [
            " 56%|█████▌    | 261/469 [20:52<16:40,  4.81s/it]"
          ]
        },
        {
          "output_type": "stream",
          "name": "stdout",
          "text": [
            "Batch 260: Loss = 4.837839126586914, Corrects = 108\n"
          ]
        },
        {
          "output_type": "stream",
          "name": "stderr",
          "text": [
            " 58%|█████▊    | 271/469 [21:40<15:52,  4.81s/it]"
          ]
        },
        {
          "output_type": "stream",
          "name": "stdout",
          "text": [
            "Batch 270: Loss = 4.8366804122924805, Corrects = 113\n"
          ]
        },
        {
          "output_type": "stream",
          "name": "stderr",
          "text": [
            " 60%|█████▉    | 281/469 [22:28<15:03,  4.81s/it]"
          ]
        },
        {
          "output_type": "stream",
          "name": "stdout",
          "text": [
            "Batch 280: Loss = 4.837254524230957, Corrects = 108\n"
          ]
        },
        {
          "output_type": "stream",
          "name": "stderr",
          "text": [
            " 62%|██████▏   | 291/469 [23:16<14:14,  4.80s/it]"
          ]
        },
        {
          "output_type": "stream",
          "name": "stdout",
          "text": [
            "Batch 290: Loss = 4.836684226989746, Corrects = 110\n"
          ]
        },
        {
          "output_type": "stream",
          "name": "stderr",
          "text": [
            " 64%|██████▍   | 301/469 [24:04<13:26,  4.80s/it]"
          ]
        },
        {
          "output_type": "stream",
          "name": "stdout",
          "text": [
            "Batch 300: Loss = 4.836966037750244, Corrects = 114\n"
          ]
        },
        {
          "output_type": "stream",
          "name": "stderr",
          "text": [
            " 66%|██████▋   | 311/469 [24:52<12:40,  4.81s/it]"
          ]
        },
        {
          "output_type": "stream",
          "name": "stdout",
          "text": [
            "Batch 310: Loss = 4.837648868560791, Corrects = 102\n"
          ]
        },
        {
          "output_type": "stream",
          "name": "stderr",
          "text": [
            " 68%|██████▊   | 321/469 [25:41<11:54,  4.83s/it]"
          ]
        },
        {
          "output_type": "stream",
          "name": "stdout",
          "text": [
            "Batch 320: Loss = 4.83721923828125, Corrects = 111\n"
          ]
        },
        {
          "output_type": "stream",
          "name": "stderr",
          "text": [
            " 71%|███████   | 331/469 [26:29<11:07,  4.84s/it]"
          ]
        },
        {
          "output_type": "stream",
          "name": "stdout",
          "text": [
            "Batch 330: Loss = 4.837074279785156, Corrects = 103\n"
          ]
        },
        {
          "output_type": "stream",
          "name": "stderr",
          "text": [
            " 73%|███████▎  | 341/469 [27:17<10:16,  4.81s/it]"
          ]
        },
        {
          "output_type": "stream",
          "name": "stdout",
          "text": [
            "Batch 340: Loss = 4.837125778198242, Corrects = 112\n"
          ]
        },
        {
          "output_type": "stream",
          "name": "stderr",
          "text": [
            " 75%|███████▍  | 351/469 [28:05<09:26,  4.80s/it]"
          ]
        },
        {
          "output_type": "stream",
          "name": "stdout",
          "text": [
            "Batch 350: Loss = 4.8372297286987305, Corrects = 105\n"
          ]
        },
        {
          "output_type": "stream",
          "name": "stderr",
          "text": [
            " 77%|███████▋  | 361/469 [28:53<08:38,  4.80s/it]"
          ]
        },
        {
          "output_type": "stream",
          "name": "stdout",
          "text": [
            "Batch 360: Loss = 4.837986469268799, Corrects = 99\n"
          ]
        },
        {
          "output_type": "stream",
          "name": "stderr",
          "text": [
            " 79%|███████▉  | 371/469 [29:41<07:51,  4.81s/it]"
          ]
        },
        {
          "output_type": "stream",
          "name": "stdout",
          "text": [
            "Batch 370: Loss = 4.837113857269287, Corrects = 107\n"
          ]
        },
        {
          "output_type": "stream",
          "name": "stderr",
          "text": [
            " 81%|████████  | 381/469 [30:29<07:04,  4.82s/it]"
          ]
        },
        {
          "output_type": "stream",
          "name": "stdout",
          "text": [
            "Batch 380: Loss = 4.837213516235352, Corrects = 102\n"
          ]
        },
        {
          "output_type": "stream",
          "name": "stderr",
          "text": [
            " 83%|████████▎ | 391/469 [31:17<06:15,  4.81s/it]"
          ]
        },
        {
          "output_type": "stream",
          "name": "stdout",
          "text": [
            "Batch 390: Loss = 4.836997032165527, Corrects = 109\n"
          ]
        },
        {
          "output_type": "stream",
          "name": "stderr",
          "text": [
            " 86%|████████▌ | 401/469 [32:05<05:27,  4.81s/it]"
          ]
        },
        {
          "output_type": "stream",
          "name": "stdout",
          "text": [
            "Batch 400: Loss = 4.836949825286865, Corrects = 105\n"
          ]
        },
        {
          "output_type": "stream",
          "name": "stderr",
          "text": [
            " 88%|████████▊ | 411/469 [32:53<04:39,  4.81s/it]"
          ]
        },
        {
          "output_type": "stream",
          "name": "stdout",
          "text": [
            "Batch 410: Loss = 4.837499618530273, Corrects = 109\n"
          ]
        },
        {
          "output_type": "stream",
          "name": "stderr",
          "text": [
            " 90%|████████▉ | 421/469 [33:42<03:50,  4.81s/it]"
          ]
        },
        {
          "output_type": "stream",
          "name": "stdout",
          "text": [
            "Batch 420: Loss = 4.837413787841797, Corrects = 109\n"
          ]
        },
        {
          "output_type": "stream",
          "name": "stderr",
          "text": [
            " 92%|█████████▏| 431/469 [34:30<03:02,  4.80s/it]"
          ]
        },
        {
          "output_type": "stream",
          "name": "stdout",
          "text": [
            "Batch 430: Loss = 4.8370256423950195, Corrects = 107\n"
          ]
        },
        {
          "output_type": "stream",
          "name": "stderr",
          "text": [
            " 94%|█████████▍| 441/469 [35:18<02:14,  4.80s/it]"
          ]
        },
        {
          "output_type": "stream",
          "name": "stdout",
          "text": [
            "Batch 440: Loss = 4.836948871612549, Corrects = 111\n"
          ]
        },
        {
          "output_type": "stream",
          "name": "stderr",
          "text": [
            " 96%|█████████▌| 451/469 [36:06<01:26,  4.81s/it]"
          ]
        },
        {
          "output_type": "stream",
          "name": "stdout",
          "text": [
            "Batch 450: Loss = 4.83736515045166, Corrects = 102\n"
          ]
        },
        {
          "output_type": "stream",
          "name": "stderr",
          "text": [
            " 98%|█████████▊| 461/469 [36:54<00:38,  4.83s/it]"
          ]
        },
        {
          "output_type": "stream",
          "name": "stdout",
          "text": [
            "Batch 460: Loss = 4.837270736694336, Corrects = 104\n"
          ]
        },
        {
          "output_type": "stream",
          "name": "stderr",
          "text": [
            "100%|██████████| 469/469 [37:31<00:00,  4.80s/it]\n"
          ]
        },
        {
          "output_type": "stream",
          "name": "stdout",
          "text": [
            "Train Loss: 0.037807858346507926\n",
            "Train Accuracy: 0.8405140085668095\n",
            "Validation Starts!\n"
          ]
        },
        {
          "output_type": "stream",
          "name": "stderr",
          "text": [
            "100%|██████████| 157/157 [11:07<00:00,  4.25s/it]\n"
          ]
        },
        {
          "output_type": "stream",
          "name": "stdout",
          "text": [
            "Validation Loss: 0.0379025873541832\n",
            "Validation Accuracy: 0.855\n",
            "Temperature at this epoch was : 19.903223037719727\n",
            "Training Starts!\n"
          ]
        },
        {
          "output_type": "stream",
          "name": "stderr",
          "text": [
            "  0%|          | 1/469 [00:04<37:17,  4.78s/it]"
          ]
        },
        {
          "output_type": "stream",
          "name": "stdout",
          "text": [
            "Batch 0: Loss = 4.837498664855957, Corrects = 106\n"
          ]
        },
        {
          "output_type": "stream",
          "name": "stderr",
          "text": [
            "\r  0%|          | 1/469 [00:09<1:10:30,  9.04s/it]\n"
          ]
        },
        {
          "output_type": "error",
          "ename": "KeyboardInterrupt",
          "evalue": "",
          "traceback": [
            "\u001b[0;31m---------------------------------------------------------------------------\u001b[0m",
            "\u001b[0;31mKeyboardInterrupt\u001b[0m                         Traceback (most recent call last)",
            "\u001b[0;32m<ipython-input-38-8605e5c0f154>\u001b[0m in \u001b[0;36m<cell line: 0>\u001b[0;34m()\u001b[0m\n\u001b[1;32m      4\u001b[0m \u001b[0;34m\u001b[0m\u001b[0m\n\u001b[1;32m      5\u001b[0m \u001b[0;32mfor\u001b[0m \u001b[0mt\u001b[0m \u001b[0;32min\u001b[0m \u001b[0mrange\u001b[0m\u001b[0;34m(\u001b[0m\u001b[0mconfigs\u001b[0m\u001b[0;34m[\u001b[0m\u001b[0;34m'epochs'\u001b[0m\u001b[0;34m]\u001b[0m\u001b[0;34m)\u001b[0m\u001b[0;34m:\u001b[0m\u001b[0;34m\u001b[0m\u001b[0;34m\u001b[0m\u001b[0m\n\u001b[0;32m----> 6\u001b[0;31m     \u001b[0mtrainLoss\u001b[0m\u001b[0;34m,\u001b[0m \u001b[0mtrainAcc\u001b[0m \u001b[0;34m=\u001b[0m \u001b[0mtrainLoop\u001b[0m\u001b[0;34m(\u001b[0m\u001b[0mtrainDataloader\u001b[0m\u001b[0;34m,\u001b[0m \u001b[0mmodels\u001b[0m\u001b[0;34m,\u001b[0m \u001b[0mreferenceTokenizer\u001b[0m\u001b[0;34m,\u001b[0m \u001b[0mcandidateTokenizer\u001b[0m\u001b[0;34m,\u001b[0m \u001b[0moptimizer\u001b[0m\u001b[0;34m,\u001b[0m \u001b[0mtemperature\u001b[0m\u001b[0;34m)\u001b[0m\u001b[0;34m\u001b[0m\u001b[0;34m\u001b[0m\u001b[0m\n\u001b[0m\u001b[1;32m      7\u001b[0m     \u001b[0mvalLoss\u001b[0m\u001b[0;34m,\u001b[0m \u001b[0mvalAcc\u001b[0m \u001b[0;34m=\u001b[0m \u001b[0mvalLoop\u001b[0m\u001b[0;34m(\u001b[0m\u001b[0mvalDataloader\u001b[0m\u001b[0;34m,\u001b[0m \u001b[0mmodels\u001b[0m\u001b[0;34m,\u001b[0m \u001b[0mreferenceTokenizer\u001b[0m\u001b[0;34m,\u001b[0m \u001b[0mcandidateTokenizer\u001b[0m\u001b[0;34m,\u001b[0m \u001b[0mtemperature\u001b[0m\u001b[0;34m)\u001b[0m\u001b[0;34m\u001b[0m\u001b[0;34m\u001b[0m\u001b[0m\n\u001b[1;32m      8\u001b[0m \u001b[0;34m\u001b[0m\u001b[0m\n",
            "\u001b[0;32m<ipython-input-31-1bd977cb84ca>\u001b[0m in \u001b[0;36mtrainLoop\u001b[0;34m(dataloader, models, referenceTokenizer, candidateTokenizer, optimizer, temperature)\u001b[0m\n\u001b[1;32m     27\u001b[0m \u001b[0;34m\u001b[0m\u001b[0m\n\u001b[1;32m     28\u001b[0m         \u001b[0;31m# Compute loss and correct predictions\u001b[0m\u001b[0;34m\u001b[0m\u001b[0;34m\u001b[0m\u001b[0m\n\u001b[0;32m---> 29\u001b[0;31m         \u001b[0mloss\u001b[0m\u001b[0;34m,\u001b[0m \u001b[0mcorrects\u001b[0m \u001b[0;34m=\u001b[0m \u001b[0mcalcLoss\u001b[0m\u001b[0;34m(\u001b[0m\u001b[0mbatch\u001b[0m\u001b[0;34m,\u001b[0m \u001b[0mmodels\u001b[0m\u001b[0;34m[\u001b[0m\u001b[0;34m'referenceModel'\u001b[0m\u001b[0;34m]\u001b[0m\u001b[0;34m,\u001b[0m \u001b[0mmodels\u001b[0m\u001b[0;34m[\u001b[0m\u001b[0;34m'candidateModel'\u001b[0m\u001b[0;34m]\u001b[0m\u001b[0;34m,\u001b[0m \u001b[0mtemperature\u001b[0m\u001b[0;34m)\u001b[0m\u001b[0;34m\u001b[0m\u001b[0;34m\u001b[0m\u001b[0m\n\u001b[0m\u001b[1;32m     30\u001b[0m \u001b[0;34m\u001b[0m\u001b[0m\n\u001b[1;32m     31\u001b[0m         \u001b[0;31m# Accumulate loss and correct predictions\u001b[0m\u001b[0;34m\u001b[0m\u001b[0;34m\u001b[0m\u001b[0m\n",
            "\u001b[0;32m<ipython-input-19-e9bf65525072>\u001b[0m in \u001b[0;36mcalcLoss\u001b[0;34m(batch, referenceModel, candidateModel, temperature)\u001b[0m\n\u001b[1;32m     27\u001b[0m     \u001b[0;31m# Calculate the number of correct predictions\u001b[0m\u001b[0;34m\u001b[0m\u001b[0;34m\u001b[0m\u001b[0m\n\u001b[1;32m     28\u001b[0m     \u001b[0mpreds\u001b[0m \u001b[0;34m=\u001b[0m \u001b[0mtorch\u001b[0m\u001b[0;34m.\u001b[0m\u001b[0margmax\u001b[0m\u001b[0;34m(\u001b[0m\u001b[0mlogits\u001b[0m\u001b[0;34m,\u001b[0m \u001b[0mdim\u001b[0m\u001b[0;34m=\u001b[0m\u001b[0;34m-\u001b[0m\u001b[0;36m1\u001b[0m\u001b[0;34m)\u001b[0m\u001b[0;34m\u001b[0m\u001b[0;34m\u001b[0m\u001b[0m\n\u001b[0;32m---> 29\u001b[0;31m     \u001b[0mcorrects\u001b[0m \u001b[0;34m=\u001b[0m \u001b[0mtorch\u001b[0m\u001b[0;34m.\u001b[0m\u001b[0msum\u001b[0m\u001b[0;34m(\u001b[0m\u001b[0mpreds\u001b[0m \u001b[0;34m==\u001b[0m \u001b[0mtargets\u001b[0m\u001b[0;34m)\u001b[0m\u001b[0;34m.\u001b[0m\u001b[0mitem\u001b[0m\u001b[0;34m(\u001b[0m\u001b[0;34m)\u001b[0m\u001b[0;34m\u001b[0m\u001b[0;34m\u001b[0m\u001b[0m\n\u001b[0m\u001b[1;32m     30\u001b[0m \u001b[0;34m\u001b[0m\u001b[0m\n\u001b[1;32m     31\u001b[0m     \u001b[0;32mreturn\u001b[0m \u001b[0mloss\u001b[0m\u001b[0;34m,\u001b[0m \u001b[0mcorrects\u001b[0m\u001b[0;34m\u001b[0m\u001b[0;34m\u001b[0m\u001b[0m\n",
            "\u001b[0;31mKeyboardInterrupt\u001b[0m: "
          ]
        }
      ],
      "source": [
        "\n",
        "bestValAcc = float('-inf')\n",
        "\n",
        "metrics = pd.DataFrame(columns=[\"Avg-train-loss\", \"Avg-train-accuracy\",\"Avg-val-loss\", \"Avg-val-accuracy\"])\n",
        "\n",
        "for t in range(configs['epochs']):\n",
        "    trainLoss, trainAcc = trainLoop(trainDataloader, models, referenceTokenizer, candidateTokenizer, optimizer, temperature)\n",
        "    valLoss, valAcc = valLoop(valDataloader, models, referenceTokenizer, candidateTokenizer, temperature)\n",
        "\n",
        "    metrics.loc[t+1] = [trainLoss, trainAcc, valLoss, valAcc]\n",
        "\n",
        "    lrScheduler.step(valAcc)\n",
        "\n",
        "    print(\"Temperature at this epoch was :\", temperature.item())\n",
        "\n",
        "print(f'Best accuracy of validation gained: ', bestValAcc)\n",
        "print(\"Done!\")"
      ]
    },
    {
      "cell_type": "markdown",
      "source": [
        "I stopped it at 2 epochs after val accuracy was well above 70%!"
      ],
      "metadata": {
        "id": "rJk2heaJg9k2"
      },
      "id": "rJk2heaJg9k2"
    },
    {
      "cell_type": "code",
      "execution_count": 39,
      "id": "884ba162",
      "metadata": {
        "execution": {
          "iopub.execute_input": "2024-12-18T22:11:22.772325Z",
          "iopub.status.busy": "2024-12-18T22:11:22.771986Z",
          "iopub.status.idle": "2024-12-18T22:11:23.076626Z",
          "shell.execute_reply": "2024-12-18T22:11:23.075718Z"
        },
        "id": "884ba162",
        "papermill": {
          "duration": 0.494729,
          "end_time": "2024-12-18T22:11:23.078241",
          "exception": false,
          "start_time": "2024-12-18T22:11:22.583512",
          "status": "completed"
        },
        "tags": [],
        "colab": {
          "base_uri": "https://localhost:8080/",
          "height": 566
        },
        "outputId": "7e83937c-218c-4f3f-b861-18a449863fcb"
      },
      "outputs": [
        {
          "output_type": "display_data",
          "data": {
            "text/plain": [
              "<Figure size 640x480 with 1 Axes>"
            ],
            "image/png": "[encoded data removed]"
          },
          "metadata": {}
        },
        {
          "output_type": "execute_result",
          "data": {
            "text/plain": [
              "   Avg-train-loss  Avg-train-accuracy  Avg-val-loss  Avg-val-accuracy\n",
              "1        0.037816            0.744296      0.037908           0.81315\n",
              "2        0.037808            0.840514      0.037903           0.85500"
            ],
            "text/html": [
              "\n",
              "  <div id=\"df-e7449baa-8d96-46b8-b832-2e1df5d3bf65\" class=\"colab-df-container\">\n",
              "    <div>\n",
              "<style scoped>\n",
              "    .dataframe tbody tr th:only-of-type {\n",
              "        vertical-align: middle;\n",
              "    }\n",
              "\n",
              "    .dataframe tbody tr th {\n",
              "        vertical-align: top;\n",
              "    }\n",
              "\n",
              "    .dataframe thead th {\n",
              "        text-align: right;\n",
              "    }\n",
              "</style>\n",
              "<table border=\"1\" class=\"dataframe\">\n",
              "  <thead>\n",
              "    <tr style=\"text-align: right;\">\n",
              "      <th></th>\n",
              "      <th>Avg-train-loss</th>\n",
              "      <th>Avg-train-accuracy</th>\n",
              "      <th>Avg-val-loss</th>\n",
              "      <th>Avg-val-accuracy</th>\n",
              "    </tr>\n",
              "  </thead>\n",
              "  <tbody>\n",
              "    <tr>\n",
              "      <th>1</th>\n",
              "      <td>0.037816</td>\n",
              "      <td>0.744296</td>\n",
              "      <td>0.037908</td>\n",
              "      <td>0.81315</td>\n",
              "    </tr>\n",
              "    <tr>\n",
              "      <th>2</th>\n",
              "      <td>0.037808</td>\n",
              "      <td>0.840514</td>\n",
              "      <td>0.037903</td>\n",
              "      <td>0.85500</td>\n",
              "    </tr>\n",
              "  </tbody>\n",
              "</table>\n",
              "</div>\n",
              "    <div class=\"colab-df-buttons\">\n",
              "\n",
              "  <div class=\"colab-df-container\">\n",
              "    <button class=\"colab-df-convert\" onclick=\"convertToInteractive('df-e7449baa-8d96-46b8-b832-2e1df5d3bf65')\"\n",
              "            title=\"Convert this dataframe to an interactive table.\"\n",
              "            style=\"display:none;\">\n",
              "\n",
              "  <svg xmlns=\"http://www.w3.org/2000/svg\" height=\"24px\" viewBox=\"0 -960 960 960\">\n",
              "    <path d=\"M120-120v-720h720v720H120Zm60-500h600v-160H180v160Zm220 220h160v-160H400v160Zm0 220h160v-160H400v160ZM180-400h160v-160H180v160Zm440 0h160v-160H620v160ZM180-180h160v-160H180v160Zm440 0h160v-160H620v160Z\"/>\n",
              "  </svg>\n",
              "    </button>\n",
              "\n",
              "  <style>\n",
              "    .colab-df-container {\n",
              "      display:flex;\n",
              "      gap: 12px;\n",
              "    }\n",
              "\n",
              "    .colab-df-convert {\n",
              "      background-color: #E8F0FE;\n",
              "      border: none;\n",
              "      border-radius: 50%;\n",
              "      cursor: pointer;\n",
              "      display: none;\n",
              "      fill: #1967D2;\n",
              "      height: 32px;\n",
              "      padding: 0 0 0 0;\n",
              "      width: 32px;\n",
              "    }\n",
              "\n",
              "    .colab-df-convert:hover {\n",
              "      background-color: #E2EBFA;\n",
              "      box-shadow: 0px 1px 2px rgba(60, 64, 67, 0.3), 0px 1px 3px 1px rgba(60, 64, 67, 0.15);\n",
              "      fill: #174EA6;\n",
              "    }\n",
              "\n",
              "    .colab-df-buttons div {\n",
              "      margin-bottom: 4px;\n",
              "    }\n",
              "\n",
              "    [theme=dark] .colab-df-convert {\n",
              "      background-color: #3B4455;\n",
              "      fill: #D2E3FC;\n",
              "    }\n",
              "\n",
              "    [theme=dark] .colab-df-convert:hover {\n",
              "      background-color: #434B5C;\n",
              "      box-shadow: 0px 1px 3px 1px rgba(0, 0, 0, 0.15);\n",
              "      filter: drop-shadow(0px 1px 2px rgba(0, 0, 0, 0.3));\n",
              "      fill: #FFFFFF;\n",
              "    }\n",
              "  </style>\n",
              "\n",
              "    <script>\n",
              "      const buttonEl =\n",
              "        document.querySelector('#df-e7449baa-8d96-46b8-b832-2e1df5d3bf65 button.colab-df-convert');\n",
              "      buttonEl.style.display =\n",
              "        google.colab.kernel.accessAllowed ? 'block' : 'none';\n",
              "\n",
              "      async function convertToInteractive(key) {\n",
              "        const element = document.querySelector('#df-e7449baa-8d96-46b8-b832-2e1df5d3bf65');\n",
              "        const dataTable =\n",
              "          await google.colab.kernel.invokeFunction('convertToInteractive',\n",
              "                                                    [key], {});\n",
              "        if (!dataTable) return;\n",
              "\n",
              "        const docLinkHtml = 'Like what you see? Visit the ' +\n",
              "          '<a target=\"_blank\" href=https://colab.research.google.com/notebooks/data_table.ipynb>data table notebook</a>'\n",
              "          + ' to learn more about interactive tables.';\n",
              "        element.innerHTML = '';\n",
              "        dataTable['output_type'] = 'display_data';\n",
              "        await google.colab.output.renderOutput(dataTable, element);\n",
              "        const docLink = document.createElement('div');\n",
              "        docLink.innerHTML = docLinkHtml;\n",
              "        element.appendChild(docLink);\n",
              "      }\n",
              "    </script>\n",
              "  </div>\n",
              "\n",
              "\n",
              "<div id=\"df-755023de-3e53-48de-8540-337af56dac39\">\n",
              "  <button class=\"colab-df-quickchart\" onclick=\"quickchart('df-755023de-3e53-48de-8540-337af56dac39')\"\n",
              "            title=\"Suggest charts\"\n",
              "            style=\"display:none;\">\n",
              "\n",
              "<svg xmlns=\"http://www.w3.org/2000/svg\" height=\"24px\"viewBox=\"0 0 24 24\"\n",
              "     width=\"24px\">\n",
              "    <g>\n",
              "        <path d=\"M19 3H5c-1.1 0-2 .9-2 2v14c0 1.1.9 2 2 2h14c1.1 0 2-.9 2-2V5c0-1.1-.9-2-2-2zM9 17H7v-7h2v7zm4 0h-2V7h2v10zm4 0h-2v-4h2v4z\"/>\n",
              "    </g>\n",
              "</svg>\n",
              "  </button>\n",
              "\n",
              "<style>\n",
              "  .colab-df-quickchart {\n",
              "      --bg-color: #E8F0FE;\n",
              "      --fill-color: #1967D2;\n",
              "      --hover-bg-color: #E2EBFA;\n",
              "      --hover-fill-color: #174EA6;\n",
              "      --disabled-fill-color: #AAA;\n",
              "      --disabled-bg-color: #DDD;\n",
              "  }\n",
              "\n",
              "  [theme=dark] .colab-df-quickchart {\n",
              "      --bg-color: #3B4455;\n",
              "      --fill-color: #D2E3FC;\n",
              "      --hover-bg-color: #434B5C;\n",
              "      --hover-fill-color: #FFFFFF;\n",
              "      --disabled-bg-color: #3B4455;\n",
              "      --disabled-fill-color: #666;\n",
              "  }\n",
              "\n",
              "  .colab-df-quickchart {\n",
              "    background-color: var(--bg-color);\n",
              "    border: none;\n",
              "    border-radius: 50%;\n",
              "    cursor: pointer;\n",
              "    display: none;\n",
              "    fill: var(--fill-color);\n",
              "    height: 32px;\n",
              "    padding: 0;\n",
              "    width: 32px;\n",
              "  }\n",
              "\n",
              "  .colab-df-quickchart:hover {\n",
              "    background-color: var(--hover-bg-color);\n",
              "    box-shadow: 0 1px 2px rgba(60, 64, 67, 0.3), 0 1px 3px 1px rgba(60, 64, 67, 0.15);\n",
              "    fill: var(--button-hover-fill-color);\n",
              "  }\n",
              "\n",
              "  .colab-df-quickchart-complete:disabled,\n",
              "  .colab-df-quickchart-complete:disabled:hover {\n",
              "    background-color: var(--disabled-bg-color);\n",
              "    fill: var(--disabled-fill-color);\n",
              "    box-shadow: none;\n",
              "  }\n",
              "\n",
              "  .colab-df-spinner {\n",
              "    border: 2px solid var(--fill-color);\n",
              "    border-color: transparent;\n",
              "    border-bottom-color: var(--fill-color);\n",
              "    animation:\n",
              "      spin 1s steps(1) infinite;\n",
              "  }\n",
              "\n",
              "  @keyframes spin {\n",
              "    0% {\n",
              "      border-color: transparent;\n",
              "      border-bottom-color: var(--fill-color);\n",
              "      border-left-color: var(--fill-color);\n",
              "    }\n",
              "    20% {\n",
              "      border-color: transparent;\n",
              "      border-left-color: var(--fill-color);\n",
              "      border-top-color: var(--fill-color);\n",
              "    }\n",
              "    30% {\n",
              "      border-color: transparent;\n",
              "      border-left-color: var(--fill-color);\n",
              "      border-top-color: var(--fill-color);\n",
              "      border-right-color: var(--fill-color);\n",
              "    }\n",
              "    40% {\n",
              "      border-color: transparent;\n",
              "      border-right-color: var(--fill-color);\n",
              "      border-top-color: var(--fill-color);\n",
              "    }\n",
              "    60% {\n",
              "      border-color: transparent;\n",
              "      border-right-color: var(--fill-color);\n",
              "    }\n",
              "    80% {\n",
              "      border-color: transparent;\n",
              "      border-right-color: var(--fill-color);\n",
              "      border-bottom-color: var(--fill-color);\n",
              "    }\n",
              "    90% {\n",
              "      border-color: transparent;\n",
              "      border-bottom-color: var(--fill-color);\n",
              "    }\n",
              "  }\n",
              "</style>\n",
              "\n",
              "  <script>\n",
              "    async function quickchart(key) {\n",
              "      const quickchartButtonEl =\n",
              "        document.querySelector('#' + key + ' button');\n",
              "      quickchartButtonEl.disabled = true;  // To prevent multiple clicks.\n",
              "      quickchartButtonEl.classList.add('colab-df-spinner');\n",
              "      try {\n",
              "        const charts = await google.colab.kernel.invokeFunction(\n",
              "            'suggestCharts', [key], {});\n",
              "      } catch (error) {\n",
              "        console.error('Error during call to suggestCharts:', error);\n",
              "      }\n",
              "      quickchartButtonEl.classList.remove('colab-df-spinner');\n",
              "      quickchartButtonEl.classList.add('colab-df-quickchart-complete');\n",
              "    }\n",
              "    (() => {\n",
              "      let quickchartButtonEl =\n",
              "        document.querySelector('#df-755023de-3e53-48de-8540-337af56dac39 button');\n",
              "      quickchartButtonEl.style.display =\n",
              "        google.colab.kernel.accessAllowed ? 'block' : 'none';\n",
              "    })();\n",
              "  </script>\n",
              "</div>\n",
              "\n",
              "    </div>\n",
              "  </div>\n"
            ],
            "application/vnd.google.colaboratory.intrinsic+json": {
              "type": "dataframe",
              "summary": "{\n  \"name\": \"metrics\",\n  \"rows\": 2,\n  \"fields\": [\n    {\n      \"column\": \"Avg-train-loss\",\n      \"properties\": {\n        \"dtype\": \"number\",\n        \"std\": 5.565527908863745e-06,\n        \"min\": 0.037807858346507926,\n        \"max\": 0.03781572919155841,\n        \"num_unique_values\": 2,\n        \"samples\": [\n          0.037807858346507926,\n          0.03781572919155841\n        ],\n        \"semantic_type\": \"\",\n        \"description\": \"\"\n      }\n    },\n    {\n      \"column\": \"Avg-train-accuracy\",\n      \"properties\": {\n        \"dtype\": \"number\",\n        \"std\": 0.0680365914063558,\n        \"min\": 0.7442957382623043,\n        \"max\": 0.8405140085668095,\n        \"num_unique_values\": 2,\n        \"samples\": [\n          0.8405140085668095,\n          0.7442957382623043\n        ],\n        \"semantic_type\": \"\",\n        \"description\": \"\"\n      }\n    },\n    {\n      \"column\": \"Avg-val-loss\",\n      \"properties\": {\n        \"dtype\": \"number\",\n        \"std\": 3.56281640390898e-06,\n        \"min\": 0.0379025873541832,\n        \"max\": 0.03790762593746185,\n        \"num_unique_values\": 2,\n        \"samples\": [\n          0.0379025873541832,\n          0.03790762593746185\n        ],\n        \"semantic_type\": \"\",\n        \"description\": \"\"\n      }\n    },\n    {\n      \"column\": \"Avg-val-accuracy\",\n      \"properties\": {\n        \"dtype\": \"number\",\n        \"std\": 0.029592418792656974,\n        \"min\": 0.81315,\n        \"max\": 0.855,\n        \"num_unique_values\": 2,\n        \"samples\": [\n          0.855,\n          0.81315\n        ],\n        \"semantic_type\": \"\",\n        \"description\": \"\"\n      }\n    }\n  ]\n}"
            }
          },
          "metadata": {},
          "execution_count": 39
        }
      ],
      "source": [
        "plotMetric(metrics, \"Avg-val-accuracy\")\n",
        "metrics.tail(3)"
      ]
    },
    {
      "cell_type": "markdown",
      "id": "732adf00",
      "metadata": {
        "id": "732adf00",
        "papermill": {
          "duration": 0.148084,
          "end_time": "2024-12-18T22:11:23.388751",
          "exception": false,
          "start_time": "2024-12-18T22:11:23.240667",
          "status": "completed"
        },
        "tags": []
      },
      "source": [
        "## Question Box (10pts + 5pts bonus)\n",
        "\n",
        "**1- Do we even need normalization for tasks like this? will they provide any accuracy gain? write what you think.**\n",
        "\n",
        "Normalization is often beneficial in tasks involving embeddings, such as contrastive learning. It ensures that the magnitude of the embeddings doesn't dominate the similarity calculations, allowing the model to focus on the direction (angle) between vectors. This can improve stability during training and lead to better accuracy, especially when using cosine similarity or dot products. However, the actual gain depends on the specific task and dataset. In many cases, normalization helps, but it's not always strictly necessary.\n",
        "\n",
        "\n",
        "\n",
        "**2- When training a neural network, what takes the memory? mention at least 4 things.**\n",
        "\n",
        "Training a neural network consumes memory due to several factors:\n",
        "\n",
        "Model parameters: The weights and biases of the network.\n",
        "\n",
        "Activations: Intermediate outputs from each layer during the forward pass, stored for backpropagation.\n",
        "\n",
        "Gradients: Computed during backpropagation to update the model parameters.\n",
        "\n",
        "Optimizer states: Additional memory used by optimizers like Adam (e.g., momentum, variance).\n",
        "\n",
        "Batch data: Input data and labels loaded into memory for each batch.\n",
        "\n",
        "\n",
        "**3- find out the actual Open Ai's training configuration of Clip model.**\n",
        "\n",
        "OpenAI's CLIP was trained with the following key configurations:\n",
        "\n",
        "Dataset: 400 million image-text pairs collected from the internet.\n",
        "\n",
        "Batch size: 32,768.\n",
        "\n",
        "Training steps: 32 epochs (approximately 13 billion samples).\n",
        "\n",
        "Optimizer: Adam with weight decay and gradient clipping.\n",
        "\n",
        "Learning rate: Warm-up followed by cosine decay.\n",
        "\n",
        "Model architecture: Vision Transformer (ViT) or ResNet for images and Transformer for text.\n",
        "\n",
        "Hardware: Trained on 592 V100 GPUs for 12 days.\n",
        "\n",
        "\n",
        "**4- We have an alternative clip's loss implementation, write its pseudocode.**\n",
        "\n",
        "\n",
        "```\n",
        "def clip_loss(image_embeddings, text_embeddings, temperature):\n",
        "    # Normalize embeddings\n",
        "    image_embeddings = normalize(image_embeddings)\n",
        "    text_embeddings = normalize(text_embeddings)\n",
        "\n",
        "    # Compute similarity matrix\n",
        "    logits = (image_embeddings @ text_embeddings.T) / temperature\n",
        "\n",
        "    # Create targets (identity matrix for perfect alignment)\n",
        "    batch_size = image_embeddings.shape[0]\n",
        "    targets = torch.arange(batch_size)\n",
        "\n",
        "    # Compute cross-entropy loss in both directions\n",
        "    loss_image = cross_entropy(logits, targets)\n",
        "    loss_text = cross_entropy(logits.T, targets)\n",
        "\n",
        "    # Symmetric loss\n",
        "    loss = (loss_image + loss_text) / 2\n",
        "    return loss\n",
        "```"
      ]
    }
  ],
  "metadata": {
    "accelerator": "GPU",
    "colab": {
      "gpuType": "T4",
      "provenance": []
    },
    "kaggle": {
      "accelerator": "nvidiaTeslaT4",
      "dataSources": [
        {
          "datasetId": 4600270,
          "sourceId": 7845742,
          "sourceType": "datasetVersion"
        },
        {
          "datasetId": 4600399,
          "sourceId": 7845904,
          "sourceType": "datasetVersion"
        }
      ],
      "dockerImageVersionId": 30805,
      "isGpuEnabled": true,
      "isInternetEnabled": true,
      "language": "python",
      "sourceType": "notebook"
    },
    "kernelspec": {
      "display_name": "Python 3",
      "language": "python",
      "name": "python3"
    },
    "language_info": {
      "codemirror_mode": {
        "name": "ipython",
        "version": 3
      },
      "file_extension": ".py",
      "mimetype": "text/x-python",
      "name": "python",
      "nbconvert_exporter": "python",
      "pygments_lexer": "ipython3",
      "version": "3.10.14"
    },
    "papermill": {
      "default_parameters": {},
      "duration": 17879.671693,
      "end_time": "2024-12-18T22:11:27.581599",
      "environment_variables": {},
      "exception": null,
      "input_path": "__notebook__.ipynb",
      "output_path": "__notebook__.ipynb",
      "parameters": {},
      "start_time": "2024-12-18T17:13:27.909906",
      "version": "2.6.0"
    },
    "widgets": {
      "application/vnd.jupyter.widget-state+json": {
        "85da909179f745ceacbfb6215132b459": {
          "model_module": "@jupyter-widgets/controls",
          "model_name": "HBoxModel",
          "model_module_version": "1.5.0",
          "state": {
            "_dom_classes": [],
            "_model_module": "@jupyter-widgets/controls",
            "_model_module_version": "1.5.0",
            "_model_name": "HBoxModel",
            "_view_count": null,
            "_view_module": "@jupyter-widgets/controls",
            "_view_module_version": "1.5.0",
            "_view_name": "HBoxView",
            "box_style": "",
            "children": [
              "IPY_MODEL_1b80bee4fb9c4147a2aa24e58491bd35",
              "IPY_MODEL_be26f09b2348485fbc1f0813e8974016",
              "IPY_MODEL_5e2606ddc44d44f186809083e17ae028"
            ],
            "layout": "IPY_MODEL_9cdb98d1dc5f47b39ebf1dc9aff067a6"
          }
        },
        "1b80bee4fb9c4147a2aa24e58491bd35": {
          "model_module": "@jupyter-widgets/controls",
          "model_name": "HTMLModel",
          "model_module_version": "1.5.0",
          "state": {
            "_dom_classes": [],
            "_model_module": "@jupyter-widgets/controls",
            "_model_module_version": "1.5.0",
            "_model_name": "HTMLModel",
            "_view_count": null,
            "_view_module": "@jupyter-widgets/controls",
            "_view_module_version": "1.5.0",
            "_view_name": "HTMLView",
            "description": "",
            "description_tooltip": null,
            "layout": "IPY_MODEL_447a41d14d254166af60ddbc7fd951b1",
            "placeholder": "​",
            "style": "IPY_MODEL_a2ec793b3c93408ebe8452575736a48b",
            "value": "Map: 100%"
          }
        },
        "be26f09b2348485fbc1f0813e8974016": {
          "model_module": "@jupyter-widgets/controls",
          "model_name": "FloatProgressModel",
          "model_module_version": "1.5.0",
          "state": {
            "_dom_classes": [],
            "_model_module": "@jupyter-widgets/controls",
            "_model_module_version": "1.5.0",
            "_model_name": "FloatProgressModel",
            "_view_count": null,
            "_view_module": "@jupyter-widgets/controls",
            "_view_module_version": "1.5.0",
            "_view_name": "ProgressView",
            "bar_style": "success",
            "description": "",
            "description_tooltip": null,
            "layout": "IPY_MODEL_f1dcd7f2376540d7b100f9040c40097e",
            "max": 59999,
            "min": 0,
            "orientation": "horizontal",
            "style": "IPY_MODEL_f4a100ae6d96487e8dc224d772544f7e",
            "value": 59999
          }
        },
        "5e2606ddc44d44f186809083e17ae028": {
          "model_module": "@jupyter-widgets/controls",
          "model_name": "HTMLModel",
          "model_module_version": "1.5.0",
          "state": {
            "_dom_classes": [],
            "_model_module": "@jupyter-widgets/controls",
            "_model_module_version": "1.5.0",
            "_model_name": "HTMLModel",
            "_view_count": null,
            "_view_module": "@jupyter-widgets/controls",
            "_view_module_version": "1.5.0",
            "_view_name": "HTMLView",
            "description": "",
            "description_tooltip": null,
            "layout": "IPY_MODEL_1e1a90f7527940ba9636680388d9edb3",
            "placeholder": "​",
            "style": "IPY_MODEL_94be62d5d6c44f77907c394e6fc71ecf",
            "value": " 59999/59999 [00:03&lt;00:00, 12638.81 examples/s]"
          }
        },
        "9cdb98d1dc5f47b39ebf1dc9aff067a6": {
          "model_module": "@jupyter-widgets/base",
          "model_name": "LayoutModel",
          "model_module_version": "1.2.0",
          "state": {
            "_model_module": "@jupyter-widgets/base",
            "_model_module_version": "1.2.0",
            "_model_name": "LayoutModel",
            "_view_count": null,
            "_view_module": "@jupyter-widgets/base",
            "_view_module_version": "1.2.0",
            "_view_name": "LayoutView",
            "align_content": null,
            "align_items": null,
            "align_self": null,
            "border": null,
            "bottom": null,
            "display": null,
            "flex": null,
            "flex_flow": null,
            "grid_area": null,
            "grid_auto_columns": null,
            "grid_auto_flow": null,
            "grid_auto_rows": null,
            "grid_column": null,
            "grid_gap": null,
            "grid_row": null,
            "grid_template_areas": null,
            "grid_template_columns": null,
            "grid_template_rows": null,
            "height": null,
            "justify_content": null,
            "justify_items": null,
            "left": null,
            "margin": null,
            "max_height": null,
            "max_width": null,
            "min_height": null,
            "min_width": null,
            "object_fit": null,
            "object_position": null,
            "order": null,
            "overflow": null,
            "overflow_x": null,
            "overflow_y": null,
            "padding": null,
            "right": null,
            "top": null,
            "visibility": null,
            "width": null
          }
        },
        "447a41d14d254166af60ddbc7fd951b1": {
          "model_module": "@jupyter-widgets/base",
          "model_name": "LayoutModel",
          "model_module_version": "1.2.0",
          "state": {
            "_model_module": "@jupyter-widgets/base",
            "_model_module_version": "1.2.0",
            "_model_name": "LayoutModel",
            "_view_count": null,
            "_view_module": "@jupyter-widgets/base",
            "_view_module_version": "1.2.0",
            "_view_name": "LayoutView",
            "align_content": null,
            "align_items": null,
            "align_self": null,
            "border": null,
            "bottom": null,
            "display": null,
            "flex": null,
            "flex_flow": null,
            "grid_area": null,
            "grid_auto_columns": null,
            "grid_auto_flow": null,
            "grid_auto_rows": null,
            "grid_column": null,
            "grid_gap": null,
            "grid_row": null,
            "grid_template_areas": null,
            "grid_template_columns": null,
            "grid_template_rows": null,
            "height": null,
            "justify_content": null,
            "justify_items": null,
            "left": null,
            "margin": null,
            "max_height": null,
            "max_width": null,
            "min_height": null,
            "min_width": null,
            "object_fit": null,
            "object_position": null,
            "order": null,
            "overflow": null,
            "overflow_x": null,
            "overflow_y": null,
            "padding": null,
            "right": null,
            "top": null,
            "visibility": null,
            "width": null
          }
        },
        "a2ec793b3c93408ebe8452575736a48b": {
          "model_module": "@jupyter-widgets/controls",
          "model_name": "DescriptionStyleModel",
          "model_module_version": "1.5.0",
          "state": {
            "_model_module": "@jupyter-widgets/controls",
            "_model_module_version": "1.5.0",
            "_model_name": "DescriptionStyleModel",
            "_view_count": null,
            "_view_module": "@jupyter-widgets/base",
            "_view_module_version": "1.2.0",
            "_view_name": "StyleView",
            "description_width": ""
          }
        },
        "f1dcd7f2376540d7b100f9040c40097e": {
          "model_module": "@jupyter-widgets/base",
          "model_name": "LayoutModel",
          "model_module_version": "1.2.0",
          "state": {
            "_model_module": "@jupyter-widgets/base",
            "_model_module_version": "1.2.0",
            "_model_name": "LayoutModel",
            "_view_count": null,
            "_view_module": "@jupyter-widgets/base",
            "_view_module_version": "1.2.0",
            "_view_name": "LayoutView",
            "align_content": null,
            "align_items": null,
            "align_self": null,
            "border": null,
            "bottom": null,
            "display": null,
            "flex": null,
            "flex_flow": null,
            "grid_area": null,
            "grid_auto_columns": null,
            "grid_auto_flow": null,
            "grid_auto_rows": null,
            "grid_column": null,
            "grid_gap": null,
            "grid_row": null,
            "grid_template_areas": null,
            "grid_template_columns": null,
            "grid_template_rows": null,
            "height": null,
            "justify_content": null,
            "justify_items": null,
            "left": null,
            "margin": null,
            "max_height": null,
            "max_width": null,
            "min_height": null,
            "min_width": null,
            "object_fit": null,
            "object_position": null,
            "order": null,
            "overflow": null,
            "overflow_x": null,
            "overflow_y": null,
            "padding": null,
            "right": null,
            "top": null,
            "visibility": null,
            "width": null
          }
        },
        "f4a100ae6d96487e8dc224d772544f7e": {
          "model_module": "@jupyter-widgets/controls",
          "model_name": "ProgressStyleModel",
          "model_module_version": "1.5.0",
          "state": {
            "_model_module": "@jupyter-widgets/controls",
            "_model_module_version": "1.5.0",
            "_model_name": "ProgressStyleModel",
            "_view_count": null,
            "_view_module": "@jupyter-widgets/base",
            "_view_module_version": "1.2.0",
            "_view_name": "StyleView",
            "bar_color": null,
            "description_width": ""
          }
        },
        "1e1a90f7527940ba9636680388d9edb3": {
          "model_module": "@jupyter-widgets/base",
          "model_name": "LayoutModel",
          "model_module_version": "1.2.0",
          "state": {
            "_model_module": "@jupyter-widgets/base",
            "_model_module_version": "1.2.0",
            "_model_name": "LayoutModel",
            "_view_count": null,
            "_view_module": "@jupyter-widgets/base",
            "_view_module_version": "1.2.0",
            "_view_name": "LayoutView",
            "align_content": null,
            "align_items": null,
            "align_self": null,
            "border": null,
            "bottom": null,
            "display": null,
            "flex": null,
            "flex_flow": null,
            "grid_area": null,
            "grid_auto_columns": null,
            "grid_auto_flow": null,
            "grid_auto_rows": null,
            "grid_column": null,
            "grid_gap": null,
            "grid_row": null,
            "grid_template_areas": null,
            "grid_template_columns": null,
            "grid_template_rows": null,
            "height": null,
            "justify_content": null,
            "justify_items": null,
            "left": null,
            "margin": null,
            "max_height": null,
            "max_width": null,
            "min_height": null,
            "min_width": null,
            "object_fit": null,
            "object_position": null,
            "order": null,
            "overflow": null,
            "overflow_x": null,
            "overflow_y": null,
            "padding": null,
            "right": null,
            "top": null,
            "visibility": null,
            "width": null
          }
        },
        "94be62d5d6c44f77907c394e6fc71ecf": {
          "model_module": "@jupyter-widgets/controls",
          "model_name": "DescriptionStyleModel",
          "model_module_version": "1.5.0",
          "state": {
            "_model_module": "@jupyter-widgets/controls",
            "_model_module_version": "1.5.0",
            "_model_name": "DescriptionStyleModel",
            "_view_count": null,
            "_view_module": "@jupyter-widgets/base",
            "_view_module_version": "1.2.0",
            "_view_name": "StyleView",
            "description_width": ""
          }
        },
        "88ceedd9917947b6a2c619e6acaf9450": {
          "model_module": "@jupyter-widgets/controls",
          "model_name": "HBoxModel",
          "model_module_version": "1.5.0",
          "state": {
            "_dom_classes": [],
            "_model_module": "@jupyter-widgets/controls",
            "_model_module_version": "1.5.0",
            "_model_name": "HBoxModel",
            "_view_count": null,
            "_view_module": "@jupyter-widgets/controls",
            "_view_module_version": "1.5.0",
            "_view_name": "HBoxView",
            "box_style": "",
            "children": [
              "IPY_MODEL_19dbf5ced9684c5f911a8ed11555a120",
              "IPY_MODEL_366c3d94f3f44bdf8c41d0eb93754462",
              "IPY_MODEL_7a54363ce2524977afe9f4c497818c3a"
            ],
            "layout": "IPY_MODEL_e6d763d29bcf49e68fe0eb7e18c1b67f"
          }
        },
        "19dbf5ced9684c5f911a8ed11555a120": {
          "model_module": "@jupyter-widgets/controls",
          "model_name": "HTMLModel",
          "model_module_version": "1.5.0",
          "state": {
            "_dom_classes": [],
            "_model_module": "@jupyter-widgets/controls",
            "_model_module_version": "1.5.0",
            "_model_name": "HTMLModel",
            "_view_count": null,
            "_view_module": "@jupyter-widgets/controls",
            "_view_module_version": "1.5.0",
            "_view_name": "HTMLView",
            "description": "",
            "description_tooltip": null,
            "layout": "IPY_MODEL_5e14d51842c9439a92b02000201cd227",
            "placeholder": "​",
            "style": "IPY_MODEL_6bba4afa020b491ead2ef2852a7a2489",
            "value": "Map: 100%"
          }
        },
        "366c3d94f3f44bdf8c41d0eb93754462": {
          "model_module": "@jupyter-widgets/controls",
          "model_name": "FloatProgressModel",
          "model_module_version": "1.5.0",
          "state": {
            "_dom_classes": [],
            "_model_module": "@jupyter-widgets/controls",
            "_model_module_version": "1.5.0",
            "_model_name": "FloatProgressModel",
            "_view_count": null,
            "_view_module": "@jupyter-widgets/controls",
            "_view_module_version": "1.5.0",
            "_view_name": "ProgressView",
            "bar_style": "success",
            "description": "",
            "description_tooltip": null,
            "layout": "IPY_MODEL_84f0ac8fb4524e3996ff1420cad64031",
            "max": 20000,
            "min": 0,
            "orientation": "horizontal",
            "style": "IPY_MODEL_938f2158deac469b99f07e214e53be3a",
            "value": 20000
          }
        },
        "7a54363ce2524977afe9f4c497818c3a": {
          "model_module": "@jupyter-widgets/controls",
          "model_name": "HTMLModel",
          "model_module_version": "1.5.0",
          "state": {
            "_dom_classes": [],
            "_model_module": "@jupyter-widgets/controls",
            "_model_module_version": "1.5.0",
            "_model_name": "HTMLModel",
            "_view_count": null,
            "_view_module": "@jupyter-widgets/controls",
            "_view_module_version": "1.5.0",
            "_view_name": "HTMLView",
            "description": "",
            "description_tooltip": null,
            "layout": "IPY_MODEL_28f2730db2ec468fb41a0077cbbec9db",
            "placeholder": "​",
            "style": "IPY_MODEL_6530ffdab91b4558858dc114c3fe1fb1",
            "value": " 20000/20000 [00:01&lt;00:00, 10676.62 examples/s]"
          }
        },
        "e6d763d29bcf49e68fe0eb7e18c1b67f": {
          "model_module": "@jupyter-widgets/base",
          "model_name": "LayoutModel",
          "model_module_version": "1.2.0",
          "state": {
            "_model_module": "@jupyter-widgets/base",
            "_model_module_version": "1.2.0",
            "_model_name": "LayoutModel",
            "_view_count": null,
            "_view_module": "@jupyter-widgets/base",
            "_view_module_version": "1.2.0",
            "_view_name": "LayoutView",
            "align_content": null,
            "align_items": null,
            "align_self": null,
            "border": null,
            "bottom": null,
            "display": null,
            "flex": null,
            "flex_flow": null,
            "grid_area": null,
            "grid_auto_columns": null,
            "grid_auto_flow": null,
            "grid_auto_rows": null,
            "grid_column": null,
            "grid_gap": null,
            "grid_row": null,
            "grid_template_areas": null,
            "grid_template_columns": null,
            "grid_template_rows": null,
            "height": null,
            "justify_content": null,
            "justify_items": null,
            "left": null,
            "margin": null,
            "max_height": null,
            "max_width": null,
            "min_height": null,
            "min_width": null,
            "object_fit": null,
            "object_position": null,
            "order": null,
            "overflow": null,
            "overflow_x": null,
            "overflow_y": null,
            "padding": null,
            "right": null,
            "top": null,
            "visibility": null,
            "width": null
          }
        },
        "5e14d51842c9439a92b02000201cd227": {
          "model_module": "@jupyter-widgets/base",
          "model_name": "LayoutModel",
          "model_module_version": "1.2.0",
          "state": {
            "_model_module": "@jupyter-widgets/base",
            "_model_module_version": "1.2.0",
            "_model_name": "LayoutModel",
            "_view_count": null,
            "_view_module": "@jupyter-widgets/base",
            "_view_module_version": "1.2.0",
            "_view_name": "LayoutView",
            "align_content": null,
            "align_items": null,
            "align_self": null,
            "border": null,
            "bottom": null,
            "display": null,
            "flex": null,
            "flex_flow": null,
            "grid_area": null,
            "grid_auto_columns": null,
            "grid_auto_flow": null,
            "grid_auto_rows": null,
            "grid_column": null,
            "grid_gap": null,
            "grid_row": null,
            "grid_template_areas": null,
            "grid_template_columns": null,
            "grid_template_rows": null,
            "height": null,
            "justify_content": null,
            "justify_items": null,
            "left": null,
            "margin": null,
            "max_height": null,
            "max_width": null,
            "min_height": null,
            "min_width": null,
            "object_fit": null,
            "object_position": null,
            "order": null,
            "overflow": null,
            "overflow_x": null,
            "overflow_y": null,
            "padding": null,
            "right": null,
            "top": null,
            "visibility": null,
            "width": null
          }
        },
        "6bba4afa020b491ead2ef2852a7a2489": {
          "model_module": "@jupyter-widgets/controls",
          "model_name": "DescriptionStyleModel",
          "model_module_version": "1.5.0",
          "state": {
            "_model_module": "@jupyter-widgets/controls",
            "_model_module_version": "1.5.0",
            "_model_name": "DescriptionStyleModel",
            "_view_count": null,
            "_view_module": "@jupyter-widgets/base",
            "_view_module_version": "1.2.0",
            "_view_name": "StyleView",
            "description_width": ""
          }
        },
        "84f0ac8fb4524e3996ff1420cad64031": {
          "model_module": "@jupyter-widgets/base",
          "model_name": "LayoutModel",
          "model_module_version": "1.2.0",
          "state": {
            "_model_module": "@jupyter-widgets/base",
            "_model_module_version": "1.2.0",
            "_model_name": "LayoutModel",
            "_view_count": null,
            "_view_module": "@jupyter-widgets/base",
            "_view_module_version": "1.2.0",
            "_view_name": "LayoutView",
            "align_content": null,
            "align_items": null,
            "align_self": null,
            "border": null,
            "bottom": null,
            "display": null,
            "flex": null,
            "flex_flow": null,
            "grid_area": null,
            "grid_auto_columns": null,
            "grid_auto_flow": null,
            "grid_auto_rows": null,
            "grid_column": null,
            "grid_gap": null,
            "grid_row": null,
            "grid_template_areas": null,
            "grid_template_columns": null,
            "grid_template_rows": null,
            "height": null,
            "justify_content": null,
            "justify_items": null,
            "left": null,
            "margin": null,
            "max_height": null,
            "max_width": null,
            "min_height": null,
            "min_width": null,
            "object_fit": null,
            "object_position": null,
            "order": null,
            "overflow": null,
            "overflow_x": null,
            "overflow_y": null,
            "padding": null,
            "right": null,
            "top": null,
            "visibility": null,
            "width": null
          }
        },
        "938f2158deac469b99f07e214e53be3a": {
          "model_module": "@jupyter-widgets/controls",
          "model_name": "ProgressStyleModel",
          "model_module_version": "1.5.0",
          "state": {
            "_model_module": "@jupyter-widgets/controls",
            "_model_module_version": "1.5.0",
            "_model_name": "ProgressStyleModel",
            "_view_count": null,
            "_view_module": "@jupyter-widgets/base",
            "_view_module_version": "1.2.0",
            "_view_name": "StyleView",
            "bar_color": null,
            "description_width": ""
          }
        },
        "28f2730db2ec468fb41a0077cbbec9db": {
          "model_module": "@jupyter-widgets/base",
          "model_name": "LayoutModel",
          "model_module_version": "1.2.0",
          "state": {
            "_model_module": "@jupyter-widgets/base",
            "_model_module_version": "1.2.0",
            "_model_name": "LayoutModel",
            "_view_count": null,
            "_view_module": "@jupyter-widgets/base",
            "_view_module_version": "1.2.0",
            "_view_name": "LayoutView",
            "align_content": null,
            "align_items": null,
            "align_self": null,
            "border": null,
            "bottom": null,
            "display": null,
            "flex": null,
            "flex_flow": null,
            "grid_area": null,
            "grid_auto_columns": null,
            "grid_auto_flow": null,
            "grid_auto_rows": null,
            "grid_column": null,
            "grid_gap": null,
            "grid_row": null,
            "grid_template_areas": null,
            "grid_template_columns": null,
            "grid_template_rows": null,
            "height": null,
            "justify_content": null,
            "justify_items": null,
            "left": null,
            "margin": null,
            "max_height": null,
            "max_width": null,
            "min_height": null,
            "min_width": null,
            "object_fit": null,
            "object_position": null,
            "order": null,
            "overflow": null,
            "overflow_x": null,
            "overflow_y": null,
            "padding": null,
            "right": null,
            "top": null,
            "visibility": null,
            "width": null
          }
        },
        "6530ffdab91b4558858dc114c3fe1fb1": {
          "model_module": "@jupyter-widgets/controls",
          "model_name": "DescriptionStyleModel",
          "model_module_version": "1.5.0",
          "state": {
            "_model_module": "@jupyter-widgets/controls",
            "_model_module_version": "1.5.0",
            "_model_name": "DescriptionStyleModel",
            "_view_count": null,
            "_view_module": "@jupyter-widgets/base",
            "_view_module_version": "1.2.0",
            "_view_name": "StyleView",
            "description_width": ""
          }
        },
        "4fcf46bab8ea4906bda4a703ebfa9d34": {
          "model_module": "@jupyter-widgets/controls",
          "model_name": "HBoxModel",
          "model_module_version": "1.5.0",
          "state": {
            "_dom_classes": [],
            "_model_module": "@jupyter-widgets/controls",
            "_model_module_version": "1.5.0",
            "_model_name": "HBoxModel",
            "_view_count": null,
            "_view_module": "@jupyter-widgets/controls",
            "_view_module_version": "1.5.0",
            "_view_name": "HBoxView",
            "box_style": "",
            "children": [
              "IPY_MODEL_9a5b9ba702fc44aea65b89f766887b36",
              "IPY_MODEL_648b0330d11f4d16a8dd6a435a5c90fc",
              "IPY_MODEL_b660dcc491c24b7db365b7535c4e0064"
            ],
            "layout": "IPY_MODEL_84e9ca8dc380406a93b0bd7dcfb59a70"
          }
        },
        "9a5b9ba702fc44aea65b89f766887b36": {
          "model_module": "@jupyter-widgets/controls",
          "model_name": "HTMLModel",
          "model_module_version": "1.5.0",
          "state": {
            "_dom_classes": [],
            "_model_module": "@jupyter-widgets/controls",
            "_model_module_version": "1.5.0",
            "_model_name": "HTMLModel",
            "_view_count": null,
            "_view_module": "@jupyter-widgets/controls",
            "_view_module_version": "1.5.0",
            "_view_name": "HTMLView",
            "description": "",
            "description_tooltip": null,
            "layout": "IPY_MODEL_f5326def3ba34b77b312eb2ce38cb5f8",
            "placeholder": "​",
            "style": "IPY_MODEL_df33ae3e9d8a4c3ca09082341fe4ee43",
            "value": "model.safetensors: 100%"
          }
        },
        "648b0330d11f4d16a8dd6a435a5c90fc": {
          "model_module": "@jupyter-widgets/controls",
          "model_name": "FloatProgressModel",
          "model_module_version": "1.5.0",
          "state": {
            "_dom_classes": [],
            "_model_module": "@jupyter-widgets/controls",
            "_model_module_version": "1.5.0",
            "_model_name": "FloatProgressModel",
            "_view_count": null,
            "_view_module": "@jupyter-widgets/controls",
            "_view_module_version": "1.5.0",
            "_view_name": "ProgressView",
            "bar_style": "success",
            "description": "",
            "description_tooltip": null,
            "layout": "IPY_MODEL_59c57d06fad4444899fdf6042e81b953",
            "max": 876713920,
            "min": 0,
            "orientation": "horizontal",
            "style": "IPY_MODEL_8fe82777f6f646cc8cef75d4f56c5309",
            "value": 876713920
          }
        },
        "b660dcc491c24b7db365b7535c4e0064": {
          "model_module": "@jupyter-widgets/controls",
          "model_name": "HTMLModel",
          "model_module_version": "1.5.0",
          "state": {
            "_dom_classes": [],
            "_model_module": "@jupyter-widgets/controls",
            "_model_module_version": "1.5.0",
            "_model_name": "HTMLModel",
            "_view_count": null,
            "_view_module": "@jupyter-widgets/controls",
            "_view_module_version": "1.5.0",
            "_view_name": "HTMLView",
            "description": "",
            "description_tooltip": null,
            "layout": "IPY_MODEL_cf8f2e2e85fe4179a2c150e25f97abce",
            "placeholder": "​",
            "style": "IPY_MODEL_96751e6413f8473f8353deb35206f016",
            "value": " 877M/877M [00:15&lt;00:00, 180MB/s]"
          }
        },
        "84e9ca8dc380406a93b0bd7dcfb59a70": {
          "model_module": "@jupyter-widgets/base",
          "model_name": "LayoutModel",
          "model_module_version": "1.2.0",
          "state": {
            "_model_module": "@jupyter-widgets/base",
            "_model_module_version": "1.2.0",
            "_model_name": "LayoutModel",
            "_view_count": null,
            "_view_module": "@jupyter-widgets/base",
            "_view_module_version": "1.2.0",
            "_view_name": "LayoutView",
            "align_content": null,
            "align_items": null,
            "align_self": null,
            "border": null,
            "bottom": null,
            "display": null,
            "flex": null,
            "flex_flow": null,
            "grid_area": null,
            "grid_auto_columns": null,
            "grid_auto_flow": null,
            "grid_auto_rows": null,
            "grid_column": null,
            "grid_gap": null,
            "grid_row": null,
            "grid_template_areas": null,
            "grid_template_columns": null,
            "grid_template_rows": null,
            "height": null,
            "justify_content": null,
            "justify_items": null,
            "left": null,
            "margin": null,
            "max_height": null,
            "max_width": null,
            "min_height": null,
            "min_width": null,
            "object_fit": null,
            "object_position": null,
            "order": null,
            "overflow": null,
            "overflow_x": null,
            "overflow_y": null,
            "padding": null,
            "right": null,
            "top": null,
            "visibility": null,
            "width": null
          }
        },
        "f5326def3ba34b77b312eb2ce38cb5f8": {
          "model_module": "@jupyter-widgets/base",
          "model_name": "LayoutModel",
          "model_module_version": "1.2.0",
          "state": {
            "_model_module": "@jupyter-widgets/base",
            "_model_module_version": "1.2.0",
            "_model_name": "LayoutModel",
            "_view_count": null,
            "_view_module": "@jupyter-widgets/base",
            "_view_module_version": "1.2.0",
            "_view_name": "LayoutView",
            "align_content": null,
            "align_items": null,
            "align_self": null,
            "border": null,
            "bottom": null,
            "display": null,
            "flex": null,
            "flex_flow": null,
            "grid_area": null,
            "grid_auto_columns": null,
            "grid_auto_flow": null,
            "grid_auto_rows": null,
            "grid_column": null,
            "grid_gap": null,
            "grid_row": null,
            "grid_template_areas": null,
            "grid_template_columns": null,
            "grid_template_rows": null,
            "height": null,
            "justify_content": null,
            "justify_items": null,
            "left": null,
            "margin": null,
            "max_height": null,
            "max_width": null,
            "min_height": null,
            "min_width": null,
            "object_fit": null,
            "object_position": null,
            "order": null,
            "overflow": null,
            "overflow_x": null,
            "overflow_y": null,
            "padding": null,
            "right": null,
            "top": null,
            "visibility": null,
            "width": null
          }
        },
        "df33ae3e9d8a4c3ca09082341fe4ee43": {
          "model_module": "@jupyter-widgets/controls",
          "model_name": "DescriptionStyleModel",
          "model_module_version": "1.5.0",
          "state": {
            "_model_module": "@jupyter-widgets/controls",
            "_model_module_version": "1.5.0",
            "_model_name": "DescriptionStyleModel",
            "_view_count": null,
            "_view_module": "@jupyter-widgets/base",
            "_view_module_version": "1.2.0",
            "_view_name": "StyleView",
            "description_width": ""
          }
        },
        "59c57d06fad4444899fdf6042e81b953": {
          "model_module": "@jupyter-widgets/base",
          "model_name": "LayoutModel",
          "model_module_version": "1.2.0",
          "state": {
            "_model_module": "@jupyter-widgets/base",
            "_model_module_version": "1.2.0",
            "_model_name": "LayoutModel",
            "_view_count": null,
            "_view_module": "@jupyter-widgets/base",
            "_view_module_version": "1.2.0",
            "_view_name": "LayoutView",
            "align_content": null,
            "align_items": null,
            "align_self": null,
            "border": null,
            "bottom": null,
            "display": null,
            "flex": null,
            "flex_flow": null,
            "grid_area": null,
            "grid_auto_columns": null,
            "grid_auto_flow": null,
            "grid_auto_rows": null,
            "grid_column": null,
            "grid_gap": null,
            "grid_row": null,
            "grid_template_areas": null,
            "grid_template_columns": null,
            "grid_template_rows": null,
            "height": null,
            "justify_content": null,
            "justify_items": null,
            "left": null,
            "margin": null,
            "max_height": null,
            "max_width": null,
            "min_height": null,
            "min_width": null,
            "object_fit": null,
            "object_position": null,
            "order": null,
            "overflow": null,
            "overflow_x": null,
            "overflow_y": null,
            "padding": null,
            "right": null,
            "top": null,
            "visibility": null,
            "width": null
          }
        },
        "8fe82777f6f646cc8cef75d4f56c5309": {
          "model_module": "@jupyter-widgets/controls",
          "model_name": "ProgressStyleModel",
          "model_module_version": "1.5.0",
          "state": {
            "_model_module": "@jupyter-widgets/controls",
            "_model_module_version": "1.5.0",
            "_model_name": "ProgressStyleModel",
            "_view_count": null,
            "_view_module": "@jupyter-widgets/base",
            "_view_module_version": "1.2.0",
            "_view_name": "StyleView",
            "bar_color": null,
            "description_width": ""
          }
        },
        "cf8f2e2e85fe4179a2c150e25f97abce": {
          "model_module": "@jupyter-widgets/base",
          "model_name": "LayoutModel",
          "model_module_version": "1.2.0",
          "state": {
            "_model_module": "@jupyter-widgets/base",
            "_model_module_version": "1.2.0",
            "_model_name": "LayoutModel",
            "_view_count": null,
            "_view_module": "@jupyter-widgets/base",
            "_view_module_version": "1.2.0",
            "_view_name": "LayoutView",
            "align_content": null,
            "align_items": null,
            "align_self": null,
            "border": null,
            "bottom": null,
            "display": null,
            "flex": null,
            "flex_flow": null,
            "grid_area": null,
            "grid_auto_columns": null,
            "grid_auto_flow": null,
            "grid_auto_rows": null,
            "grid_column": null,
            "grid_gap": null,
            "grid_row": null,
            "grid_template_areas": null,
            "grid_template_columns": null,
            "grid_template_rows": null,
            "height": null,
            "justify_content": null,
            "justify_items": null,
            "left": null,
            "margin": null,
            "max_height": null,
            "max_width": null,
            "min_height": null,
            "min_width": null,
            "object_fit": null,
            "object_position": null,
            "order": null,
            "overflow": null,
            "overflow_x": null,
            "overflow_y": null,
            "padding": null,
            "right": null,
            "top": null,
            "visibility": null,
            "width": null
          }
        },
        "96751e6413f8473f8353deb35206f016": {
          "model_module": "@jupyter-widgets/controls",
          "model_name": "DescriptionStyleModel",
          "model_module_version": "1.5.0",
          "state": {
            "_model_module": "@jupyter-widgets/controls",
            "_model_module_version": "1.5.0",
            "_model_name": "DescriptionStyleModel",
            "_view_count": null,
            "_view_module": "@jupyter-widgets/base",
            "_view_module_version": "1.2.0",
            "_view_name": "StyleView",
            "description_width": ""
          }
        }
      }
    }
  },
  "nbformat": 4,
  "nbformat_minor": 5
}